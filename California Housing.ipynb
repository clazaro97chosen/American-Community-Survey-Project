{
 "cells": [
  {
   "cell_type": "markdown",
   "metadata": {},
   "source": [
    "Welcome!  This notebook is a Data Science/Machine Learning Project\n",
    "\n"
   ]
  },
  {
   "cell_type": "markdown",
   "metadata": {},
   "source": [
    "# Framing the Problem and Looking at the Big Picture"
   ]
  },
  {
   "cell_type": "markdown",
   "metadata": {},
   "source": [
    "The objective of this project is to build a model of median rental rates in California using city\n",
    "data from Towncharts.com which provides information that is collated from a large variety of government agencies and public data sources.\n",
    "<br>\n",
    "Hypothetically, this model would be created to benefit and serve a particular purpose in a company.\n",
    "Which in turn would determine the specifications and approach in your project\n",
    "\n",
    "In this project our superviser Adam Smith has told us that our model's output will be fed to another Machine Learning system along with many other signals. This downstream system will provide current property owners with insights towards determining their rental amount. Getting this right is critical, you want to ensure that the price is low enough to attract applicants, while high enough to cover costs. Pricing units lower may result in problematic tenants, but higher prices can lead to longer vacancies."
   ]
  },
  {
   "cell_type": "markdown",
   "metadata": {},
   "source": [
    "What are the current solutions/workarounds: Mr.Smith says that currently the estimates of median rental rates are outsourced. This is costly and their estimates are off by more than 200 dollars. \n",
    "That is why the company has chosen to investigate if an in house estimate based on publicly available data can come as close or improve upon the outsourced estimates.\n"
   ]
  },
  {
   "cell_type": "markdown",
   "metadata": {},
   "source": [
    "My project is a typical supervised learning task given the fact that the\n",
    "training examples are labeled (each instance comes with the expected output i.e, the cities median rental rate).\n",
    "Moreover, we are asked to predict the value of $Y$ (median rental rate) using $X_{1}...X_{m}$ where **m** = *number of features*. This task is a a typical regression task in particualr a multiple regression problem. Additionally, seeing as there is no continous flow of data coming in the ML system, we need not adjust to changing data rapidly, and the data is small enough to fit in memory,so plain batch learning should do just fine.\n"
   ]
  },
  {
   "cell_type": "markdown",
   "metadata": {},
   "source": [
    "We need a performance measure of our ML system. We have chosen in this case to select the Root Mean Square Error(RMSE).This performance measure will be aligned with the business objective as it will give an idea of how much error the system typically makes in its predictions. Our minimum performance needed to reach the business objective would be a RMSE of less than or equal to 200\n",
    ".$RMSE(X,h) = \\sqrt{ \\frac 1m \\sum\\limits_{i=1}^m ( h(x^i) - y ^i )^2 }$"
   ]
  },
  {
   "cell_type": "markdown",
   "metadata": {},
   "source": [
    "In the case that our data has many outlier cities we may consider using the Mean Absolute Error\n",
    "> $MAE(X,h) = \\frac 1m \\sum\\limits_{i=1}^m \\mid h(x^i) - y ^i\\mid$"
   ]
  },
  {
   "cell_type": "markdown",
   "metadata": {},
   "source": [
    "After framing the problem and looking at the big picture its good practice for me to  to list and verify the assumptions that were \n",
    "made so far (by me and others). This will help avoid a difference in expectations and help verify that the characteristics of my system output correspond to the expected signal that the downstream system expects. "
   ]
  },
  {
   "cell_type": "markdown",
   "metadata": {},
   "source": [
    "# Data Collection"
   ]
  },
  {
   "cell_type": "markdown",
   "metadata": {},
   "source": [
    "Collection of data was gathered via webscraping from Towncharts.com the website provides information and data about every geographic location in the United States including city, county, zip code, state and more. Additional variables latitude and longitude for the cities were merged from a kaggle dataset Collection of data was gathered via webscraping from Towncharts.com the website provides information and data about every geographic location in the United States including city, county, zip code, state and more. Additional variables latitude and longitude for the cities were merged from a [kaggle dataset](https://www.kaggle.com/camnugent/california-housing-feature-engineering#cal_cities_lat_long.csv). Typically I would be asked and it would be good practice to import the csv file into a table using the companies chosen database. This provides the opportunity for collaboration as all a coworker would need to access the data would be to get their credentials and access authorizations. "
   ]
  },
  {
   "cell_type": "markdown",
   "metadata": {},
   "source": [
    "For more information about how string methods, pandas, beautiful soup and more were used to produce the Towncharts_California_Housing.csv the following link outlines the process\n",
    "> https://github.com/clazaro97chosen/American-Community-Survey-Project/blob/master/Scrape_the_Data.ipynb "
   ]
  },
  {
   "cell_type": "markdown",
   "metadata": {},
   "source": [
    "Checking the legal obligations from \n",
    "the user aggreement on Towncharts.com use of this data is allowed and encouraged."
   ]
  },
  {
   "cell_type": "markdown",
   "metadata": {},
   "source": [
    "**Download the Data**"
   ]
  },
  {
   "cell_type": "markdown",
   "metadata": {},
   "source": [
    "Best practice calls for me to use a python file which i have created for fetching the data and writing a function to load the data."
   ]
  },
  {
   "cell_type": "markdown",
   "metadata": {},
   "source": [
    "# Setup"
   ]
  },
  {
   "cell_type": "code",
   "execution_count": 26,
   "metadata": {},
   "outputs": [],
   "source": [
    "\n",
    "# Common imports\n",
    "import numpy as np\n",
    "import pandas as pd\n",
    "import os\n",
    "\n",
    "# to make this notebook's output stable across runs\n",
    "np.random.seed(42)\n",
    "\n",
    "# To plot pretty figures\n",
    "%matplotlib inline\n",
    "import matplotlib as mpl\n",
    "import matplotlib.pyplot as plt\n",
    "mpl.rc('axes', labelsize=14)\n",
    "mpl.rc('xtick', labelsize=12)\n",
    "mpl.rc('ytick', labelsize=12)"
   ]
  },
  {
   "cell_type": "code",
   "execution_count": 39,
   "metadata": {},
   "outputs": [],
   "source": [
    "def load_housing_data(housing_path):\n",
    "    csv_path = os.path.join(housing_path,'california_housing.csv')\n",
    "    return pd.read_csv(csv_path,index_col=0)   "
   ]
  },
  {
   "cell_type": "code",
   "execution_count": 40,
   "metadata": {},
   "outputs": [],
   "source": [
    "housing = load_housing_data(os.path.join('datasets'))"
   ]
  },
  {
   "cell_type": "markdown",
   "metadata": {},
   "source": [
    "Data dictionary: provided by Towncharts.com\n",
    "\n",
    "* city_name: Name of city\n",
    "* housing_units:Total number of housing units in the area\n",
    "* housing_density : The number of housing units per square mile in the area\n",
    "* change_hunits: Change in housing units from 2010 to 2017\n",
    "* percent_of_rent_to_total: The percent of all occupied housing units that are rental housing units (%)\n",
    "* owned_homes: The percent of all occupied housing units that are owned housing units (%)\n",
    "* med_homeval: Median home value i.e how much property is worth( house and lot, mobile homes and lot, or condominium unit) if it was for sale \\\\$\n",
    "\n",
    "* med_rental_rate: the median monthly rental amount for a rental unit in this area \\\\$\n",
    "\n",
    "* med_owner_cost: The monthly cost of housing for property owners including mortgage payment, taxes, insurance,and utilities.\\\\$\n",
    "\n",
    "* med_own_cost_aspercentof_income: The monthly owner cost as a percent of the household income. This measure is an excellent way to understand how affordable housing is for owners in an area (%)\n",
    "* med_hval_aspercentof_medearn: How much the property is worth(house and lot, mobile home and lot, or condominium unit) if it was for sale as a percent of the median earnings for a worker in the area (%)\n",
    "* med_hcost_ownmortg: Median housing cost for homeowners with a mortgage(including the cost of the mortgage or other debt) \\\\$\n",
    "* med_hcost_own_wo_mortg: Median housing cost for homeowners who do not have a mortgage. This isolates the cost of ownership seperate from the financing cost of debt \\\\$\n",
    "* hcost_aspercentof_hincome_ownmortg: Homeowners with a mortgage showing total cost (including mortgage debt) as a percent of household income (%)\n",
    "* hcost_as_perc_of_hincome_womortg: Homeowners without a mortgage showing total cost as a percent of household income.\n",
    "*med_real_estate_taxes: The median real estate taxes paid by owners of homes in the area \\\\$\n",
    "* family_members_per_hunit: The average size of related families members who live together in a housing unit. \n",
    "* median_num_ofrooms: The average number of rooms of total rooms for housing units in the area\n",
    "* median_year_house_built: The average year the housing units were built in the area. This indicates the average age of housing units in the area.\n",
    "* household_size_of_howners: For people who own their homes how many people on average are living in them whether they are part of family or related or not. \n",
    "* household_size_for_renters: The average size of a household for people who are renting.\n",
    "* med_year_moved_in_for_owners: The median year that a home owner moved into their home\n",
    "* med_year_renter_moved_in: The median year that a renter moved into their home \n",
    "* The following varialbes are monthly rental rates by size of  Rental in Bedrooms as a percentage\n",
    "studio_1000_1499,studio_1500_more,\n",
    "studio_750_999,\n",
    "onebed_1000_1499,\n",
    "onebed_1500_more,\n",
    "onebed_750_999,\n",
    "twobed_1000_1499,\n",
    "twobed_1500_more,\n",
    "twobed_750_999,\n",
    "threebed_1000_1499,\n",
    "threebed_1500_more,\n",
    "threebed_750_999"
   ]
  },
  {
   "cell_type": "code",
   "execution_count": 41,
   "metadata": {
    "scrolled": true
   },
   "outputs": [
    {
     "data": {
      "text/html": [
       "<div>\n",
       "<style scoped>\n",
       "    .dataframe tbody tr th:only-of-type {\n",
       "        vertical-align: middle;\n",
       "    }\n",
       "\n",
       "    .dataframe tbody tr th {\n",
       "        vertical-align: top;\n",
       "    }\n",
       "\n",
       "    .dataframe thead th {\n",
       "        text-align: right;\n",
       "    }\n",
       "</style>\n",
       "<table border=\"1\" class=\"dataframe\">\n",
       "  <thead>\n",
       "    <tr style=\"text-align: right;\">\n",
       "      <th></th>\n",
       "      <th>housing_units</th>\n",
       "      <th>housing_density</th>\n",
       "      <th>change_hunits</th>\n",
       "      <th>percent_of_rent_to_total</th>\n",
       "      <th>owned_homes</th>\n",
       "      <th>med_homeval</th>\n",
       "      <th>med_rental_rate</th>\n",
       "      <th>med_owner_cost</th>\n",
       "      <th>med_own_cost_aspercentof_income</th>\n",
       "      <th>med_hval_aspercentof_medearn</th>\n",
       "      <th>...</th>\n",
       "      <th>onebed_750_999</th>\n",
       "      <th>twobed_1000_1499</th>\n",
       "      <th>twobed_1500_more</th>\n",
       "      <th>twobed_750_999</th>\n",
       "      <th>threebed_1000_1499</th>\n",
       "      <th>threebed_1500_more</th>\n",
       "      <th>threebed_750_999</th>\n",
       "      <th>city</th>\n",
       "      <th>Latitude</th>\n",
       "      <th>Longitude</th>\n",
       "    </tr>\n",
       "  </thead>\n",
       "  <tbody>\n",
       "    <tr>\n",
       "      <th>0</th>\n",
       "      <td>8751.0</td>\n",
       "      <td>156.2</td>\n",
       "      <td>-3.7</td>\n",
       "      <td>50.7</td>\n",
       "      <td>49.3</td>\n",
       "      <td>151600.0</td>\n",
       "      <td>1059.0</td>\n",
       "      <td>1093.0</td>\n",
       "      <td>24.0</td>\n",
       "      <td>427.0</td>\n",
       "      <td>...</td>\n",
       "      <td>0.096</td>\n",
       "      <td>0.131</td>\n",
       "      <td>0.032</td>\n",
       "      <td>0.508</td>\n",
       "      <td>0.583</td>\n",
       "      <td>0.137</td>\n",
       "      <td>0.181</td>\n",
       "      <td>Adelanto</td>\n",
       "      <td>34.582769</td>\n",
       "      <td>-117.409214</td>\n",
       "    </tr>\n",
       "    <tr>\n",
       "      <th>1</th>\n",
       "      <td>7674.0</td>\n",
       "      <td>984.7</td>\n",
       "      <td>1.2</td>\n",
       "      <td>25.6</td>\n",
       "      <td>74.4</td>\n",
       "      <td>745000.0</td>\n",
       "      <td>2261.0</td>\n",
       "      <td>2488.0</td>\n",
       "      <td>23.0</td>\n",
       "      <td>928.0</td>\n",
       "      <td>...</td>\n",
       "      <td>0.000</td>\n",
       "      <td>0.064</td>\n",
       "      <td>0.899</td>\n",
       "      <td>0.038</td>\n",
       "      <td>0.000</td>\n",
       "      <td>0.962</td>\n",
       "      <td>0.000</td>\n",
       "      <td>Agoura Hills</td>\n",
       "      <td>34.153339</td>\n",
       "      <td>-118.761675</td>\n",
       "    </tr>\n",
       "    <tr>\n",
       "      <th>2</th>\n",
       "      <td>32414.0</td>\n",
       "      <td>3104.1</td>\n",
       "      <td>0.2</td>\n",
       "      <td>53.0</td>\n",
       "      <td>47.0</td>\n",
       "      <td>729100.0</td>\n",
       "      <td>1607.0</td>\n",
       "      <td>2259.0</td>\n",
       "      <td>21.0</td>\n",
       "      <td>1006.0</td>\n",
       "      <td>...</td>\n",
       "      <td>0.058</td>\n",
       "      <td>0.261</td>\n",
       "      <td>0.633</td>\n",
       "      <td>0.019</td>\n",
       "      <td>0.119</td>\n",
       "      <td>0.667</td>\n",
       "      <td>0.036</td>\n",
       "      <td>Alameda</td>\n",
       "      <td>37.765206</td>\n",
       "      <td>-122.241636</td>\n",
       "    </tr>\n",
       "    <tr>\n",
       "      <th>3</th>\n",
       "      <td>7724.0</td>\n",
       "      <td>4319.4</td>\n",
       "      <td>-2.1</td>\n",
       "      <td>52.4</td>\n",
       "      <td>47.6</td>\n",
       "      <td>766000.0</td>\n",
       "      <td>1739.0</td>\n",
       "      <td>2501.0</td>\n",
       "      <td>21.0</td>\n",
       "      <td>991.0</td>\n",
       "      <td>...</td>\n",
       "      <td>0.031</td>\n",
       "      <td>0.138</td>\n",
       "      <td>0.821</td>\n",
       "      <td>0.012</td>\n",
       "      <td>0.084</td>\n",
       "      <td>0.849</td>\n",
       "      <td>0.000</td>\n",
       "      <td>Albany</td>\n",
       "      <td>37.886869</td>\n",
       "      <td>-122.297747</td>\n",
       "    </tr>\n",
       "    <tr>\n",
       "      <th>4</th>\n",
       "      <td>30990.0</td>\n",
       "      <td>4061.1</td>\n",
       "      <td>0.2</td>\n",
       "      <td>59.7</td>\n",
       "      <td>40.3</td>\n",
       "      <td>553800.0</td>\n",
       "      <td>1286.0</td>\n",
       "      <td>1629.0</td>\n",
       "      <td>22.0</td>\n",
       "      <td>1296.0</td>\n",
       "      <td>...</td>\n",
       "      <td>0.240</td>\n",
       "      <td>0.575</td>\n",
       "      <td>0.312</td>\n",
       "      <td>0.054</td>\n",
       "      <td>0.180</td>\n",
       "      <td>0.629</td>\n",
       "      <td>0.039</td>\n",
       "      <td>Alhambra</td>\n",
       "      <td>34.095286</td>\n",
       "      <td>-118.127014</td>\n",
       "    </tr>\n",
       "  </tbody>\n",
       "</table>\n",
       "<p>5 rows × 37 columns</p>\n",
       "</div>"
      ],
      "text/plain": [
       "   housing_units  housing_density  change_hunits  percent_of_rent_to_total  \\\n",
       "0         8751.0            156.2           -3.7                      50.7   \n",
       "1         7674.0            984.7            1.2                      25.6   \n",
       "2        32414.0           3104.1            0.2                      53.0   \n",
       "3         7724.0           4319.4           -2.1                      52.4   \n",
       "4        30990.0           4061.1            0.2                      59.7   \n",
       "\n",
       "   owned_homes  med_homeval  med_rental_rate  med_owner_cost  \\\n",
       "0         49.3     151600.0           1059.0          1093.0   \n",
       "1         74.4     745000.0           2261.0          2488.0   \n",
       "2         47.0     729100.0           1607.0          2259.0   \n",
       "3         47.6     766000.0           1739.0          2501.0   \n",
       "4         40.3     553800.0           1286.0          1629.0   \n",
       "\n",
       "   med_own_cost_aspercentof_income  med_hval_aspercentof_medearn  ...  \\\n",
       "0                             24.0                         427.0  ...   \n",
       "1                             23.0                         928.0  ...   \n",
       "2                             21.0                        1006.0  ...   \n",
       "3                             21.0                         991.0  ...   \n",
       "4                             22.0                        1296.0  ...   \n",
       "\n",
       "   onebed_750_999  twobed_1000_1499  twobed_1500_more  twobed_750_999  \\\n",
       "0           0.096             0.131             0.032           0.508   \n",
       "1           0.000             0.064             0.899           0.038   \n",
       "2           0.058             0.261             0.633           0.019   \n",
       "3           0.031             0.138             0.821           0.012   \n",
       "4           0.240             0.575             0.312           0.054   \n",
       "\n",
       "   threebed_1000_1499  threebed_1500_more  threebed_750_999          city  \\\n",
       "0               0.583               0.137             0.181      Adelanto   \n",
       "1               0.000               0.962             0.000  Agoura Hills   \n",
       "2               0.119               0.667             0.036       Alameda   \n",
       "3               0.084               0.849             0.000        Albany   \n",
       "4               0.180               0.629             0.039      Alhambra   \n",
       "\n",
       "    Latitude   Longitude  \n",
       "0  34.582769 -117.409214  \n",
       "1  34.153339 -118.761675  \n",
       "2  37.765206 -122.241636  \n",
       "3  37.886869 -122.297747  \n",
       "4  34.095286 -118.127014  \n",
       "\n",
       "[5 rows x 37 columns]"
      ]
     },
     "execution_count": 41,
     "metadata": {},
     "output_type": "execute_result"
    }
   ],
   "source": [
    "housing.head()"
   ]
  },
  {
   "cell_type": "markdown",
   "metadata": {},
   "source": [
    "\"Towncharts.com - United States Demographics Data.\" United States Demographics data. N.p., 15 Dec. 2016. Web. 04 Sep. 2019. <http://www.towncharts.com/>."
   ]
  }
 ],
 "metadata": {
  "kernelspec": {
   "display_name": "Python 3",
   "language": "python",
   "name": "python3"
  },
  "language_info": {
   "codemirror_mode": {
    "name": "ipython",
    "version": 3
   },
   "file_extension": ".py",
   "mimetype": "text/x-python",
   "name": "python",
   "nbconvert_exporter": "python",
   "pygments_lexer": "ipython3",
   "version": "3.7.3"
  },
  "varInspector": {
   "cols": {
    "lenName": 16,
    "lenType": 16,
    "lenVar": 40
   },
   "kernels_config": {
    "python": {
     "delete_cmd_postfix": "",
     "delete_cmd_prefix": "del ",
     "library": "var_list.py",
     "varRefreshCmd": "print(var_dic_list())"
    },
    "r": {
     "delete_cmd_postfix": ") ",
     "delete_cmd_prefix": "rm(",
     "library": "var_list.r",
     "varRefreshCmd": "cat(var_dic_list()) "
    }
   },
   "types_to_exclude": [
    "module",
    "function",
    "builtin_function_or_method",
    "instance",
    "_Feature"
   ],
   "window_display": false
  }
 },
 "nbformat": 4,
 "nbformat_minor": 2
}
