{
 "cells": [
  {
   "cell_type": "markdown",
   "metadata": {},
   "source": [
    "# Merging some data"
   ]
  },
  {
   "cell_type": "markdown",
   "metadata": {},
   "source": [
    "The datasets being merged only applies to california but if you can find some other datasets that have the name of the cities as a column it should not be too difficult since python and pandas provide convenient ways to work with [text](https://pandas.pydata.org/pandas-docs/stable/user_guide/text.html). "
   ]
  },
  {
   "cell_type": "markdown",
   "metadata": {},
   "source": [
    "In this notebook i will be merging the `latitude` and `longitude` variables from the kaggle dataset cal_cities_lat_long.csv. A `population` variable for each city after scraping it from towncharts.com demographics web page for each city. And finally, `area_total_km2` variable from Jake Vanderplas hosted california_cities.csv dat. Making it 4 new variable being merged funny enough i notice these last dataset had lat and long"
   ]
  },
  {
   "cell_type": "code",
   "execution_count": 1,
   "metadata": {},
   "outputs": [],
   "source": [
    "import requests\n",
    "import urllib\n",
    "import re\n",
    "from bs4 import BeautifulSoup\n",
    "from googlesearch import search\n",
    "import pandas as pd\n",
    "import numpy as np\n",
    "from fake_useragent import UserAgent\n",
    "import time\n",
    "import pickle\n"
   ]
  },
  {
   "cell_type": "code",
   "execution_count": 13,
   "metadata": {},
   "outputs": [],
   "source": [
    "cities_data=pd.read_csv(\"C:\\\\Users\\\\Crist\\\\Towncharts\\\\California_Housing_Project\\\\datasets\\\\cal_cities_lat_long.csv\")"
   ]
  },
  {
   "cell_type": "code",
   "execution_count": 2,
   "metadata": {},
   "outputs": [],
   "source": [
    "housing = pd.read_csv(\"C:\\\\Users\\\\Crist\\\\Towncharts\\\\California_Housing_Project//datasets/Towncharts_California_Housing.csv\",index_col =0)"
   ]
  },
  {
   "cell_type": "code",
   "execution_count": 10,
   "metadata": {},
   "outputs": [
    {
     "data": {
      "text/plain": [
       "453"
      ]
     },
     "execution_count": 10,
     "metadata": {},
     "output_type": "execute_result"
    }
   ],
   "source": [
    "len(housing)"
   ]
  },
  {
   "cell_type": "code",
   "execution_count": 27,
   "metadata": {},
   "outputs": [
    {
     "data": {
      "text/html": [
       "<div>\n",
       "<style scoped>\n",
       "    .dataframe tbody tr th:only-of-type {\n",
       "        vertical-align: middle;\n",
       "    }\n",
       "\n",
       "    .dataframe tbody tr th {\n",
       "        vertical-align: top;\n",
       "    }\n",
       "\n",
       "    .dataframe thead th {\n",
       "        text-align: right;\n",
       "    }\n",
       "</style>\n",
       "<table border=\"1\" class=\"dataframe\">\n",
       "  <thead>\n",
       "    <tr style=\"text-align: right;\">\n",
       "      <th></th>\n",
       "      <th>Name</th>\n",
       "      <th>Latitude</th>\n",
       "      <th>Longitude</th>\n",
       "    </tr>\n",
       "  </thead>\n",
       "  <tbody>\n",
       "    <tr>\n",
       "      <th>256</th>\n",
       "      <td>Monterey</td>\n",
       "      <td>36.600239</td>\n",
       "      <td>-121.894675</td>\n",
       "    </tr>\n",
       "    <tr>\n",
       "      <th>257</th>\n",
       "      <td>Monterey Park</td>\n",
       "      <td>34.062511</td>\n",
       "      <td>-118.122847</td>\n",
       "    </tr>\n",
       "  </tbody>\n",
       "</table>\n",
       "</div>"
      ],
      "text/plain": [
       "              Name   Latitude   Longitude\n",
       "256       Monterey  36.600239 -121.894675\n",
       "257  Monterey Park  34.062511 -118.122847"
      ]
     },
     "execution_count": 27,
     "metadata": {},
     "output_type": "execute_result"
    }
   ],
   "source": [
    "cities_data.loc[cities_data.Name.str.contains('Monterey')] "
   ]
  },
  {
   "cell_type": "code",
   "execution_count": 22,
   "metadata": {},
   "outputs": [
    {
     "data": {
      "text/html": [
       "<div>\n",
       "<style scoped>\n",
       "    .dataframe tbody tr th:only-of-type {\n",
       "        vertical-align: middle;\n",
       "    }\n",
       "\n",
       "    .dataframe tbody tr th {\n",
       "        vertical-align: top;\n",
       "    }\n",
       "\n",
       "    .dataframe thead th {\n",
       "        text-align: right;\n",
       "    }\n",
       "</style>\n",
       "<table border=\"1\" class=\"dataframe\">\n",
       "  <thead>\n",
       "    <tr style=\"text-align: right;\">\n",
       "      <th></th>\n",
       "      <th>city_name</th>\n",
       "      <th>housing_units</th>\n",
       "      <th>housing_density</th>\n",
       "      <th>change_hunits</th>\n",
       "      <th>percent_of_rent_to_total</th>\n",
       "      <th>owned_homes</th>\n",
       "      <th>med_homeval</th>\n",
       "      <th>med_rental_rate</th>\n",
       "      <th>med_owner_cost</th>\n",
       "      <th>med_own_cost_aspercentof_income</th>\n",
       "      <th>...</th>\n",
       "      <th>studio_750_999</th>\n",
       "      <th>onebed_1000_1499</th>\n",
       "      <th>onebed_1500_more</th>\n",
       "      <th>onebed_750_999</th>\n",
       "      <th>twobed_1000_1499</th>\n",
       "      <th>twobed_1500_more</th>\n",
       "      <th>twobed_750_999</th>\n",
       "      <th>threebed_1000_1499</th>\n",
       "      <th>threebed_1500_more</th>\n",
       "      <th>threebed_750_999</th>\n",
       "    </tr>\n",
       "  </thead>\n",
       "  <tbody>\n",
       "    <tr>\n",
       "      <th>251</th>\n",
       "      <td>Monterey</td>\n",
       "      <td>13371.0</td>\n",
       "      <td>1541.5</td>\n",
       "      <td>-1.6</td>\n",
       "      <td>63.2</td>\n",
       "      <td>36.8</td>\n",
       "      <td>696200.0</td>\n",
       "      <td>1625.0</td>\n",
       "      <td>1885.0</td>\n",
       "      <td>22.0</td>\n",
       "      <td>...</td>\n",
       "      <td>0.098</td>\n",
       "      <td>0.568</td>\n",
       "      <td>0.229</td>\n",
       "      <td>0.137</td>\n",
       "      <td>0.258</td>\n",
       "      <td>0.693</td>\n",
       "      <td>0.030</td>\n",
       "      <td>0.098</td>\n",
       "      <td>0.846</td>\n",
       "      <td>0.008</td>\n",
       "    </tr>\n",
       "    <tr>\n",
       "      <th>252</th>\n",
       "      <td>Monterey Park</td>\n",
       "      <td>21336.0</td>\n",
       "      <td>2781.9</td>\n",
       "      <td>2.3</td>\n",
       "      <td>46.3</td>\n",
       "      <td>53.7</td>\n",
       "      <td>566700.0</td>\n",
       "      <td>1275.0</td>\n",
       "      <td>1484.0</td>\n",
       "      <td>20.0</td>\n",
       "      <td>...</td>\n",
       "      <td>0.405</td>\n",
       "      <td>0.404</td>\n",
       "      <td>0.033</td>\n",
       "      <td>0.289</td>\n",
       "      <td>0.629</td>\n",
       "      <td>0.192</td>\n",
       "      <td>0.084</td>\n",
       "      <td>0.124</td>\n",
       "      <td>0.672</td>\n",
       "      <td>0.022</td>\n",
       "    </tr>\n",
       "  </tbody>\n",
       "</table>\n",
       "<p>2 rows × 35 columns</p>\n",
       "</div>"
      ],
      "text/plain": [
       "         city_name  housing_units  housing_density  change_hunits  \\\n",
       "251       Monterey        13371.0           1541.5           -1.6   \n",
       "252  Monterey Park        21336.0           2781.9            2.3   \n",
       "\n",
       "     percent_of_rent_to_total  owned_homes  med_homeval  med_rental_rate  \\\n",
       "251                      63.2         36.8     696200.0           1625.0   \n",
       "252                      46.3         53.7     566700.0           1275.0   \n",
       "\n",
       "     med_owner_cost  med_own_cost_aspercentof_income  ...  studio_750_999  \\\n",
       "251          1885.0                             22.0  ...           0.098   \n",
       "252          1484.0                             20.0  ...           0.405   \n",
       "\n",
       "     onebed_1000_1499  onebed_1500_more  onebed_750_999  twobed_1000_1499  \\\n",
       "251             0.568             0.229           0.137             0.258   \n",
       "252             0.404             0.033           0.289             0.629   \n",
       "\n",
       "     twobed_1500_more  twobed_750_999  threebed_1000_1499  threebed_1500_more  \\\n",
       "251             0.693           0.030               0.098               0.846   \n",
       "252             0.192           0.084               0.124               0.672   \n",
       "\n",
       "     threebed_750_999  \n",
       "251             0.008  \n",
       "252             0.022  \n",
       "\n",
       "[2 rows x 35 columns]"
      ]
     },
     "execution_count": 22,
     "metadata": {},
     "output_type": "execute_result"
    }
   ],
   "source": [
    "housing[housing.city_name.str.contains('Monterey')]"
   ]
  },
  {
   "cell_type": "code",
   "execution_count": 28,
   "metadata": {},
   "outputs": [
    {
     "data": {
      "text/html": [
       "<div>\n",
       "<style scoped>\n",
       "    .dataframe tbody tr th:only-of-type {\n",
       "        vertical-align: middle;\n",
       "    }\n",
       "\n",
       "    .dataframe tbody tr th {\n",
       "        vertical-align: top;\n",
       "    }\n",
       "\n",
       "    .dataframe thead th {\n",
       "        text-align: right;\n",
       "    }\n",
       "</style>\n",
       "<table border=\"1\" class=\"dataframe\">\n",
       "  <thead>\n",
       "    <tr style=\"text-align: right;\">\n",
       "      <th></th>\n",
       "      <th>Name</th>\n",
       "      <th>Latitude</th>\n",
       "      <th>Longitude</th>\n",
       "    </tr>\n",
       "  </thead>\n",
       "  <tbody>\n",
       "    <tr>\n",
       "      <th>351</th>\n",
       "      <td>San Francisco</td>\n",
       "      <td>37.774931</td>\n",
       "      <td>-122.419417</td>\n",
       "    </tr>\n",
       "    <tr>\n",
       "      <th>400</th>\n",
       "      <td>South San Francisco</td>\n",
       "      <td>37.654656</td>\n",
       "      <td>-122.407750</td>\n",
       "    </tr>\n",
       "  </tbody>\n",
       "</table>\n",
       "</div>"
      ],
      "text/plain": [
       "                    Name   Latitude   Longitude\n",
       "351        San Francisco  37.774931 -122.419417\n",
       "400  South San Francisco  37.654656 -122.407750"
      ]
     },
     "execution_count": 28,
     "metadata": {},
     "output_type": "execute_result"
    }
   ],
   "source": [
    "cities_data.loc[cities_data.Name.str.contains('San Fran')] "
   ]
  },
  {
   "cell_type": "code",
   "execution_count": 26,
   "metadata": {
    "scrolled": true
   },
   "outputs": [
    {
     "data": {
      "text/html": [
       "<div>\n",
       "<style scoped>\n",
       "    .dataframe tbody tr th:only-of-type {\n",
       "        vertical-align: middle;\n",
       "    }\n",
       "\n",
       "    .dataframe tbody tr th {\n",
       "        vertical-align: top;\n",
       "    }\n",
       "\n",
       "    .dataframe thead th {\n",
       "        text-align: right;\n",
       "    }\n",
       "</style>\n",
       "<table border=\"1\" class=\"dataframe\">\n",
       "  <thead>\n",
       "    <tr style=\"text-align: right;\">\n",
       "      <th></th>\n",
       "      <th>city_name</th>\n",
       "      <th>housing_units</th>\n",
       "      <th>housing_density</th>\n",
       "      <th>change_hunits</th>\n",
       "      <th>percent_of_rent_to_total</th>\n",
       "      <th>owned_homes</th>\n",
       "      <th>med_homeval</th>\n",
       "      <th>med_rental_rate</th>\n",
       "      <th>med_owner_cost</th>\n",
       "      <th>med_own_cost_aspercentof_income</th>\n",
       "      <th>...</th>\n",
       "      <th>studio_750_999</th>\n",
       "      <th>onebed_1000_1499</th>\n",
       "      <th>onebed_1500_more</th>\n",
       "      <th>onebed_750_999</th>\n",
       "      <th>twobed_1000_1499</th>\n",
       "      <th>twobed_1500_more</th>\n",
       "      <th>twobed_750_999</th>\n",
       "      <th>threebed_1000_1499</th>\n",
       "      <th>threebed_1500_more</th>\n",
       "      <th>threebed_750_999</th>\n",
       "    </tr>\n",
       "  </thead>\n",
       "  <tbody>\n",
       "    <tr>\n",
       "      <th>345</th>\n",
       "      <td>San Francisco</td>\n",
       "      <td>390376.0</td>\n",
       "      <td>8324.6</td>\n",
       "      <td>3.6</td>\n",
       "      <td>62.7</td>\n",
       "      <td>37.3</td>\n",
       "      <td>927400.0</td>\n",
       "      <td>1709.0</td>\n",
       "      <td>2435.0</td>\n",
       "      <td>21.0</td>\n",
       "      <td>...</td>\n",
       "      <td>0.114</td>\n",
       "      <td>0.193</td>\n",
       "      <td>0.572</td>\n",
       "      <td>0.075</td>\n",
       "      <td>0.161</td>\n",
       "      <td>0.662</td>\n",
       "      <td>0.059</td>\n",
       "      <td>0.112</td>\n",
       "      <td>0.671</td>\n",
       "      <td>0.06</td>\n",
       "    </tr>\n",
       "    <tr>\n",
       "      <th>394</th>\n",
       "      <td>South San Francisco city-CA</td>\n",
       "      <td>21856.0</td>\n",
       "      <td>2381.5</td>\n",
       "      <td>0.2</td>\n",
       "      <td>38.9</td>\n",
       "      <td>61.1</td>\n",
       "      <td>697400.0</td>\n",
       "      <td>1751.0</td>\n",
       "      <td>2166.0</td>\n",
       "      <td>22.0</td>\n",
       "      <td>...</td>\n",
       "      <td>0.125</td>\n",
       "      <td>0.351</td>\n",
       "      <td>0.439</td>\n",
       "      <td>0.078</td>\n",
       "      <td>0.222</td>\n",
       "      <td>0.683</td>\n",
       "      <td>0.049</td>\n",
       "      <td>0.044</td>\n",
       "      <td>0.825</td>\n",
       "      <td>0.01</td>\n",
       "    </tr>\n",
       "  </tbody>\n",
       "</table>\n",
       "<p>2 rows × 35 columns</p>\n",
       "</div>"
      ],
      "text/plain": [
       "                       city_name  housing_units  housing_density  \\\n",
       "345                San Francisco       390376.0           8324.6   \n",
       "394  South San Francisco city-CA        21856.0           2381.5   \n",
       "\n",
       "     change_hunits  percent_of_rent_to_total  owned_homes  med_homeval  \\\n",
       "345            3.6                      62.7         37.3     927400.0   \n",
       "394            0.2                      38.9         61.1     697400.0   \n",
       "\n",
       "     med_rental_rate  med_owner_cost  med_own_cost_aspercentof_income  ...  \\\n",
       "345           1709.0          2435.0                             21.0  ...   \n",
       "394           1751.0          2166.0                             22.0  ...   \n",
       "\n",
       "     studio_750_999  onebed_1000_1499  onebed_1500_more  onebed_750_999  \\\n",
       "345           0.114             0.193             0.572           0.075   \n",
       "394           0.125             0.351             0.439           0.078   \n",
       "\n",
       "     twobed_1000_1499  twobed_1500_more  twobed_750_999  threebed_1000_1499  \\\n",
       "345             0.161             0.662           0.059               0.112   \n",
       "394             0.222             0.683           0.049               0.044   \n",
       "\n",
       "     threebed_1500_more  threebed_750_999  \n",
       "345               0.671              0.06  \n",
       "394               0.825              0.01  \n",
       "\n",
       "[2 rows x 35 columns]"
      ]
     },
     "execution_count": 26,
     "metadata": {},
     "output_type": "execute_result"
    }
   ],
   "source": [
    "housing[housing.city_name.str.contains('San Francisco')]"
   ]
  },
  {
   "cell_type": "markdown",
   "metadata": {},
   "source": [
    "Merging the `latitude` and `longitude`"
   ]
  },
  {
   "cell_type": "markdown",
   "metadata": {},
   "source": [
    "\n",
    "\n",
    "The following lines of code will create a new city name column in our housing DataFrame that will be used to merge the appropriate latitude an longtitude to the correct row of the housing DataFrame. As currently our housing has the name of the city formatted as Alameda city-CA and the cal_cities_lat_long.csv  has the name formatted as Alemeda. "
   ]
  },
  {
   "cell_type": "code",
   "execution_count": 45,
   "metadata": {},
   "outputs": [],
   "source": [
    "mytext = list(housing.city_name.copy())\n",
    "housing['city'] = [(i.split('city',1)[0]).rstrip()  for i in mytext]\n"
   ]
  },
  {
   "cell_type": "code",
   "execution_count": 46,
   "metadata": {},
   "outputs": [],
   "source": [
    "california_housing = housing.merge(cities_data, left_on='city',right_on='Name')"
   ]
  },
  {
   "cell_type": "code",
   "execution_count": 47,
   "metadata": {},
   "outputs": [],
   "source": [
    "california_housing = california_housing.drop(columns = ['city_name','Name'])"
   ]
  },
  {
   "cell_type": "markdown",
   "metadata": {},
   "source": [
    "Merging the `population` variable"
   ]
  },
  {
   "cell_type": "code",
   "execution_count": null,
   "metadata": {},
   "outputs": [],
   "source": [
    "population_dat.to_csv('C:\\\\Users\\\\Crist\\\\Towncharts\\\\California_Housing_Project\\\\datasets\\\\population_dat.csv')"
   ]
  },
  {
   "cell_type": "code",
   "execution_count": 62,
   "metadata": {},
   "outputs": [],
   "source": [
    "population_dat = pd.read_csv(\"C:\\\\Users\\\\Crist\\\\Towncharts\\\\California_Housing_Project\\\\datasets\\\\population_dat.csv\",index_col=0)"
   ]
  },
  {
   "cell_type": "code",
   "execution_count": 72,
   "metadata": {},
   "outputs": [],
   "source": [
    "california_housing = california_housing.merge(population_dat, left_on='city',right_on='city')"
   ]
  },
  {
   "cell_type": "markdown",
   "metadata": {},
   "source": [
    "Merging `area_total_sq_mi`"
   ]
  },
  {
   "cell_type": "code",
   "execution_count": 79,
   "metadata": {},
   "outputs": [],
   "source": [
    "area_dat = (pd.read_csv('https://raw.githubusercontent.com/jakevdp/PythonDataScienceHandbook/master/notebooks/data/california_cities.csv',index_col=0)).loc[:,['city','area_total_sq_mi']]"
   ]
  },
  {
   "cell_type": "markdown",
   "metadata": {},
   "source": [
    "The dataset from jake vanderplas has city name with no spaces\n",
    "so a quick replace should do the job so we are able to merge. Also some cities have missing `area_total_sq_mi`"
   ]
  },
  {
   "cell_type": "code",
   "execution_count": 86,
   "metadata": {},
   "outputs": [],
   "source": [
    "california_housing['city'] = california_housing['city'].str.replace(\" \",\"\")"
   ]
  },
  {
   "cell_type": "code",
   "execution_count": 87,
   "metadata": {},
   "outputs": [],
   "source": [
    "california_housing = california_housing.merge(area_dat,left_on='city',right_on='city',how='left')"
   ]
  },
  {
   "cell_type": "code",
   "execution_count": 90,
   "metadata": {},
   "outputs": [],
   "source": [
    "california_housing.to_csv('C:\\\\Users\\\\Crist\\\\Towncharts\\\\California_Housing_Project\\\\datasets\\\\california_housing.csv')"
   ]
  },
  {
   "cell_type": "markdown",
   "metadata": {},
   "source": [
    "#  The End"
   ]
  }
 ],
 "metadata": {
  "kernelspec": {
   "display_name": "Python 3",
   "language": "python",
   "name": "python3"
  },
  "language_info": {
   "codemirror_mode": {
    "name": "ipython",
    "version": 3
   },
   "file_extension": ".py",
   "mimetype": "text/x-python",
   "name": "python",
   "nbconvert_exporter": "python",
   "pygments_lexer": "ipython3",
   "version": "3.7.3"
  },
  "varInspector": {
   "cols": {
    "lenName": 16,
    "lenType": 16,
    "lenVar": 40
   },
   "kernels_config": {
    "python": {
     "delete_cmd_postfix": "",
     "delete_cmd_prefix": "del ",
     "library": "var_list.py",
     "varRefreshCmd": "print(var_dic_list())"
    },
    "r": {
     "delete_cmd_postfix": ") ",
     "delete_cmd_prefix": "rm(",
     "library": "var_list.r",
     "varRefreshCmd": "cat(var_dic_list()) "
    }
   },
   "types_to_exclude": [
    "module",
    "function",
    "builtin_function_or_method",
    "instance",
    "_Feature"
   ],
   "window_display": false
  }
 },
 "nbformat": 4,
 "nbformat_minor": 2
}
