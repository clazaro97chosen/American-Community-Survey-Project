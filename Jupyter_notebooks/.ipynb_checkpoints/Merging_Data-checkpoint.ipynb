{
 "cells": [
  {
   "cell_type": "markdown",
   "metadata": {},
   "source": [
    "Important info for this to work you must change directory path to your directory in which you cloned the repo. "
   ]
  },
  {
   "cell_type": "code",
   "execution_count": 1,
   "metadata": {},
   "outputs": [],
   "source": [
    "directory_path = \"C:\\\\Users\\\\Crist\\\\Towncharts\\\\\""
   ]
  },
  {
   "cell_type": "markdown",
   "metadata": {},
   "source": [
    "# Merging some data"
   ]
  },
  {
   "cell_type": "markdown",
   "metadata": {},
   "source": [
    "The datasets being merged only applies to california but if you can find some other datasets that have the name of the cities as a column it should not be too difficult since python and pandas provide convenient ways to work with [text](https://pandas.pydata.org/pandas-docs/stable/user_guide/text.html). "
   ]
  },
  {
   "cell_type": "markdown",
   "metadata": {},
   "source": [
    "In this notebook i will be merging the `latitude` and `longitude` variables from the kaggle dataset cal_cities_lat_long.csv. A `population` variable for each city after scraping it from towncharts.com demographics web page for each city. And finally, `area_total_km2` variable from Jake Vanderplas hosted california_cities.csv dat. Making it 4 new variable being merged funny enough i notice these last dataset had lat and long"
   ]
  },
  {
   "cell_type": "code",
   "execution_count": 2,
   "metadata": {},
   "outputs": [],
   "source": [
    "import pandas as pd\n",
    "import numpy as np"
   ]
  },
  {
   "cell_type": "code",
   "execution_count": 3,
   "metadata": {},
   "outputs": [],
   "source": [
    "\n",
    "cities_data=pd.read_csv(directory_path+\"California_Housing_Project\\\\datasets\\\\cal_cities_lat_long.csv\")"
   ]
  },
  {
   "cell_type": "code",
   "execution_count": 4,
   "metadata": {},
   "outputs": [],
   "source": [
    "housing = pd.read_csv(directory_path+\"California_Housing_Project\\\\datasets\\\\scraped_data.csv\",index_col=0)"
   ]
  },
  {
   "cell_type": "code",
   "execution_count": 5,
   "metadata": {},
   "outputs": [
    {
     "data": {
      "text/html": [
       "<div>\n",
       "<style scoped>\n",
       "    .dataframe tbody tr th:only-of-type {\n",
       "        vertical-align: middle;\n",
       "    }\n",
       "\n",
       "    .dataframe tbody tr th {\n",
       "        vertical-align: top;\n",
       "    }\n",
       "\n",
       "    .dataframe thead th {\n",
       "        text-align: right;\n",
       "    }\n",
       "</style>\n",
       "<table border=\"1\" class=\"dataframe\">\n",
       "  <thead>\n",
       "    <tr style=\"text-align: right;\">\n",
       "      <th></th>\n",
       "      <th>Name</th>\n",
       "    </tr>\n",
       "  </thead>\n",
       "  <tbody>\n",
       "    <tr>\n",
       "      <td>351</td>\n",
       "      <td>San Francisco</td>\n",
       "    </tr>\n",
       "    <tr>\n",
       "      <td>400</td>\n",
       "      <td>South San Francisco</td>\n",
       "    </tr>\n",
       "  </tbody>\n",
       "</table>\n",
       "</div>"
      ],
      "text/plain": [
       "                    Name\n",
       "351        San Francisco\n",
       "400  South San Francisco"
      ]
     },
     "execution_count": 5,
     "metadata": {},
     "output_type": "execute_result"
    }
   ],
   "source": [
    "cities_data.loc[cities_data.Name.str.contains('San Fran')] [['Name']]"
   ]
  },
  {
   "cell_type": "code",
   "execution_count": 6,
   "metadata": {
    "scrolled": true
   },
   "outputs": [
    {
     "data": {
      "text/html": [
       "<div>\n",
       "<style scoped>\n",
       "    .dataframe tbody tr th:only-of-type {\n",
       "        vertical-align: middle;\n",
       "    }\n",
       "\n",
       "    .dataframe tbody tr th {\n",
       "        vertical-align: top;\n",
       "    }\n",
       "\n",
       "    .dataframe thead th {\n",
       "        text-align: right;\n",
       "    }\n",
       "</style>\n",
       "<table border=\"1\" class=\"dataframe\">\n",
       "  <thead>\n",
       "    <tr style=\"text-align: right;\">\n",
       "      <th></th>\n",
       "      <th>city_name</th>\n",
       "    </tr>\n",
       "  </thead>\n",
       "  <tbody>\n",
       "    <tr>\n",
       "      <td>345</td>\n",
       "      <td>San Francisco</td>\n",
       "    </tr>\n",
       "    <tr>\n",
       "      <td>394</td>\n",
       "      <td>South San Francisco city-CA</td>\n",
       "    </tr>\n",
       "  </tbody>\n",
       "</table>\n",
       "</div>"
      ],
      "text/plain": [
       "                       city_name\n",
       "345                San Francisco\n",
       "394  South San Francisco city-CA"
      ]
     },
     "execution_count": 6,
     "metadata": {},
     "output_type": "execute_result"
    }
   ],
   "source": [
    "housing[housing.city_name.str.contains('San Francisco')][['city_name']]"
   ]
  },
  {
   "cell_type": "markdown",
   "metadata": {},
   "source": [
    "Merging the `latitude` and `longitude`"
   ]
  },
  {
   "cell_type": "markdown",
   "metadata": {},
   "source": [
    "The following lines of code will create a new city name column in our housing DataFrame that will be used to merge the appropriate latitude and longtitude to the correct row of the housing DataFrame. **The kaggle dataset being merged has the name formatted as ***Alemeda*** and our scraped data has the city formatted as ***Alameda city-CA*** and the ***"
   ]
  },
  {
   "cell_type": "code",
   "execution_count": 7,
   "metadata": {},
   "outputs": [],
   "source": [
    "mytext = list(housing.city_name.copy())\n",
    "housing['city'] = [(i.split('city',1)[0]).rstrip()  for i in mytext]"
   ]
  },
  {
   "cell_type": "code",
   "execution_count": 8,
   "metadata": {},
   "outputs": [],
   "source": [
    "california_housing = housing.merge(cities_data, left_on='city',right_on='Name')"
   ]
  },
  {
   "cell_type": "code",
   "execution_count": 9,
   "metadata": {},
   "outputs": [],
   "source": [
    "california_housing = california_housing.drop(columns = ['city_name','Name'])"
   ]
  },
  {
   "cell_type": "markdown",
   "metadata": {},
   "source": [
    "Merging the `population` variable"
   ]
  },
  {
   "cell_type": "code",
   "execution_count": 10,
   "metadata": {},
   "outputs": [],
   "source": [
    "population_data = pd.read_csv(directory_path+\"California_Housing_Project\\\\datasets\\\\population_data.csv\",index_col=0)"
   ]
  },
  {
   "cell_type": "code",
   "execution_count": 11,
   "metadata": {},
   "outputs": [],
   "source": [
    "population_data['city'] = population_data['city'].str.replace(\"-\",\" \")"
   ]
  },
  {
   "cell_type": "code",
   "execution_count": 12,
   "metadata": {},
   "outputs": [],
   "source": [
    "california_housing = california_housing.merge(population_data, left_on='city',right_on='city')"
   ]
  },
  {
   "cell_type": "markdown",
   "metadata": {},
   "source": [
    "Merging `area_total_sq_mi`"
   ]
  },
  {
   "cell_type": "code",
   "execution_count": 13,
   "metadata": {},
   "outputs": [],
   "source": [
    "area_data = (pd.read_csv('https://raw.githubusercontent.com/jakevdp/PythonDataScienceHandbook/master/notebooks/data/california_cities.csv',index_col=0)).loc[:,['city','area_total_sq_mi']]"
   ]
  },
  {
   "cell_type": "markdown",
   "metadata": {},
   "source": [
    "The dataset from jake vanderplas has city name with no spaces\n",
    "so a quick replace should do the job so we are able to merge. Also some cities have missing `area_total_sq_mi`"
   ]
  },
  {
   "cell_type": "code",
   "execution_count": 14,
   "metadata": {},
   "outputs": [],
   "source": [
    "california_housing['city'] = california_housing['city'].str.replace(\" \",\"\")"
   ]
  },
  {
   "cell_type": "code",
   "execution_count": 15,
   "metadata": {},
   "outputs": [],
   "source": [
    "california_housing = california_housing.merge(area_data,left_on='city',right_on='city',how='left')"
   ]
  },
  {
   "cell_type": "markdown",
   "metadata": {},
   "source": [
    "And Finally we want to ensure that our column to be used for prediction contains no missing values."
   ]
  },
  {
   "cell_type": "code",
   "execution_count": 16,
   "metadata": {
    "scrolled": true
   },
   "outputs": [
    {
     "data": {
      "text/html": [
       "<div>\n",
       "<style scoped>\n",
       "    .dataframe tbody tr th:only-of-type {\n",
       "        vertical-align: middle;\n",
       "    }\n",
       "\n",
       "    .dataframe tbody tr th {\n",
       "        vertical-align: top;\n",
       "    }\n",
       "\n",
       "    .dataframe thead th {\n",
       "        text-align: right;\n",
       "    }\n",
       "</style>\n",
       "<table border=\"1\" class=\"dataframe\">\n",
       "  <thead>\n",
       "    <tr style=\"text-align: right;\">\n",
       "      <th></th>\n",
       "      <th>housing_units</th>\n",
       "      <th>housing_density</th>\n",
       "      <th>change_hunits</th>\n",
       "      <th>percent_of_rent_to_total</th>\n",
       "      <th>owned_homes</th>\n",
       "      <th>med_homeval</th>\n",
       "      <th>med_rental_rate</th>\n",
       "      <th>med_owner_cost</th>\n",
       "      <th>med_own_cost_aspercentof_income</th>\n",
       "      <th>med_hval_aspercentof_medearn</th>\n",
       "      <th>...</th>\n",
       "      <th>twobed_1500_more</th>\n",
       "      <th>twobed_750_999</th>\n",
       "      <th>threebed_1000_1499</th>\n",
       "      <th>threebed_1500_more</th>\n",
       "      <th>threebed_750_999</th>\n",
       "      <th>city</th>\n",
       "      <th>Latitude</th>\n",
       "      <th>Longitude</th>\n",
       "      <th>population</th>\n",
       "      <th>area_total_sq_mi</th>\n",
       "    </tr>\n",
       "  </thead>\n",
       "  <tbody>\n",
       "    <tr>\n",
       "      <td>165</td>\n",
       "      <td>584.0</td>\n",
       "      <td>345.8</td>\n",
       "      <td>-6.7</td>\n",
       "      <td>3.6</td>\n",
       "      <td>96.4</td>\n",
       "      <td>2000001.0</td>\n",
       "      <td>NaN</td>\n",
       "      <td>4001.0</td>\n",
       "      <td>26.0</td>\n",
       "      <td>1474.0</td>\n",
       "      <td>...</td>\n",
       "      <td>0.0</td>\n",
       "      <td>NaN</td>\n",
       "      <td>NaN</td>\n",
       "      <td>0.684</td>\n",
       "      <td>NaN</td>\n",
       "      <td>HiddenHills</td>\n",
       "      <td>34.160283</td>\n",
       "      <td>-118.652311</td>\n",
       "      <td>1676.0</td>\n",
       "      <td>1.689</td>\n",
       "    </tr>\n",
       "  </tbody>\n",
       "</table>\n",
       "<p>1 rows × 39 columns</p>\n",
       "</div>"
      ],
      "text/plain": [
       "     housing_units  housing_density  change_hunits  percent_of_rent_to_total  \\\n",
       "165          584.0            345.8           -6.7                       3.6   \n",
       "\n",
       "     owned_homes  med_homeval  med_rental_rate  med_owner_cost  \\\n",
       "165         96.4    2000001.0              NaN          4001.0   \n",
       "\n",
       "     med_own_cost_aspercentof_income  med_hval_aspercentof_medearn  ...  \\\n",
       "165                             26.0                        1474.0  ...   \n",
       "\n",
       "     twobed_1500_more  twobed_750_999  threebed_1000_1499  threebed_1500_more  \\\n",
       "165               0.0             NaN                 NaN               0.684   \n",
       "\n",
       "     threebed_750_999         city   Latitude   Longitude  population  \\\n",
       "165               NaN  HiddenHills  34.160283 -118.652311      1676.0   \n",
       "\n",
       "     area_total_sq_mi  \n",
       "165             1.689  \n",
       "\n",
       "[1 rows x 39 columns]"
      ]
     },
     "execution_count": 16,
     "metadata": {},
     "output_type": "execute_result"
    }
   ],
   "source": [
    "california_housing[pd.isna(california_housing['med_rental_rate'])]"
   ]
  },
  {
   "cell_type": "code",
   "execution_count": 17,
   "metadata": {
    "scrolled": false
   },
   "outputs": [],
   "source": [
    "california_housing = california_housing[pd.notnull(california_housing['med_rental_rate'])].reset_index(drop=True)"
   ]
  },
  {
   "cell_type": "code",
   "execution_count": 18,
   "metadata": {},
   "outputs": [],
   "source": [
    "california_housing.to_csv(directory_path+'California_Housing_Project\\\\datasets\\\\california_housing.csv')"
   ]
  },
  {
   "cell_type": "markdown",
   "metadata": {},
   "source": [
    "#  The End"
   ]
  }
 ],
 "metadata": {
  "kernelspec": {
   "display_name": "Python 3",
   "language": "python",
   "name": "python3"
  },
  "language_info": {
   "codemirror_mode": {
    "name": "ipython",
    "version": 3
   },
   "file_extension": ".py",
   "mimetype": "text/x-python",
   "name": "python",
   "nbconvert_exporter": "python",
   "pygments_lexer": "ipython3",
   "version": "3.7.4"
  },
  "varInspector": {
   "cols": {
    "lenName": 16,
    "lenType": 16,
    "lenVar": 40
   },
   "kernels_config": {
    "python": {
     "delete_cmd_postfix": "",
     "delete_cmd_prefix": "del ",
     "library": "var_list.py",
     "varRefreshCmd": "print(var_dic_list())"
    },
    "r": {
     "delete_cmd_postfix": ") ",
     "delete_cmd_prefix": "rm(",
     "library": "var_list.r",
     "varRefreshCmd": "cat(var_dic_list()) "
    }
   },
   "types_to_exclude": [
    "module",
    "function",
    "builtin_function_or_method",
    "instance",
    "_Feature"
   ],
   "window_display": false
  }
 },
 "nbformat": 4,
 "nbformat_minor": 2
}
