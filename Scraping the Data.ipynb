{
 "cells": [
  {
   "cell_type": "code",
   "execution_count": 1,
   "metadata": {},
   "outputs": [],
   "source": [
    "import requests\n",
    "from bs4 import BeautifulSoup"
   ]
  },
  {
   "cell_type": "markdown",
   "metadata": {},
   "source": [
    "TownCharts.com will provide the initial set of variables.\n",
    "Other variables might be merged after ..."
   ]
  },
  {
   "cell_type": "code",
   "execution_count": 2,
   "metadata": {},
   "outputs": [],
   "source": [
    "url = 'https://www.towncharts.com/California/Housing/Beverly-Hills-city-CA-Housing-data.html'\n",
    "r = requests.get(url)"
   ]
  },
  {
   "cell_type": "code",
   "execution_count": 3,
   "metadata": {},
   "outputs": [],
   "source": [
    "r.text\n",
    "soup = BeautifulSoup(r.text,'html.parser')"
   ]
  },
  {
   "cell_type": "markdown",
   "metadata": {},
   "source": [
    "First Section of housing in towncharts will have the variables:# housing units, housing densitt, change in housing units, renter percent \n",
    "\n",
    "Note:Each housing tab has 4 sections in total"
   ]
  },
  {
   "cell_type": "code",
   "execution_count": 4,
   "metadata": {},
   "outputs": [],
   "source": [
    "housing_1 = soup.find_all('div',attrs = {'class':'section1'})"
   ]
  },
  {
   "cell_type": "code",
   "execution_count": 5,
   "metadata": {},
   "outputs": [],
   "source": [
    "housing_sec_1=housing_1[0]"
   ]
  },
  {
   "cell_type": "code",
   "execution_count": 7,
   "metadata": {},
   "outputs": [
    {
     "data": {
      "text/plain": [
       "['Beverly Hills California Area Home Supply Charts',\n",
       " 'This page looks at a variety of housing data mostly taking from the most recent 2018 American Community Survey. ',\n",
       " 'Figure 1',\n",
       " ' shows the total number of housing units for each city in the local area shown. ',\n",
       " 'Beverly Hills',\n",
       " ' shows it has 17,145 housing units which is the 6th in housing units out of 10 total in the area. ',\n",
       " 'Figure 2',\n",
       " ' illustrates the housing density in the area as measured by houses per square land mile and it has 3,003.6 housing density which is the 6th in housing density out of 10 total in the area. The city with the highest housing density in the area is ',\n",
       " 'West Hollywood',\n",
       " ' with a density of 13,166.8 compares as approximately 4.4 times bigger. Comparing housing density to the ',\n",
       " 'United States',\n",
       " ' average of 38.3, Beverly Hills is substantially bigger. Also, in comparison with the state of ',\n",
       " 'California',\n",
       " ', housing density of 90.0, Beverly Hills compares as considerably bigger. ',\n",
       " 'The next ',\n",
       " 'Figure 4',\n",
       " ' charge shows the change in housing units and shows Beverly Hills demonstrates it has 4.6% change in the housing units which is the 2nd most of all the places in the area. The city with the highest change in the housing units in the area is ',\n",
       " 'Ladera Heights',\n",
       " ' with a housing units of 8.9% compares as about twice as large. Comparing change in the housing units to the ',\n",
       " 'United States',\n",
       " ' average of 4.1%, Beverly Hills is 11.2% larger. Also, measured against the state of ',\n",
       " 'California',\n",
       " ', change in the housing units of 2.3%, Beverly Hills is about twice as large. ',\n",
       " 'Figure 5',\n",
       " ' shows the percentage of renter households to total households. Beverly Hills shows it has 58.9% Renter Percent which is the 5th in Renter Percent out of 10 total in the area. ',\n",
       " 'Figure 6',\n",
       " ' shows the number of owner housing units and it has 41.1% Owner Percent which is the 3d most of all other places in the area. ']"
      ]
     },
     "execution_count": 7,
     "metadata": {},
     "output_type": "execute_result"
    }
   ],
   "source": [
    "import re\n",
    "housing_sec_1 =housing_sec_1.findAll(text=True)\n",
    "test =list(housing_sec_1)\n",
    "test"
   ]
  },
  {
   "cell_type": "markdown",
   "metadata": {},
   "source": [
    "Searching first section for first housing variable-housing units"
   ]
  },
  {
   "cell_type": "code",
   "execution_count": 8,
   "metadata": {},
   "outputs": [
    {
     "data": {
      "text/plain": [
       "' shows it has 17,145 housing units which is the 6th in housing units out of 10 total in the area. '"
      ]
     },
     "execution_count": 8,
     "metadata": {},
     "output_type": "execute_result"
    }
   ],
   "source": [
    "h_units=[i for i in test if re.search(r'it\\shas\\s(\\d.*?\\d)\\shousing\\sunits\\s',i)]\n",
    "h_units_str=h_units[0]\n",
    "h_units_str"
   ]
  },
  {
   "cell_type": "code",
   "execution_count": 9,
   "metadata": {},
   "outputs": [
    {
     "data": {
      "text/plain": [
       "['17,145']"
      ]
     },
     "execution_count": 9,
     "metadata": {},
     "output_type": "execute_result"
    }
   ],
   "source": [
    "temp =re.findall(r'it\\shas\\s(\\d.*?\\d)\\s',h_units_str)\n",
    "temp"
   ]
  },
  {
   "cell_type": "code",
   "execution_count": null,
   "metadata": {},
   "outputs": [],
   "source": [
    "index=0\n",
    "for text in housing_sec_1:\n",
    "    print(text)\n",
    "    print(index)\n",
    "    index +=1"
   ]
  },
  {
   "cell_type": "code",
   "execution_count": null,
   "metadata": {},
   "outputs": [],
   "source": [
    "# it has (expression) housing density\n",
    "# it has (ex) change\n",
    "# it has (ex) Renter Percent\n",
    "#(.*?)"
   ]
  },
  {
   "cell_type": "code",
   "execution_count": null,
   "metadata": {},
   "outputs": [],
   "source": []
  }
 ],
 "metadata": {
  "kernelspec": {
   "display_name": "Python 3",
   "language": "python",
   "name": "python3"
  },
  "language_info": {
   "codemirror_mode": {
    "name": "ipython",
    "version": 3
   },
   "file_extension": ".py",
   "mimetype": "text/x-python",
   "name": "python",
   "nbconvert_exporter": "python",
   "pygments_lexer": "ipython3",
   "version": "3.7.3"
  },
  "varInspector": {
   "cols": {
    "lenName": 16,
    "lenType": 16,
    "lenVar": 40
   },
   "kernels_config": {
    "python": {
     "delete_cmd_postfix": "",
     "delete_cmd_prefix": "del ",
     "library": "var_list.py",
     "varRefreshCmd": "print(var_dic_list())"
    },
    "r": {
     "delete_cmd_postfix": ") ",
     "delete_cmd_prefix": "rm(",
     "library": "var_list.r",
     "varRefreshCmd": "cat(var_dic_list()) "
    }
   },
   "types_to_exclude": [
    "module",
    "function",
    "builtin_function_or_method",
    "instance",
    "_Feature"
   ],
   "window_display": false
  }
 },
 "nbformat": 4,
 "nbformat_minor": 2
}
