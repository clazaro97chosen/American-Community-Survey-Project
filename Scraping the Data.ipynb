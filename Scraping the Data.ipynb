{
 "cells": [
  {
   "cell_type": "code",
   "execution_count": 2,
   "metadata": {},
   "outputs": [],
   "source": [
    "import requests\n",
    "import re\n",
    "from bs4 import BeautifulSoup\n",
    "from googlesearch import search"
   ]
  },
  {
   "cell_type": "markdown",
   "metadata": {},
   "source": [
    "TownCharts.com will provide the initial set of variables.\n",
    "Other variables might be merged after ...\n",
    "\n",
    "First collect relevant variables from each figures that display consistent information from each of the tabs from San Luis Obispo: Demographics, Housing,Economy,Education,Healthcare. \n",
    "\n",
    "And then automate since its a structured website for cities from major metropolitan areas. "
   ]
  },
  {
   "cell_type": "markdown",
   "metadata": {},
   "source": [
    "First up is the housing the variables. Out of the 44 figures 18(3,9,13,16,19,20,22,23,25,26,27,31,32,33,34,35,38,39) will not be included due to incosistencies. Some cities might not have the figure information and an NA will be put in place. \n",
    "\n",
    "Note figure 24:will have several variables\n"
   ]
  },
  {
   "cell_type": "code",
   "execution_count": 148,
   "metadata": {},
   "outputs": [],
   "source": [
    "url = 'https://www.towncharts.com/California/Housing/San-Luis-Obispo-city-CA-Housing-data.html'\n",
    "r = requests.get(url)\n",
    "soup = BeautifulSoup(r.text,'html.parser')"
   ]
  },
  {
   "cell_type": "markdown",
   "metadata": {},
   "source": [
    "First Section of housing in towncharts will have the variables:# housing units, housing densitt, change in housing units, renter percent \n",
    "\n",
    "Note:Each housing tab has 4 sections in total"
   ]
  },
  {
   "cell_type": "code",
   "execution_count": 149,
   "metadata": {},
   "outputs": [],
   "source": [
    "housing_s1 = soup.find_all('div',attrs = {'class':'section1'})"
   ]
  },
  {
   "cell_type": "code",
   "execution_count": 143,
   "metadata": {},
   "outputs": [
    {
     "data": {
      "text/plain": [
       "2"
      ]
     },
     "execution_count": 143,
     "metadata": {},
     "output_type": "execute_result"
    }
   ],
   "source": [
    "noted = housing_s1\n",
    "len(noted) #2 first section is the text section the desired and the second section is from the grid table not needed"
   ]
  },
  {
   "cell_type": "code",
   "execution_count": 144,
   "metadata": {},
   "outputs": [],
   "source": [
    "housing_section1=housing_s1[0]"
   ]
  },
  {
   "cell_type": "code",
   "execution_count": 145,
   "metadata": {
    "collapsed": true
   },
   "outputs": [
    {
     "name": "stdout",
     "output_type": "stream",
     "text": [
      "['San Francisco California Area Home Supply Charts', 'This page looks at a variety of housing data mostly taking from the most recent 2018 American Community Survey. ', 'Figure 1', ' shows the total number of housing units for each city in the local area shown. ', 'San Francisco', ' illustrates it has 390,376 housing units which is more than all other placesin the area. ', 'Figure 2', ' illustrates the housing density in the area as measured by houses per square land mile and it has 8,324.6 housing density which is ranked #1 of all placesin the area. Comparing housing density to the ', 'United States', ' average of 38.3, San Francisco measures appreciably bigger. Also, versus the state of ', 'California', ', housing density of 90.0, San Francisco is appreciably bigger. ', 'The next ', 'Figure 4', ' charge shows the change in housing units and shows San Francisco reveals it has 3.6% change in the housing units which is the 2nd most of all the places in the area. The city with the highest change in the housing units in the area is ', 'Broadmoor', ' with a housing units of 15.4% is approximately 4.3 times bigger. Comparing change in the housing units to the ', 'United States', ' average of 4.1%, San Francisco measures about 15.6% smaller. Also, compared to the state of ', 'California', ', change in the housing units of 2.3%, San Francisco compares as 54.2% larger. ', 'Figure 5', ' shows the percentage of renter households to total households. San Francisco demonstrates it has 62.7% Renter Percent which is at the top of all other placesin the area. ', 'Figure 6', ' shows the number of owner housing units and it has 37.3% Owner Percent which is the 4th smallest Owner Percent of all the other places in the area. ']\n"
     ]
    }
   ],
   "source": [
    "housing_text_section1 =housing_section1.findAll(text=True)\n",
    "print(housing_text_section1)\n",
    "\n",
    "    "
   ]
  },
  {
   "cell_type": "markdown",
   "metadata": {},
   "source": [
    "Searching first section for first housing variable-housing units"
   ]
  },
  {
   "cell_type": "code",
   "execution_count": 152,
   "metadata": {
    "scrolled": true
   },
   "outputs": [
    {
     "name": "stdout",
     "output_type": "stream",
     "text": [
      "['San Luis Obispo city-CA California Home Cost Charts', 'Looking at the housing data in ', 'Figure 7', ' we start with home values for the area. ', 'San Luis Obispo city-CA', ' shows it has $590,800 median home value which is the 6th in median home value out of 10 total in the area. The city with the highest median home value in the area is ', 'Los Ranchos', ' with a value of $876,000 measures 48.3% larger. ', 'Figure 8', ' shows the median rental rate in the area. San Luis Obispo city-CA shows it has $1,403 rental rates which is the 5th in rental rates out of 10 total in the area. The city with the highest rental rates in the area is ', 'Santa Margarita', ' with a rate of $1,575 measures 12.3% larger. Comparing rental rates to the ', 'United States', ' average of $982, San Luis Obispo city-CA measures 42.9% larger. Also, measured against the state of ', 'California', ', rental rates of $1,358, San Luis Obispo city-CA is only about 3.3% larger. ', 'Figure 9', ' is a frequency distribution that shows home values. San Luis Obispo city-CA has the largest proportion of home values worth between $50,000 to $100,000 at 5% of the total and is ranked #1. Second, it has the largest proportion of home values worth between $100,000 to $200,000 at 6% of the total and is ranked #1. Also, it has the largest proportion of home values worth between $500,000 to $750,000 at 39% of the total and is ranked #1. ', 'Median owner costs are shown in ', 'Figure 10', ' and includes costs associated with mortgage, utilities, insurance, etc. San Luis Obispo city-CA shows it has $1,523 median ownership cost which is the 4th in median ownership cost out of 10 total in the area. ', 'Figure 11', ' shows the median owner cost as a percent of total household income and it has 20% cost as a percent of household income which is the 4th smallest cost as a percent of household income of all the other places in the area. The next chart, ', 'Figure 12', ', shows the median home value as a percent of a median workers earnings and shows that  it has 1155% median home value as a percent of median worker earnings which is the 4th in median home value as a percent of median worker earnings out of 10 total in the area. ', '\\n', '\\n', 'Figure 14', ' depicts the median housing costs for owners with mortgages. San Luis Obispo city-CA shows it has $2,279 median housing cost which is the 6th in median housing cost out of 10 total in the area. ', 'Figure 15', ' are median housing costs for owners without mortgages and it has $450 median housing cost which is the 5th in median housing cost out of 10 total in the area. ', 'Figure 16', ' shows the distribution in total housing cost for property owners. This cost includes mortgages, lines of credit, utilities, taxes, insurance, etc. San Luis Obispo city-CA has the largest proportion of Owner Cost Between $2,000 and $2,500 at 13% of the total and is ranked #1. ', 'Next shown in ', 'Figure 17', ' is housing cost as a percent of household income for owners with mortgages is shown. San Luis Obispo city-CA illustrates it has 26% cost as a percent of household income which is the 4th smallest cost as a percent of household income of all the other places in the area. The city with the highest cost as a percent of household income in the area is ', 'Edna', ' with a cost of 50% measures about twice as large. Housing cost as a percent of household income for owners without mortgages is shown in ', 'Figure 18', '. This analysis can be useful for understanding the cost involved in home ownership excluding the cost of a mortgage. San Luis Obispo city-CA indicates it has 10% cost as a percent of household income which is the 4th in cost as a percent of household income out of 10 total in the area. The city with the highest cost as a percent of household income in the area is ', 'Avilla Beach', ' with a cost of 11% measures 14.0% larger. ', 'Figure 19', ' looks at the number of households rent as a percent of household income and shows that San Luis Obispo city-CA has the largest proportion of Rent as a percent of income is over 50pct at 43% of the total and is ranked #1. ', 'Figure 20', ' shows housing costs for owners or renters where costs for renters include: rent, utilities (if paid), insurance, etc. San Luis Obispo city-CA has the largest proportion of Housing Cost Between $1,000 and $1,500 at 22% of the total and is ranked #1. ', 'Figure 21', ' shows real estate taxes paid for each city in the local area and it has $3,471 median real estate taxes paid which is the 6th in median real estate taxes paid out of 10 total in the area. The city with the highest median real estate taxes paid in the area is ', 'Los Ranchos', ' with a taxes paid of $6,149 is 77.2% larger. Comparing median real estate taxes paid to the ', 'United States', ' average of $2,279, San Luis Obispo city-CA is 52.3% larger. Also, compared with the state of ', 'California', ', median real estate taxes paid of $3,414, San Luis Obispo city-CA is only slightly larger. ', 'Figure 23', ' shows the distribution of rental rates for area. San Luis Obispo city-CA California has the largest proportion of rent between 1000 and 1500 dollars at 30% of the total and is ranked #1. ']\n"
     ]
    }
   ],
   "source": [
    "housing_s2 = soup.find_all('div',attrs = {'class':'section2'})\n",
    "housing_section2 = housing_s2[0]\n",
    "housing_text_section2 = housing_section2.find_all(text=True)\n",
    "print(housing_text_section2)"
   ]
  },
  {
   "cell_type": "markdown",
   "metadata": {},
   "source": [
    "h_units will be empty when the text section for some reason does not contain the variable \n",
    "Thus whenever the pattern returns an empty list we can\n"
   ]
  },
  {
   "cell_type": "markdown",
   "metadata": {},
   "source": [
    "Data dictionary:\n",
    "    housing_units: total number of housing units for the city\n",
    "    housing_density: housing density in the area as measured     by houses per square land mile\n",
    "    change_hunits: the change in housing units\n",
    "    "
   ]
  },
  {
   "cell_type": "code",
   "execution_count": 146,
   "metadata": {},
   "outputs": [
    {
     "name": "stdout",
     "output_type": "stream",
     "text": [
      "['62.7%']\n"
     ]
    }
   ],
   "source": [
    "def searchpattern(pattern,resultset):\n",
    "    '''\n",
    "    pattern:regex pattern\n",
    "    resultset: A beautiful soup result set\n",
    "    output housing variable of interest type string\n",
    "    '''\n",
    "    result = [i for i in resultset if re.search(pattern,i)]\n",
    "    if result == []:\n",
    "        result  = None\n",
    "    else:\n",
    "        result = re.findall(pattern,result[0])\n",
    "    return result\n",
    "\n",
    "#for variables need to remove everything but numbers\n",
    "#figure1 \n",
    "housing_units = searchpattern('it\\shas\\s(\\d.*?\\d)\\shousing\\sunits\\s',housing_text_section1)\n",
    "#figure2 \n",
    "housing_density = searchpattern('it\\shas\\s(\\d.*?\\d)\\shousing\\sdensity\\s',housing_text_section1)\n",
    "#figure4 \n",
    "change_hunits = searchpattern('it\\shas\\s(.*?%)\\schange\\sin\\s',housing_text_section1)\n",
    "#figure5\n",
    "percent_of_rent_to_total = searchpattern('it\\shas\\s(\\d.*?%)\\sRenter\\sPercent\\s',housing_text_section1)\n",
    "\n",
    "print(percent_of_rent_to_total)"
   ]
  },
  {
   "cell_type": "code",
   "execution_count": 155,
   "metadata": {
    "collapsed": true
   },
   "outputs": [
    {
     "name": "stdout",
     "output_type": "stream",
     "text": [
      "[' shows it has $590,800 median home value which is the 6th in median home value out of 10 total in the area. The city with the highest median home value in the area is ']\n"
     ]
    }
   ],
   "source": [
    "home_value = [i for i in housing_text_section2 if re.search('it\\shas\\s(.*?\\d)\\smedian\\shome\\svalue\\s',i)]\n",
    "print(home_value)"
   ]
  },
  {
   "cell_type": "code",
   "execution_count": 121,
   "metadata": {},
   "outputs": [
    {
     "name": "stdout",
     "output_type": "stream",
     "text": [
      "['20,332']\n"
     ]
    }
   ],
   "source": [
    "# housing_units=[i for i in housing_text_section1 if re.search('it\\shas\\s(\\d.*?\\d)\\shousing\\sunits\\s',i)]\n",
    "# if housing_units == []:\n",
    "#     housing_units = None\n",
    "# else:\n",
    "#     housing_units = re.findall('it\\shas\\s(\\d.*?\\d)\\shousing\\sunits\\s',housing_units[0])\n",
    "    \n",
    "    \n",
    "        \n",
    "# print(housing_units)\n",
    "# housing_change = [i for i in housing_text_section1 if re.search('it\\shas\\s(.*?%)\\schange\\sin\\s',i)]\n",
    "# h_change = re.findall('it\\shas\\s(.*?%)\\schange\\sin\\s',housing_change[0])\n",
    "# print(h_change)\n",
    "# Percent_of_Rent_to_Total = [i for i in housing_text_section1 if re.search('it\\shas\\s(\\d.*?%)\\sRenter\\sPercent\\s',i)]\n",
    "# print(Percent_of_Rent_to_Total)"
   ]
  },
  {
   "cell_type": "markdown",
   "metadata": {},
   "source": [
    "#Automation\n",
    "#list of cities gathered from the major metropolitan areas"
   ]
  },
  {
   "cell_type": "code",
   "execution_count": 41,
   "metadata": {
    "scrolled": true
   },
   "outputs": [],
   "source": [
    "city_list = [\"San Francico\",\"San Luis Obispo\"]\n"
   ]
  },
  {
   "cell_type": "markdown",
   "metadata": {},
   "source": [
    "pause : Lapse to wait between HTTP requests. Lapse too short may cause Google to block your IP. Keeping significant lapse will make your program slow but its safe and better option."
   ]
  },
  {
   "cell_type": "code",
   "execution_count": 42,
   "metadata": {},
   "outputs": [
    {
     "name": "stdout",
     "output_type": "stream",
     "text": [
      "['https://www.towncharts.com/California/Housing/San-Francisco-city-CA-Housing-data.html', 'http://www.towncharts.com/California/Housing/San-Luis-Obispo-County-CA-Housing-data.html']\n"
     ]
    }
   ],
   "source": [
    "results = []\n",
    "#towncharts Housing san francisco CA\n",
    "for city in city_list:\n",
    "    query = \"towncharts Housing {} CA\".format(city)\n",
    "    the_url = list(search(query,tld = \"co.in\",num =1,stop =1,pause =2))[0]\n",
    "    results.append(the_url)\n",
    "print(results)"
   ]
  },
  {
   "cell_type": "code",
   "execution_count": null,
   "metadata": {},
   "outputs": [],
   "source": []
  }
 ],
 "metadata": {
  "kernelspec": {
   "display_name": "Python 3",
   "language": "python",
   "name": "python3"
  },
  "language_info": {
   "codemirror_mode": {
    "name": "ipython",
    "version": 3
   },
   "file_extension": ".py",
   "mimetype": "text/x-python",
   "name": "python",
   "nbconvert_exporter": "python",
   "pygments_lexer": "ipython3",
   "version": "3.7.3"
  },
  "varInspector": {
   "cols": {
    "lenName": 16,
    "lenType": 16,
    "lenVar": 40
   },
   "kernels_config": {
    "python": {
     "delete_cmd_postfix": "",
     "delete_cmd_prefix": "del ",
     "library": "var_list.py",
     "varRefreshCmd": "print(var_dic_list())"
    },
    "r": {
     "delete_cmd_postfix": ") ",
     "delete_cmd_prefix": "rm(",
     "library": "var_list.r",
     "varRefreshCmd": "cat(var_dic_list()) "
    }
   },
   "types_to_exclude": [
    "module",
    "function",
    "builtin_function_or_method",
    "instance",
    "_Feature"
   ],
   "window_display": false
  }
 },
 "nbformat": 4,
 "nbformat_minor": 2
}
