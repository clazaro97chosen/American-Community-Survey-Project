{
 "cells": [
  {
   "cell_type": "code",
   "execution_count": 2,
   "metadata": {},
   "outputs": [],
   "source": [
    "import requests\n",
    "import re\n",
    "from bs4 import BeautifulSoup\n",
    "from googlesearch import search"
   ]
  },
  {
   "cell_type": "markdown",
   "metadata": {},
   "source": [
    "TownCharts.com will provide the initial set of variables.\n",
    "Other variables might be merged after ...\n",
    "\n",
    "First collect variables from each figure from each of the tabs from San Luis Obispo: Demographics, Housing,Economy,Education,Healthcare. \n",
    "\n",
    "And then automate since its a structured website for cities from major metropolitan areas. "
   ]
  },
  {
   "cell_type": "markdown",
   "metadata": {},
   "source": [
    "First up is the housing with 44 figures."
   ]
  },
  {
   "cell_type": "code",
   "execution_count": 3,
   "metadata": {},
   "outputs": [],
   "source": [
    "url = 'https://www.towncharts.com/California/Housing/San-Luis-Obispo-city-CA-Housing-data.html'\n",
    "r = requests.get(url)\n",
    "soup = BeautifulSoup(r.text,'html.parser')"
   ]
  },
  {
   "cell_type": "markdown",
   "metadata": {},
   "source": [
    "First Section of housing in towncharts will have the variables:# housing units, housing densitt, change in housing units, renter percent \n",
    "\n",
    "Note:Each housing tab has 4 sections in total"
   ]
  },
  {
   "cell_type": "code",
   "execution_count": 4,
   "metadata": {},
   "outputs": [],
   "source": [
    "housing_1 = soup.find_all('div',attrs = {'class':'section1'})"
   ]
  },
  {
   "cell_type": "code",
   "execution_count": 41,
   "metadata": {
    "collapsed": true
   },
   "outputs": [
    {
     "data": {
      "text/plain": [
       "[<div class=\"section1\"><h2>San Luis Obispo city-CA California Area Home Supply Charts</h2>This page looks at a variety of housing data mostly taking from the most recent 2018 American Community Survey. <strong><a class=\"fLinkDesc\" href=\"#Figure1\" title=\"San Luis Obispo city-CA California Area Total Housing Units chart\">Figure 1</a></strong> shows the total number of housing units for each city in the local area shown. <a href=\"San-Luis-Obispo-city-CA-Housing-data.html\" title=\"San Luis Obispo city-CA California Housing data\">San Luis Obispo city-CA</a> reveals it has 20,332 housing units which is the 2nd most of all the places in the area. <br/><br/><strong><a class=\"fLinkDesc\" href=\"#Figure2\" title=\"San Luis Obispo city-CA California Housing Density (Houses per Sq. Mile) chart\">Figure 2</a></strong> illustrates the housing density in the area as measured by houses per square land mile and it has 1,548.5 housing density which is the 2nd most of all the places in the area. The city with the highest housing density in the area is <a href=\"Pismo-Beach-city-CA-Housing-data.html\" title=\"Pismo Beach California Housing data\">Pismo Beach</a> with a density of 1,562.0 is about the same size. Comparing housing density to the <a href=\"http://www.towncharts.com/United-States-Housing-data.html\" title=\"United States Housing data\">United States</a> average of 38.3, San Luis Obispo city-CA is appreciably bigger. Also, measured against the state of <a href=\"http://www.towncharts.com/California/California-state-Housing-data.html\" title=\"California Housing data\">California</a>, housing density of 90.0, San Luis Obispo city-CA is very much bigger. <br/><br/>The next <strong><a class=\"fLinkDesc\" href=\"#Figure4\" title=\"Change in Housing Units from 2010 to 2017 chart\">Figure 4</a></strong> charge shows the change in housing units and shows San Luis Obispo city-CA shows it has -1.1% change in the housing units which is the 6th in change in the housing units out of 10 total in the area. The city with the highest change in the housing units in the area is <a href=\"Edna-CDP-CA-Housing-data.html\" title=\"Edna California Housing data\">Edna</a> with a housing units of 25.4% is appreciably bigger. Comparing change in the housing units to the <a href=\"http://www.towncharts.com/United-States-Housing-data.html\" title=\"United States Housing data\">United States</a> average of 4.1%, San Luis Obispo city-CA measures about the same size. Also, benchmarked against the state of <a href=\"http://www.towncharts.com/California/California-state-Housing-data.html\" title=\"California Housing data\">California</a>, change in the housing units of 2.3%, San Luis Obispo city-CA is about the same size. <br/><br/><strong><a class=\"fLinkDesc\" href=\"#Figure5\" title=\"Rental Homes in San Luis Obispo city-CA California chart\">Figure 5</a></strong> shows the percentage of renter households to total households. San Luis Obispo city-CA indicates it has 61.7% Renter Percent which is the highest of all placesin the area. <strong><a class=\"fLinkDesc\" href=\"#Figure6\" title=\"Owned Homes in San Luis Obispo city-CA California chart\">Figure 6</a></strong> shows the number of owner housing units and it has 38.3% Owner Percent which is the 4th smallest Owner Percent of all the other places in the area. </div>,\n",
       " <div class=\"section1\">\n",
       " <table class=\"gridtable\">\n",
       " <thead><tr>\n",
       " <th><a class=\"fLink\" id=\"Figure1\">Figure 1: San Luis Obispo city-CA, CA Area Total Housing Units</a><div title=\"The total number of housing units in the area. Use the Show selector at top left of screen to change the places shown. Place mouse pointer over any data item for more information. Source: 2018 American Community Survey\"><img alt=\"San Luis Obispo city-CA, CA Area Total Housing Units\" src=\"/images/help.png\"/></div></th>\n",
       " <th><a class=\"fLink\" id=\"Figure2\">Figure 2: San Luis Obispo city-CA, CA Housing Density (Houses per Sq. Mile)</a><div title=\"Housing density is the number of housing units per square mile in the area. Use the Show selector at top left of screen to change the places shown. Place mouse pointer over any data item for more information. Source: 2018 American Community Survey\"><img alt=\"San Luis Obispo city-CA, CA Housing Density (Houses per Sq. Mile)\" src=\"/images/help.png\"/></div></th>\n",
       " </tr></thead>\n",
       " <tr>\n",
       " <td><div id=\"chart_div1\"></div></td>\n",
       " <td><div id=\"chart_div2\"></div></td>\n",
       " </tr>\n",
       " </table>\n",
       " <table class=\"gridtable\">\n",
       " <thead><tr>\n",
       " <th><a class=\"fLink\" id=\"Figure3\">Figure 3: Advertisement</a><div title=\"\"><img alt=\"Advertisement\" src=\"/images/help.png\"/></div></th>\n",
       " <th><a class=\"fLink\" id=\"Figure4\">Figure 4: Change in Housing Units from 2010 to 2017</a><div title=\"Housing density is the number of housing units per square mile in the area. Use the Show selector at top left of screen to change the places shown. Place mouse pointer over any data item for more information. Source: 2018 American Community Survey Use the Show selector at top left of screen to change the places shown. Place mouse pointer over any data item for more information. Source: 2018 American Community Survey\"><img alt=\"Change in Housing Units from 2010 to 2017\" src=\"/images/help.png\"/></div></th>\n",
       " </tr></thead>\n",
       " <tr>\n",
       " <td><div id=\"chart_div3\"><center>\n",
       " <div id=\"waldo-tag-3140\"></div>\n",
       " </center></div></td>\n",
       " <td><div id=\"chart_div4\"></div></td>\n",
       " </tr>\n",
       " </table>\n",
       " <table class=\"gridtable\">\n",
       " <thead><tr>\n",
       " <th><a class=\"fLink\" id=\"Figure5\">Figure 5: Rental Homes in San Luis Obispo city-CA, CA</a><div title=\"The percent of all occupied housing units that are rental housing units. Use the Show selector at top left of screen to change the places shown. Place mouse pointer over any data item for more information. Source: 2018 American Community Survey\"><img alt=\"Rental Homes in San Luis Obispo city-CA, CA\" src=\"/images/help.png\"/></div></th>\n",
       " <th><a class=\"fLink\" id=\"Figure6\">Figure 6: Owned Homes in San Luis Obispo city-CA, CA</a><div title=\"The percent of all occupied housing units that are owned housing units. Use the Show selector at top left of screen to change the places shown. Place mouse pointer over any data item for more information. Source: 2018 American Community Survey\"><img alt=\"Owned Homes in San Luis Obispo city-CA, CA\" src=\"/images/help.png\"/></div></th>\n",
       " </tr></thead>\n",
       " <tr>\n",
       " <td><div id=\"chart_div5\"></div></td>\n",
       " <td><div id=\"chart_div6\"></div></td>\n",
       " </tr>\n",
       " </table>\n",
       " </div>]"
      ]
     },
     "execution_count": 41,
     "metadata": {},
     "output_type": "execute_result"
    }
   ],
   "source": [
    "noted = housing_1\n",
    "len(noted) #2 first section is the text section the desired and the second section is from the grid table not needed"
   ]
  },
  {
   "cell_type": "code",
   "execution_count": 5,
   "metadata": {},
   "outputs": [],
   "source": [
    "housing_sec_1=housing_1[0]"
   ]
  },
  {
   "cell_type": "code",
   "execution_count": 6,
   "metadata": {
    "collapsed": true
   },
   "outputs": [
    {
     "data": {
      "text/plain": [
       "['San Luis Obispo city-CA California Area Home Supply Charts',\n",
       " 'This page looks at a variety of housing data mostly taking from the most recent 2018 American Community Survey. ',\n",
       " 'Figure 1',\n",
       " ' shows the total number of housing units for each city in the local area shown. ',\n",
       " 'San Luis Obispo city-CA',\n",
       " ' reveals it has 20,332 housing units which is the 2nd most of all the places in the area. ',\n",
       " 'Figure 2',\n",
       " ' illustrates the housing density in the area as measured by houses per square land mile and it has 1,548.5 housing density which is the 2nd most of all the places in the area. The city with the highest housing density in the area is ',\n",
       " 'Pismo Beach',\n",
       " ' with a density of 1,562.0 is about the same size. Comparing housing density to the ',\n",
       " 'United States',\n",
       " ' average of 38.3, San Luis Obispo city-CA is appreciably bigger. Also, measured against the state of ',\n",
       " 'California',\n",
       " ', housing density of 90.0, San Luis Obispo city-CA is very much bigger. ',\n",
       " 'The next ',\n",
       " 'Figure 4',\n",
       " ' charge shows the change in housing units and shows San Luis Obispo city-CA shows it has -1.1% change in the housing units which is the 6th in change in the housing units out of 10 total in the area. The city with the highest change in the housing units in the area is ',\n",
       " 'Edna',\n",
       " ' with a housing units of 25.4% is appreciably bigger. Comparing change in the housing units to the ',\n",
       " 'United States',\n",
       " ' average of 4.1%, San Luis Obispo city-CA measures about the same size. Also, benchmarked against the state of ',\n",
       " 'California',\n",
       " ', change in the housing units of 2.3%, San Luis Obispo city-CA is about the same size. ',\n",
       " 'Figure 5',\n",
       " ' shows the percentage of renter households to total households. San Luis Obispo city-CA indicates it has 61.7% Renter Percent which is the highest of all placesin the area. ',\n",
       " 'Figure 6',\n",
       " ' shows the number of owner housing units and it has 38.3% Owner Percent which is the 4th smallest Owner Percent of all the other places in the area. ']"
      ]
     },
     "execution_count": 6,
     "metadata": {},
     "output_type": "execute_result"
    }
   ],
   "source": [
    "import re\n",
    "housing_sec_1 =housing_sec_1.findAll(text=True)\n",
    "test =list(housing_sec_1)\n",
    "test"
   ]
  },
  {
   "cell_type": "markdown",
   "metadata": {},
   "source": [
    "Searching first section for first housing variable-housing units"
   ]
  },
  {
   "cell_type": "markdown",
   "metadata": {},
   "source": [
    "h_units will be empty when the text section for some reason does not contain the variable \n",
    "Thus whenever the pattern returns an empty list we can\n"
   ]
  },
  {
   "cell_type": "code",
   "execution_count": 13,
   "metadata": {
    "scrolled": true
   },
   "outputs": [
    {
     "name": "stdout",
     "output_type": "stream",
     "text": [
      "h\n"
     ]
    }
   ],
   "source": [
    "h_units=[i for i in test if re.search(r'it\\shas\\s(\\d.*?\\d)\\shousinggg\\sunits\\s',i)] \n",
    "if h_units == []:\n",
    "    h_units = None\n",
    "else \n",
    "# h_units_str=h_units[0]\n",
    "# h_units_str"
   ]
  },
  {
   "cell_type": "code",
   "execution_count": 45,
   "metadata": {},
   "outputs": [
    {
     "data": {
      "text/plain": [
       "['20,332']"
      ]
     },
     "execution_count": 45,
     "metadata": {},
     "output_type": "execute_result"
    }
   ],
   "source": [
    "temp =re.findall(r'it\\shas\\s(\\d.*?\\d)\\s',h_units_str)\n",
    "temp"
   ]
  },
  {
   "cell_type": "code",
   "execution_count": 46,
   "metadata": {
    "collapsed": true
   },
   "outputs": [
    {
     "name": "stdout",
     "output_type": "stream",
     "text": [
      "San Luis Obispo city-CA California Area Home Supply Charts\n",
      "0\n",
      "This page looks at a variety of housing data mostly taking from the most recent 2018 American Community Survey. \n",
      "1\n",
      "Figure 1\n",
      "2\n",
      " shows the total number of housing units for each city in the local area shown. \n",
      "3\n",
      "San Luis Obispo city-CA\n",
      "4\n",
      " reveals it has 20,332 housing units which is the 2nd most of all the places in the area. \n",
      "5\n",
      "Figure 2\n",
      "6\n",
      " illustrates the housing density in the area as measured by houses per square land mile and it has 1,548.5 housing density which is the 2nd most of all the places in the area. The city with the highest housing density in the area is \n",
      "7\n",
      "Pismo Beach\n",
      "8\n",
      " with a density of 1,562.0 is about the same size. Comparing housing density to the \n",
      "9\n",
      "United States\n",
      "10\n",
      " average of 38.3, San Luis Obispo city-CA is appreciably bigger. Also, measured against the state of \n",
      "11\n",
      "California\n",
      "12\n",
      ", housing density of 90.0, San Luis Obispo city-CA is very much bigger. \n",
      "13\n",
      "The next \n",
      "14\n",
      "Figure 4\n",
      "15\n",
      " charge shows the change in housing units and shows San Luis Obispo city-CA shows it has -1.1% change in the housing units which is the 6th in change in the housing units out of 10 total in the area. The city with the highest change in the housing units in the area is \n",
      "16\n",
      "Edna\n",
      "17\n",
      " with a housing units of 25.4% is appreciably bigger. Comparing change in the housing units to the \n",
      "18\n",
      "United States\n",
      "19\n",
      " average of 4.1%, San Luis Obispo city-CA measures about the same size. Also, benchmarked against the state of \n",
      "20\n",
      "California\n",
      "21\n",
      ", change in the housing units of 2.3%, San Luis Obispo city-CA is about the same size. \n",
      "22\n",
      "Figure 5\n",
      "23\n",
      " shows the percentage of renter households to total households. San Luis Obispo city-CA indicates it has 61.7% Renter Percent which is the highest of all placesin the area. \n",
      "24\n",
      "Figure 6\n",
      "25\n",
      " shows the number of owner housing units and it has 38.3% Owner Percent which is the 4th smallest Owner Percent of all the other places in the area. \n",
      "26\n"
     ]
    }
   ],
   "source": [
    "# index=0\n",
    "# for text in housing_sec_1:\n",
    "#     print(text)\n",
    "#     print(index)\n",
    "#     index +=1"
   ]
  },
  {
   "cell_type": "code",
   "execution_count": null,
   "metadata": {},
   "outputs": [],
   "source": [
    "# it has (expression) housing density\n",
    "# it has (ex) change\n",
    "# it has (ex) Renter Percent\n",
    "#(.*?)"
   ]
  },
  {
   "cell_type": "markdown",
   "metadata": {},
   "source": [
    "#Automation\n",
    "#list of cities gathered from the major metropolitan areas"
   ]
  },
  {
   "cell_type": "code",
   "execution_count": 41,
   "metadata": {
    "scrolled": true
   },
   "outputs": [],
   "source": [
    "city_list = [\"San Francico\",\"San Luis Obispo\"]\n"
   ]
  },
  {
   "cell_type": "code",
   "execution_count": 36,
   "metadata": {},
   "outputs": [
    {
     "name": "stdout",
     "output_type": "stream",
     "text": [
      "https://www.geeksforgeeks.org/\n"
     ]
    },
    {
     "data": {
      "text/plain": [
       "str"
      ]
     },
     "execution_count": 36,
     "metadata": {},
     "output_type": "execute_result"
    }
   ],
   "source": [
    "query = \"Geeksforgeeks\"\n",
    "  \n",
    "b =list(search(query, tld=\"co.in\", num=1, stop=1, pause=2))[0]\n",
    "\n",
    "print(b)\n",
    "type(b)"
   ]
  },
  {
   "cell_type": "markdown",
   "metadata": {},
   "source": [
    "pause : Lapse to wait between HTTP requests. Lapse too short may cause Google to block your IP. Keeping significant lapse will make your program slow but its safe and better option."
   ]
  },
  {
   "cell_type": "code",
   "execution_count": 42,
   "metadata": {},
   "outputs": [
    {
     "name": "stdout",
     "output_type": "stream",
     "text": [
      "['https://www.towncharts.com/California/Housing/San-Francisco-city-CA-Housing-data.html', 'http://www.towncharts.com/California/Housing/San-Luis-Obispo-County-CA-Housing-data.html']\n"
     ]
    }
   ],
   "source": [
    "results = []\n",
    "#towncharts Housing san francisco CA\n",
    "for city in city_list:\n",
    "    query = \"towncharts Housing {} CA\".format(city)\n",
    "    the_url = list(search(query,tld = \"co.in\",num =1,stop =1,pause =2))[0]\n",
    "    results.append(the_url)\n",
    "print(results)"
   ]
  },
  {
   "cell_type": "code",
   "execution_count": null,
   "metadata": {},
   "outputs": [],
   "source": []
  }
 ],
 "metadata": {
  "kernelspec": {
   "display_name": "Python 3",
   "language": "python",
   "name": "python3"
  },
  "language_info": {
   "codemirror_mode": {
    "name": "ipython",
    "version": 3
   },
   "file_extension": ".py",
   "mimetype": "text/x-python",
   "name": "python",
   "nbconvert_exporter": "python",
   "pygments_lexer": "ipython3",
   "version": "3.7.3"
  },
  "varInspector": {
   "cols": {
    "lenName": 16,
    "lenType": 16,
    "lenVar": 40
   },
   "kernels_config": {
    "python": {
     "delete_cmd_postfix": "",
     "delete_cmd_prefix": "del ",
     "library": "var_list.py",
     "varRefreshCmd": "print(var_dic_list())"
    },
    "r": {
     "delete_cmd_postfix": ") ",
     "delete_cmd_prefix": "rm(",
     "library": "var_list.r",
     "varRefreshCmd": "cat(var_dic_list()) "
    }
   },
   "types_to_exclude": [
    "module",
    "function",
    "builtin_function_or_method",
    "instance",
    "_Feature"
   ],
   "window_display": false
  }
 },
 "nbformat": 4,
 "nbformat_minor": 2
}
