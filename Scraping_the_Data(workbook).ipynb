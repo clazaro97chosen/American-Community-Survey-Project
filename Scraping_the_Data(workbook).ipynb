{
 "cells": [
  {
   "cell_type": "code",
   "execution_count": 56,
   "metadata": {},
   "outputs": [],
   "source": [
    "import requests\n",
    "import urllib\n",
    "import re\n",
    "from bs4 import BeautifulSoup\n",
    "from googlesearch import search\n",
    "import pandas as pd\n",
    "import numpy as np\n",
    "from fake_useragent import UserAgent\n",
    "import time\n",
    "import pickle"
   ]
  },
  {
   "cell_type": "code",
   "execution_count": null,
   "metadata": {},
   "outputs": [],
   "source": [
    "#missing_mask = housing.isnull().any(axis=1)\n",
    "# hi = housing.copy()\n",
    "# the_columns = hi.columns \n",
    "# not_missing = hi.notnull()\n",
    "# not_missing['indicator'] = not_missing[the_columns].eq(False).any(axis=1)"
   ]
  },
  {
   "cell_type": "markdown",
   "metadata": {},
   "source": [
    "TownCharts.com will provide the initial set of variables.\n",
    "Other variables might be merged after ...\n",
    "\n",
    "First collect relevant variables from each figures that display consistent information from the housing tab \n",
    "\n",
    "And then automate since its a structured website for cities in california."
   ]
  },
  {
   "cell_type": "markdown",
   "metadata": {},
   "source": [
    "First up is the housing the variables. Out of the 44 figures 18(3,9,13,16,19,20,22,23,25,26,27,31,32,33,34,35,38,39) will not be included due to incosistencies. Some cities might not have the figure information and an NA will be put in place. \n",
    "\n",
    "Note figure 24:will have several variables\n"
   ]
  },
  {
   "cell_type": "code",
   "execution_count": 57,
   "metadata": {},
   "outputs": [],
   "source": [
    "url = 'https://www.towncharts.com/California/Housing/Rolling-Hills-Estates-city-CA-Housing-data.html'\n",
    "r = requests.get(url)\n",
    "soup = BeautifulSoup(r.text,'html.parser')"
   ]
  },
  {
   "cell_type": "code",
   "execution_count": 58,
   "metadata": {},
   "outputs": [],
   "source": [
    "if r.status_code !=200:\n",
    "    print('yo')"
   ]
  },
  {
   "cell_type": "code",
   "execution_count": 59,
   "metadata": {},
   "outputs": [
    {
     "data": {
      "text/plain": [
       "200"
      ]
     },
     "execution_count": 59,
     "metadata": {},
     "output_type": "execute_result"
    }
   ],
   "source": [
    "r.status_code"
   ]
  },
  {
   "cell_type": "markdown",
   "metadata": {},
   "source": [
    "\n",
    "\n",
    "# **Note:Each housing tab has 3 vital sections in total**"
   ]
  },
  {
   "cell_type": "code",
   "execution_count": 60,
   "metadata": {},
   "outputs": [],
   "source": [
    "def get_text_section(target_section,mysoup):\n",
    "    found = mysoup.find_all('div',attrs = {'class':target_section})\n",
    "    validsection = found[0]\n",
    "    text_section = validsection.find_all(text=True)\n",
    "    return text_section\n",
    "housing_text_section1 = get_text_section('section1',soup)\n",
    "housing_text_section2 = get_text_section('section2',soup)\n",
    "housing_text_section3 = get_text_section('section4',soup)"
   ]
  },
  {
   "cell_type": "markdown",
   "metadata": {},
   "source": [
    "Data dictionary:\n",
    "<br>\n",
    "    housing_units: total number of housing units for the city\n",
    "    <br>\n",
    "    housing_density: housing density in the area as measured     by houses per square land mile\n",
    "    change_hunits: the change in housing units\n",
    "    "
   ]
  },
  {
   "cell_type": "code",
   "execution_count": 61,
   "metadata": {},
   "outputs": [],
   "source": [
    "def refinestring(desiredreplacement,yourstring):\n",
    "    \"\"\"\n",
    "    yourstring: a string which you extract only digits and decimals\n",
    "    desiredreplacement: a dictonary definining your replacement values\n",
    "    \n",
    "    returns: your string with the desired replacements you request \n",
    "    \"\"\"\n",
    "    if yourstring  == None:\n",
    "        return None\n",
    "    elif yourstring != None:\n",
    "        rep = dict((re.escape(k),v) for k,v in desiredreplacement.items())\n",
    "        pattern =re.compile(\"|\".join(rep.keys()))\n",
    "\n",
    "        return float(pattern.sub(lambda m:rep[re.escape(m.group(0))],yourstring))"
   ]
  },
  {
   "cell_type": "code",
   "execution_count": 62,
   "metadata": {},
   "outputs": [],
   "source": [
    "# rep = {\"$\":\"\",\",\":\"\",\"%\":\"\"}\n",
    "# rep = dict((re.escape(k),v)for k,v in rep.items())\n",
    "# pattern = re.compile(\"|\".join(rep.keys()))\n",
    "# test =float(pattern.sub(lambda m:rep[re.escape(m.group(0))],hcost_as_perc_of_hincome_ownmortg))"
   ]
  },
  {
   "cell_type": "code",
   "execution_count": 63,
   "metadata": {},
   "outputs": [
    {
     "data": {
      "text/plain": [
       "'Rolling Hills Estates'"
      ]
     },
     "execution_count": 63,
     "metadata": {},
     "output_type": "execute_result"
    }
   ],
   "source": [
    "city_name"
   ]
  },
  {
   "cell_type": "code",
   "execution_count": 64,
   "metadata": {},
   "outputs": [],
   "source": [
    " b = re.search('(.*)\\sCalifornia',housing_text_section1[0])"
   ]
  },
  {
   "cell_type": "code",
   "execution_count": 65,
   "metadata": {},
   "outputs": [
    {
     "name": "stdout",
     "output_type": "stream",
     "text": [
      "Rolling Hills Estates\n"
     ]
    }
   ],
   "source": [
    "print(city_name)"
   ]
  },
  {
   "cell_type": "code",
   "execution_count": null,
   "metadata": {},
   "outputs": [],
   "source": []
  },
  {
   "cell_type": "code",
   "execution_count": 23,
   "metadata": {},
   "outputs": [],
   "source": [
    "def searchpattern(pattern,resultset):\n",
    "    '''\n",
    "    pattern:regex pattern\n",
    "    resultset: A beautiful soup result set\n",
    "    output housing variable of interest type string\n",
    "    '''\n",
    "    result = [i for i in resultset if re.search(pattern,i)]\n",
    "    if result == []:\n",
    "        result  = None\n",
    "    else:\n",
    "        result = re.findall(pattern,result[0])\n",
    "    return result\n",
    "\n",
    "if re.search('(.*)\\sCalifornia',housing_text_section1[0]) == None:\n",
    "        city_name = None\n",
    "elif re.search('(.*)\\sCalifornia',housing_text_section1[0]) != None:\n",
    "        city_name = re.search('(.*)\\sCalifornia',housing_text_section1[0]).group(1)\n",
    "\n",
    "#for variables need to remove everything but numbers\n",
    "#figure1 \n",
    "housing_units = searchpattern('it\\shas\\s(\\d.*?\\d)\\shousing\\sunits\\s',housing_text_section1)\n",
    "#figure2 \n",
    "housing_density = searchpattern('it\\shas\\s(\\d.*?\\d)\\shousing\\sdensity\\s',housing_text_section1)\n",
    "#figure4 \n",
    "change_hunits = searchpattern('it\\shas\\s(.*?%)\\schange\\sin\\s',housing_text_section1)\n",
    "#figure5\n",
    "percent_of_rent_to_total = searchpattern('it\\shas\\s(\\d.*?%)\\sRenter\\sPercent\\s',housing_text_section1)\n",
    "#figure 6\n",
    "owned_homes = searchpattern('it\\shas\\s(\\d.*?%)\\sOwner\\sPercent\\s',housing_text_section1)\n",
    "#figure 7 median home value\n",
    "med_homeval = searchpattern('it\\shas\\s(.*?\\d)\\smedian\\shome\\svalue\\s',housing_text_section2)\n",
    "#figure 8 median rental rate\n",
    "med_rental_rate = searchpattern('it\\shas\\s(.*?\\d)\\srental\\srates\\s',housing_text_section2)\n",
    "#figure 10 median owner costs\n",
    "med_owner_cost = searchpattern(\"it\\shas\\s(.*?\\d)\\smedian\\sownership\\scost\\s\",housing_text_section2)\n",
    "#figure 11\n",
    "med_owner_costas_perc_of_income = searchpattern('median\\sowner\\scost\\sas\\sa\\spercent\\sof\\stotal\\shousehold\\sincome\\sand\\sit\\shas\\s(\\d.*?%)',housing_text_section2)\n",
    "\n",
    "#figure 12 median home value as a percent of a median workers earnings\n",
    "med_hval_aspercent_of_medearn = searchpattern(\"it\\shas\\s(\\d.*?%)\\smedian\\shome\\svalue\\sas\\s\",housing_text_section2)\n",
    "#figure14\n",
    "med_hcost_ownmortg=searchpattern('depicts.*\\$(.*?\\d)\\smedian',housing_text_section2)\n",
    "#figure 15\n",
    "med_hcost_own_wo_mortg = searchpattern('are.*\\$(.*?\\d)\\smedian\\shousing\\s',housing_text_section2)\n",
    "#figure 17\n",
    "hcost_as_perc_of_hincome_ownmortg= searchpattern('with\\smortgages.*\\s(\\d.*?%)\\scost',housing_text_section2)\n",
    "#figure18\n",
    "hcost_as_perc_of_hincome_womortg= searchpattern('This\\sanalysis.*\\s(\\d.*?%)\\scost',housing_text_section2)\n",
    "#figure 21 **\n",
    "med_real_estate_taxes =searchpattern('it\\shas\\s(.*?\\d)\\smedian\\sreal\\sestate\\s',housing_text_section2)\n",
    "#figure 24 biggie see below\n",
    "\n",
    "#figure 28 format 3.0\n",
    "family_members_per_hunit = searchpattern('it\\shas\\s(.*?\\d)\\sfamily\\smembers\\sper\\s',housing_text_section3)\n",
    "#figure 29 4.5\n",
    "median_num_ofrooms = searchpattern('it\\shas\\s(.*?\\d)\\saverage\\snumber\\sof\\s',housing_text_section3)\n",
    "#figure 30\n",
    "median_year_house_built = searchpattern('it\\shas\\s(.*?\\d)\\syear\\sbuilt\\swhich\\s',housing_text_section3)\n",
    "#figure 36\n",
    "household_size_of_howners = searchpattern('it\\shas\\s(.*?\\d)\\shomeowner\\shousehold\\ssize\\s',housing_text_section3)\n",
    "#figure 37\n",
    "household_size_for_renters = searchpattern('it\\shas\\s(.*?\\d)\\srenter\\shousehold\\ssize\\s',housing_text_section3)\n",
    "#figure 40\n",
    "med_year_moved_in_for_owners = searchpattern('it\\shas\\s(.*?\\d)\\smedian\\syear\\sthat\\sa\\shome',housing_text_section3)\n",
    "#figure41\n",
    "med_year_renter_moved_in = searchpattern('it\\shas\\s(.*?\\d)\\smedian\\syear\\sthat\\sa\\srenter',housing_text_section3)"
   ]
  },
  {
   "cell_type": "code",
   "execution_count": 166,
   "metadata": {},
   "outputs": [],
   "source": [
    "before = []"
   ]
  },
  {
   "cell_type": "code",
   "execution_count": 167,
   "metadata": {},
   "outputs": [],
   "source": [
    "\n",
    "before.append((city_name,housing_units,housing_density,change_hunits,percent_of_rent_to_total,owned_homes,\n",
    "           med_homeval,med_rental_rate,med_owner_cost,med_own_cost_aspercentof_income,med_hval_aspercentof_medearn,\n",
    "          med_hcost_ownmortg,med_hcost_own_wo_mortg,hcost_aspercentof_hincome_ownmortg,hcost_as_perc_of_hincome_womortg,\n",
    "          med_real_estate_taxes,family_members_per_hunit,median_num_ofrooms,median_year_house_built,household_size_of_howners,household_size_for_renters,\n",
    "          med_year_moved_in_for_owners,med_year_renter_moved_in))"
   ]
  },
  {
   "cell_type": "code",
   "execution_count": 175,
   "metadata": {},
   "outputs": [
    {
     "data": {
      "text/plain": [
       "True"
      ]
     },
     "execution_count": 175,
     "metadata": {},
     "output_type": "execute_result"
    }
   ],
   "source": [
    "med_year_renter_moved_in == None"
   ]
  },
  {
   "cell_type": "code",
   "execution_count": 169,
   "metadata": {
    "collapsed": true
   },
   "outputs": [
    {
     "data": {
      "text/plain": [
       "[('Anderson',\n",
       "  ['4,183'],\n",
       "  ['656.5'],\n",
       "  ['-0.7%'],\n",
       "  ['49.8%'],\n",
       "  ['50.2%'],\n",
       "  ['$174,000'],\n",
       "  ['$804'],\n",
       "  ['$1,023'],\n",
       "  20.0,\n",
       "  1155.0,\n",
       "  ['1,175'],\n",
       "  ['359'],\n",
       "  26.0,\n",
       "  ['13%'],\n",
       "  ['$1,460'],\n",
       "  ['3.5'],\n",
       "  ['5.0'],\n",
       "  ['1976'],\n",
       "  ['2.7'],\n",
       "  ['2.5'],\n",
       "  ['2006'],\n",
       "  None)]"
      ]
     },
     "execution_count": 169,
     "metadata": {},
     "output_type": "execute_result"
    }
   ],
   "source": [
    "before"
   ]
  },
  {
   "cell_type": "code",
   "execution_count": 22,
   "metadata": {},
   "outputs": [
    {
     "data": {
      "text/plain": [
       "'https://www.towncharts.com/California/Housing/Rolling-Hills-city-CA-Housing-data.html'"
      ]
     },
     "execution_count": 22,
     "metadata": {},
     "output_type": "execute_result"
    }
   ],
   "source": [
    "url"
   ]
  },
  {
   "cell_type": "code",
   "execution_count": 27,
   "metadata": {},
   "outputs": [
    {
     "data": {
      "text/html": [
       "<div>\n",
       "<style scoped>\n",
       "    .dataframe tbody tr th:only-of-type {\n",
       "        vertical-align: middle;\n",
       "    }\n",
       "\n",
       "    .dataframe tbody tr th {\n",
       "        vertical-align: top;\n",
       "    }\n",
       "\n",
       "    .dataframe thead th {\n",
       "        text-align: right;\n",
       "    }\n",
       "</style>\n",
       "<table border=\"1\" class=\"dataframe\">\n",
       "  <thead>\n",
       "    <tr style=\"text-align: right;\">\n",
       "      <th></th>\n",
       "      <th>0</th>\n",
       "    </tr>\n",
       "  </thead>\n",
       "  <tbody>\n",
       "    <tr>\n",
       "      <th>0</th>\n",
       "      <td>Rolling-Hills-city</td>\n",
       "    </tr>\n",
       "  </tbody>\n",
       "</table>\n",
       "</div>"
      ],
      "text/plain": [
       "                    0\n",
       "0  Rolling-Hills-city"
      ]
     },
     "execution_count": 27,
     "metadata": {},
     "output_type": "execute_result"
    }
   ],
   "source": [
    "v = (pd.Series(url)).str.extract(r'Housing\\/(.*?)-CA')\n",
    "v"
   ]
  },
  {
   "cell_type": "code",
   "execution_count": 66,
   "metadata": {},
   "outputs": [],
   "source": [
    "def searchpattern(pattern,resultset):\n",
    "    '''\n",
    "    pattern:regex pattern\n",
    "    resultset: A beautiful soup result set\n",
    "    output housing variable of interest type string\n",
    "    '''\n",
    "    result = [i for i in resultset if re.search(pattern,i)]\n",
    "    if result == []:\n",
    "        result  = None\n",
    "    elif result !=[]:\n",
    "        result = (re.findall(pattern,result[0]))[0]\n",
    "    return result"
   ]
  },
  {
   "cell_type": "code",
   "execution_count": 67,
   "metadata": {},
   "outputs": [],
   "source": [
    "\n",
    "\n",
    "if re.search('(.*)\\sCalifornia',housing_text_section1[0]) == None:\n",
    "        city_name = (pd.Series(aurl)).str.extract(r'Housing\\/(.*?)-CA')\n",
    "elif re.search('(.*)\\sCalifornia',housing_text_section1[0]) != None:\n",
    "        city_name = re.search('(.*)\\sCalifornia',housing_text_section1[0]).group(1)\n",
    "\n",
    "#for variables need to remove everything but numbers\n",
    "#figure1 \n",
    "housing_units = searchpattern('it\\shas\\s(\\d.*?\\d)\\shousing\\sunits\\s',housing_text_section1)\n",
    "housing_units = refinestring({\"$\":\"\",\",\":\"\",\"%\":\"\"},housing_units)\n",
    "\n",
    "\n",
    "#figure2 \n",
    "housing_density = searchpattern('it\\shas\\s(\\d.*?\\d)\\shousing\\sdensity\\s',housing_text_section1)\n",
    "housing_density = refinestring({\"$\":\"\",\",\":\"\",\"%\":\"\"},housing_density)\n",
    "\n",
    "#figure4 \n",
    "change_hunits = searchpattern('it\\shas\\s(.*?%)\\schange\\sin\\s',housing_text_section1)\n",
    "change_hunits = refinestring({\"$\":\"\",\",\":\"\",\"%\":\"\"},change_hunits)\n",
    "\n",
    "#figure5\n",
    "percent_of_rent_to_total = searchpattern('it\\shas\\s(\\d.*?%)\\sRenter\\sPercent\\s',housing_text_section1)\n",
    "percent_of_rent_to_total = refinestring({\"$\":\"\",\",\":\"\",\"%\":\"\"},percent_of_rent_to_total)\n",
    "\n",
    "\n",
    "#figure 6\n",
    "owned_homes = searchpattern('it\\shas\\s(\\d.*?%)\\sOwner\\sPercent\\s',housing_text_section1)\n",
    "owned_homes = refinestring({\"$\":\"\",\",\":\"\",\"%\":\"\"},owned_homes)\n",
    "\n",
    "#figure 7 median home value (unique character  = $-numbers-commas)\n",
    "med_homeval = searchpattern('it\\shas\\s(.*?\\d)\\smedian\\shome\\svalue\\s',housing_text_section2)\n",
    "med_homeval = refinestring({\"$\":\"\",\",\":\"\",\"%\":\"\"},med_homeval)\n",
    "\n",
    "#figure 8 median rental rate\n",
    "med_rental_rate = searchpattern('it\\shas\\s(.*?\\d)\\srental\\srates\\s',housing_text_section2)\n",
    "med_rental_rate = refinestring({\"$\":\"\",\",\":\"\",\"%\":\"\"},med_rental_rate)\n",
    "\n",
    "#figure 10 median owner costs\n",
    "med_owner_cost = searchpattern(\"it\\shas\\s(.*?\\d)\\smedian\\sownership\\scost\\s\",housing_text_section2)\n",
    "med_owner_cost = refinestring({\"$\":\"\",\",\":\"\",\"%\":\"\"},med_owner_cost)\n",
    "\n",
    "#figure 11\n",
    "med_own_cost_aspercentof_income = searchpattern('median\\sowner\\scost\\sas\\sa\\spercent\\sof\\stotal\\shousehold\\sincome\\sand\\sit\\shas\\s(\\d.*?%)',housing_text_section2)\n",
    "med_own_cost_aspercentof_income = refinestring({\"$\":\"\",\",\":\"\",\"%\":\"\"},med_own_cost_aspercentof_income)\n",
    "\n",
    "\n",
    "#figure 12 median home value as a percent of a median workers earnings\n",
    "med_hval_aspercentof_medearn = searchpattern(\"it\\shas\\s(\\d.*?%)\\smedian\\shome\\svalue\\sas\\s\",housing_text_section2)\n",
    "med_hval_aspercentof_medearn = refinestring({\"$\":\"\",\",\":\"\",\"%\":\"\"},med_hval_aspercentof_medearn)\n",
    "\n",
    "\n",
    "#figure14\n",
    "med_hcost_ownmortg = searchpattern('depicts.*\\$(.*?\\d)\\smedian',housing_text_section2)\n",
    "med_hcost_ownmortg = refinestring({\"$\":\"\",\",\":\"\",\"%\":\"\"},med_hcost_ownmortg)\n",
    "\n",
    "\n",
    "#figure 15\n",
    "med_hcost_own_wo_mortg = searchpattern('are.*\\$(.*?\\d)\\smedian\\shousing\\s',housing_text_section2)\n",
    "med_hcost_own_wo_mortg = refinestring({\"$\":\"\",\",\":\"\",\"%\":\"\"},med_hcost_own_wo_mortg)\n",
    "\n",
    "#figure 17\n",
    "hcost_aspercentof_hincome_ownmortg= refinestring({\"$\":\"\",\",\":\"\",\"%\":\"\"},searchpattern('with\\smortgages.*\\s(\\d.*?%)\\scost',housing_text_section2))\n",
    "\n",
    "\n",
    "\n",
    "#figure18\n",
    "hcost_as_perc_of_hincome_womortg = refinestring({\"$\":\"\",\",\":\"\",\"%\":\"\"},searchpattern('This\\sanalysis.*\\s(\\d.*?%)\\scost',housing_text_section2))\n",
    "\n",
    "\n",
    "#figure 21 **\n",
    "med_real_estate_taxes = refinestring({\"$\":\"\",\",\":\"\",\"%\":\"\"},searchpattern('it\\shas\\s(.*?\\d)\\smedian\\sreal\\sestate\\s',housing_text_section2))\n",
    "#figure 24 biggie see below\n",
    "\n",
    "#figure 28 format 3.0\n",
    "family_members_per_hunit = refinestring({\"$\":\"\",\",\":\"\",\"%\":\"\"},searchpattern('it\\shas\\s(.*?\\d)\\sfamily\\smembers\\sper\\s',housing_text_section3))\n",
    "\n",
    "\n",
    "#figure 29 4.5\n",
    "median_num_ofrooms = refinestring({\"$\":\"\",\",\":\"\",\"%\":\"\"},searchpattern('it\\shas\\s(.*?\\d)\\saverage\\snumber\\sof\\s',housing_text_section3))\n",
    "\n",
    "\n",
    "#figure 30\n",
    "median_year_house_built = refinestring({\"$\":\"\",\",\":\"\",\"%\":\"\"},searchpattern('it\\shas\\s(.*?\\d)\\syear\\sbuilt\\swhich\\s',housing_text_section3))\n",
    "\n",
    "\n",
    "#figure 36\n",
    "household_size_of_howners = refinestring({\"$\":\"\",\",\":\"\",\"%\":\"\"},searchpattern('it\\shas\\s(.*?\\d)\\shomeowner\\shousehold\\ssize\\s',housing_text_section3))\n",
    "\n",
    "\n",
    "#figure 37\n",
    "household_size_for_renters = refinestring({\"$\":\"\",\",\":\"\",\"%\":\"\"},searchpattern('it\\shas\\s(.*?\\d)\\srenter\\shousehold\\ssize\\s',housing_text_section3))\n",
    "#figure 40\n",
    "med_year_moved_in_for_owners = refinestring({\"$\":\"\",\",\":\"\",\"%\":\"\"},searchpattern('it\\shas\\s(.*?\\d)\\smedian\\syear\\sthat\\sa\\shome',housing_text_section3))\n",
    "#figure41\n",
    "med_year_renter_moved_in = refinestring({\"$\":\"\",\",\":\"\",\"%\":\"\"},searchpattern('it\\shas\\s(.*?\\d)\\smedian\\syear\\sthat\\sa\\srenter',housing_text_section3))"
   ]
  },
  {
   "cell_type": "code",
   "execution_count": 68,
   "metadata": {},
   "outputs": [],
   "source": [
    "javascript = soup.find_all('script',attrs = {'type':'text/javascript'})\n",
    "need = javascript[4]\n",
    "needtext = str(need.find_all(text=True))\n",
    "\n",
    "if re.search('data24\\s\\=\\sgoogle\\.visualization\\.arrayToDataTable\\((.*?)\\);',needtext) == None:\n",
    "       \n",
    "        studio_1000_1499 = None\n",
    "        onebed_1000_1499 = None\n",
    "        twobed_1000_1499 = None\n",
    "        threebed_1000_1499 = None\n",
    "        studio_1500_more = None\n",
    "        onebed_1500_more = None\n",
    "        twobed_1500_more = None\n",
    "        threebed_1500_more = None\n",
    "        studio_750_999 = None\n",
    "        onebed_750_999 = None\n",
    "        twobed_750_999 = None\n",
    "        threebed_750_999 = None\n",
    "elif re.search('data24\\s\\=\\sgoogle\\.visualization\\.arrayToDataTable\\((.*?)\\);',needtext) != None:\n",
    "        \n",
    "        fig24 = re.search('data24\\s\\=\\sgoogle\\.visualization\\.arrayToDataTable\\((.*?)\\);',needtext).group(1)\n",
    "        list_strs = re.findall(r'\\[(.*?)\\]',fig24)\n",
    "        #gathering the variables in the table\n",
    "        check1 = True\n",
    "        check2 = True\n",
    "        check3 = True\n",
    "        for i,v in enumerate(list_strs):\n",
    "            if '$1,000 to $1,499' in v:\n",
    "                check1 = False\n",
    "                val1 = re.findall('v\\:(.*?\\d),',v)\n",
    "                studio_1000_1499 = float(val1[0])\n",
    "                onebed_1000_1499 = float(val1[1])\n",
    "                twobed_1000_1499 = float(val1[2])\n",
    "                threebed_1000_1499 = float(val1[3])\n",
    "            elif '$1,500 or more' in v:\n",
    "                check2 = False\n",
    "                val2 = re.findall('v\\:(.*?\\d),',v)\n",
    "                studio_1500_more = float(val2[0])\n",
    "                onebed_1500_more = float(val2[1])\n",
    "                twobed_1500_more = float(val2[2])\n",
    "                threebed_1500_more = float(val2[3])\n",
    "            elif '$750 to $999' in v:\n",
    "                check3 = False\n",
    "                val3 = re.findall('v\\:(.*?\\d),',v)\n",
    "                studio_750_999 = float(val3[0])\n",
    "                onebed_750_999 = float(val3[1])\n",
    "                twobed_750_999 = float(val3[2])\n",
    "                threebed_750_999 = float(val3[3])\n",
    "\n",
    "        if check1:\n",
    "            studio_1000_1499 = None\n",
    "            onebed_1000_1499 = None\n",
    "            twobed_1000_1499 = None\n",
    "            threebed_1000_1499 = None\n",
    "\n",
    "        if check2:\n",
    "            studio_1500_more = None\n",
    "            onebed_1500_more = None\n",
    "            twobed_1500_more = None\n",
    "            threebed_1500_more = None\n",
    "\n",
    "        if check3:\n",
    "            studio_750_999 = None\n",
    "            onebed_750_999 = None\n",
    "            twobed_750_999 = None\n",
    "            threebed_750_999 = None"
   ]
  },
  {
   "cell_type": "code",
   "execution_count": 69,
   "metadata": {},
   "outputs": [],
   "source": [
    "after = []"
   ]
  },
  {
   "cell_type": "code",
   "execution_count": 70,
   "metadata": {},
   "outputs": [],
   "source": [
    "after.append((city_name,housing_units,housing_density,change_hunits,percent_of_rent_to_total,owned_homes,\n",
    "           med_homeval,med_rental_rate,med_owner_cost,med_own_cost_aspercentof_income,med_hval_aspercentof_medearn,\n",
    "          med_hcost_ownmortg,med_hcost_own_wo_mortg,hcost_aspercentof_hincome_ownmortg,hcost_as_perc_of_hincome_womortg,\n",
    "          med_real_estate_taxes,family_members_per_hunit,median_num_ofrooms,median_year_house_built,household_size_of_howners,household_size_for_renters,\n",
    "          med_year_moved_in_for_owners,med_year_renter_moved_in,studio_1000_1499,studio_1500_more,studio_750_999,onebed_1000_1499,onebed_1500_more,onebed_750_999,\n",
    "          twobed_1000_1499,twobed_1500_more,twobed_750_999,threebed_1000_1499,threebed_1500_more,threebed_750_999))\n",
    "    "
   ]
  },
  {
   "cell_type": "code",
   "execution_count": 71,
   "metadata": {
    "collapsed": true
   },
   "outputs": [
    {
     "data": {
      "text/plain": [
       "[('Rolling Hills Estates',\n",
       "  3192.0,\n",
       "  894.3,\n",
       "  3.0,\n",
       "  7.5,\n",
       "  92.5,\n",
       "  1096400.0,\n",
       "  2945.0,\n",
       "  3145.0,\n",
       "  24.0,\n",
       "  1052.0,\n",
       "  3994.0,\n",
       "  881.0,\n",
       "  28.0,\n",
       "  12.0,\n",
       "  8293.0,\n",
       "  3.2,\n",
       "  6.8,\n",
       "  1967.0,\n",
       "  2.7,\n",
       "  2.7,\n",
       "  2000.0,\n",
       "  2011.0,\n",
       "  None,\n",
       "  0.0,\n",
       "  None,\n",
       "  None,\n",
       "  0.556,\n",
       "  None,\n",
       "  None,\n",
       "  0.836,\n",
       "  None,\n",
       "  None,\n",
       "  0.816,\n",
       "  None)]"
      ]
     },
     "execution_count": 71,
     "metadata": {},
     "output_type": "execute_result"
    }
   ],
   "source": [
    "after"
   ]
  },
  {
   "cell_type": "code",
   "execution_count": 180,
   "metadata": {
    "scrolled": false
   },
   "outputs": [
    {
     "name": "stdout",
     "output_type": "stream",
     "text": [
      "[('Anderson', ['4,183'], ['656.5'], ['-0.7%'], ['49.8%'], ['50.2%'], ['$174,000'], ['$804'], ['$1,023'], 20.0, 1155.0, ['1,175'], ['359'], 26.0, ['13%'], ['$1,460'], ['3.5'], ['5.0'], ['1976'], ['2.7'], ['2.5'], ['2006'], None)]\n"
     ]
    },
    {
     "data": {
      "text/plain": [
       "None"
      ]
     },
     "metadata": {},
     "output_type": "display_data"
    },
    {
     "name": "stdout",
     "output_type": "stream",
     "text": [
      "[('Anderson', 4183.0, 656.5, -0.7, 49.8, 50.2, 174000.0, 804.0, 1023.0, 23.0, 538.0, 1175.0, 359.0, 25.0, 13.0, 1460.0, 3.5, 5.0, 1976.0, 2.7, 2.5, 2006.0, None)]\n"
     ]
    },
    {
     "data": {
      "text/plain": [
       "None"
      ]
     },
     "metadata": {},
     "output_type": "display_data"
    }
   ],
   "source": [
    "display(print(before))\n",
    "display(print(after))"
   ]
  },
  {
   "cell_type": "code",
   "execution_count": 648,
   "metadata": {},
   "outputs": [],
   "source": [
    "# rep = {\"$\":\"\",\",\":\"\",\"%\":\"\"}\n",
    "# rep = dict((re.escape(k),v)for k,v in rep.items())\n",
    "# pattern = re.compile(\"|\".join(rep.keys()))\n",
    "# test =float(pattern.sub(lambda m:rep[re.escape(m.group(0))],hcost_as_perc_of_hincome_ownmortg))"
   ]
  },
  {
   "cell_type": "code",
   "execution_count": null,
   "metadata": {},
   "outputs": [],
   "source": [
    "#pattern.sub(lambda m:rep[re.escape(m.group(0))],med_homeval)"
   ]
  },
  {
   "cell_type": "code",
   "execution_count": 35,
   "metadata": {
    "scrolled": false
   },
   "outputs": [
    {
     "data": {
      "text/plain": [
       "<re.Match object; span=(46670, 47031), match=\"data24 = google.visualization.arrayToDataTable([[>"
      ]
     },
     "execution_count": 35,
     "metadata": {},
     "output_type": "execute_result"
    }
   ],
   "source": [
    "fig24 = re.search('data24\\s\\=\\sgoogle\\.visualization\\.arrayToDataTable\\((.*?)\\);',needtext)\n",
    "fig24"
   ]
  },
  {
   "cell_type": "code",
   "execution_count": 40,
   "metadata": {},
   "outputs": [
    {
     "name": "stdout",
     "output_type": "stream",
     "text": [
      "None\n"
     ]
    }
   ],
   "source": [
    "print(fig24)"
   ]
  },
  {
   "cell_type": "code",
   "execution_count": 117,
   "metadata": {},
   "outputs": [
    {
     "data": {
      "text/plain": [
       "[\"[\\\\'Rental Rates\\\\',\\\\'Studio-No Bedroom\\\\',\\\\'One Bedroom\\\\',\\\\'Two Bedroom\\\\',\\\\'Three Bedroom\\\\'\",\n",
       " \"\\\\'$1,000 to $1,499\\\\',{v:0,f:\\\\'0%\\\\'},{v:0.105,f:\\\\'10.5%\\\\'},{v:0.064,f:\\\\'6.4%\\\\'},{v:0,f:\\\\'0%\\\\'}\",\n",
       " \"\\\\'$1,500 or more\\\\',{v:1.0,f:\\\\'100.0%\\\\'},{v:0.895,f:\\\\'89.5%\\\\'},{v:0.899,f:\\\\'89.9%\\\\'},{v:0.962,f:\\\\'96.2%\\\\'}\",\n",
       " \"\\\\'$750 to $999\\\\',{v:0,f:\\\\'0%\\\\'},{v:0,f:\\\\'0%\\\\'},{v:0.038,f:\\\\'3.8%\\\\'},{v:0,f:\\\\'0%\\\\'}\",\n",
       " \"\\\\'No cash rent\\\\',{v:0,f:\\\\'0%\\\\'},{v:0,f:\\\\'0%\\\\'},{v:0,f:\\\\'0%\\\\'},{v:0.038,f:\\\\'3.8%\\\\'}\"]"
      ]
     },
     "execution_count": 117,
     "metadata": {},
     "output_type": "execute_result"
    }
   ],
   "source": [
    "list_strs"
   ]
  },
  {
   "cell_type": "code",
   "execution_count": 122,
   "metadata": {},
   "outputs": [
    {
     "ename": "SyntaxError",
     "evalue": "invalid syntax (<ipython-input-122-d6aac109644f>, line 1)",
     "output_type": "error",
     "traceback": [
      "\u001b[1;36m  File \u001b[1;32m\"<ipython-input-122-d6aac109644f>\"\u001b[1;36m, line \u001b[1;32m1\u001b[0m\n\u001b[1;33m    check1 =\u001b[0m\n\u001b[1;37m             ^\u001b[0m\n\u001b[1;31mSyntaxError\u001b[0m\u001b[1;31m:\u001b[0m invalid syntax\n"
     ]
    }
   ],
   "source": [
    "check1 = True\n",
    "check2 = True\n",
    "check3 = True\n",
    "for i,v in enumerate(list_strs):\n",
    "    if '$1,000 to $1,499' in v:\n",
    "        check1 = False\n",
    "        val1 = re.findall('v\\:(.*?\\d),',v)\n",
    "        studio_1000_1499 = float(val1[0])\n",
    "        onebed_1000_1499 = float(val1[1])\n",
    "        twobed_1000_1499 = float(val1[2])\n",
    "        threebed_1000_1499 = float(val1[3])\n",
    "    elif '$1,500 or more' in v:\n",
    "        check2 = False\n",
    "        val2 = re.findall('v\\:(.*?\\d),',v)\n",
    "        studio_1500_more = float(val2[0])\n",
    "        onebed_1500_more = float(val2[1])\n",
    "        twobed_1500_more = float(val2[2])\n",
    "        threebed_1500_more = float(val2[3])\n",
    "    elif '$750 to $999' in v:\n",
    "        check3 = False\n",
    "        val3 = re.findall('v\\:(.*?\\d),',v)\n",
    "        studio_750_999 = float(val3[0])\n",
    "        onebed_750_999 = float(val3[1])\n",
    "        twobed_750_999 = float(val3[2])\n",
    "        threebed_750_999 = float(val3[3])\n",
    "    \n",
    "if check1:\n",
    "    studio_1000_1499 = None\n",
    "    onebed_1000_1499 = None\n",
    "    twobed_1000_1499 = None\n",
    "    threebed_1000_1499 = None\n",
    "\n",
    "if check2:\n",
    "    studio_1500_more = None\n",
    "    onebed_1500_more = None\n",
    "    twobed_1500_more = None\n",
    "    threebed_1500_more = None\n",
    "\n",
    "if check3:\n",
    "    studio_750_999 = None\n",
    "    onebed_750_999 = None\n",
    "    twobed_750_999 = None\n",
    "    threebed_750_999 = None\n",
    "    \n"
   ]
  },
  {
   "cell_type": "code",
   "execution_count": 119,
   "metadata": {},
   "outputs": [
    {
     "data": {
      "text/plain": [
       "['0', '0.105', '0.064', '0']"
      ]
     },
     "execution_count": 119,
     "metadata": {},
     "output_type": "execute_result"
    }
   ],
   "source": [
    "val1"
   ]
  },
  {
   "cell_type": "code",
   "execution_count": 120,
   "metadata": {},
   "outputs": [
    {
     "data": {
      "text/plain": [
       "['1.0', '0.895', '0.899', '0.962']"
      ]
     },
     "execution_count": 120,
     "metadata": {},
     "output_type": "execute_result"
    }
   ],
   "source": [
    "val2"
   ]
  },
  {
   "cell_type": "code",
   "execution_count": 121,
   "metadata": {},
   "outputs": [
    {
     "data": {
      "text/plain": [
       "['0', '0', '0.038', '0']"
      ]
     },
     "execution_count": 121,
     "metadata": {},
     "output_type": "execute_result"
    }
   ],
   "source": [
    "val3"
   ]
  },
  {
   "cell_type": "code",
   "execution_count": 79,
   "metadata": {
    "scrolled": true
   },
   "outputs": [
    {
     "data": {
      "text/plain": [
       "['0',\n",
       " '0.105',\n",
       " '0.064',\n",
       " '0',\n",
       " '1.0',\n",
       " '0.895',\n",
       " '0.899',\n",
       " '0.962',\n",
       " '0',\n",
       " '0',\n",
       " '0.038',\n",
       " '0',\n",
       " '0',\n",
       " '0',\n",
       " '0',\n",
       " '0.038']"
      ]
     },
     "execution_count": 79,
     "metadata": {},
     "output_type": "execute_result"
    }
   ],
   "source": [
    "mrr = re.findall(\"v\\:(.*?\\d),\",fig24)\n",
    "mrr"
   ]
  },
  {
   "cell_type": "code",
   "execution_count": 54,
   "metadata": {},
   "outputs": [],
   "source": [
    "studio_1000_1499 = mrr[0]\n",
    "studio_1500_more= mrr[4]\n",
    "studio_750_999 = mrr[16]"
   ]
  },
  {
   "cell_type": "code",
   "execution_count": 55,
   "metadata": {},
   "outputs": [],
   "source": [
    "onebed_1000_1499 = mrr[1]\n",
    "onebed_1500_more = mrr[5]\n",
    "onebed_750_999 = mrr[17]"
   ]
  },
  {
   "cell_type": "code",
   "execution_count": 56,
   "metadata": {},
   "outputs": [],
   "source": [
    "twobed_1000_1499 = mrr[2]\n",
    "twobed_1500_more = mrr[6]\n",
    "twobed_750_999 = mrr[18]"
   ]
  },
  {
   "cell_type": "code",
   "execution_count": 58,
   "metadata": {},
   "outputs": [],
   "source": [
    "threebed_1000_1499 = mrr[3]\n",
    "threebed_1500_more = mrr[7]\n",
    "threebed_750_999 = mrr[19]"
   ]
  },
  {
   "cell_type": "code",
   "execution_count": 102,
   "metadata": {},
   "outputs": [
    {
     "name": "stdout",
     "output_type": "stream",
     "text": [
      "[' shows the household size for families living in the area and it has 3.0 family members per housing unit which is the 2nd most of all the places in the area. The city with the highest family members per housing unit in the area is ']\n"
     ]
    }
   ],
   "source": [
    "testing = [i for i in housing_text_section3 if re.search('it\\shas\\s(.*?\\d)\\sfamily\\smembers\\sper\\s',i)]\n",
    "print(testing)"
   ]
  },
  {
   "cell_type": "code",
   "execution_count": 121,
   "metadata": {},
   "outputs": [
    {
     "name": "stdout",
     "output_type": "stream",
     "text": [
      "['20,332']\n"
     ]
    }
   ],
   "source": [
    "# housing_units=[i for i in housing_text_section1 if re.search('it\\shas\\s(\\d.*?\\d)\\shousing\\sunits\\s',i)]\n",
    "# if housing_units == []:\n",
    "#     housing_units = None\n",
    "# else:\n",
    "#     housing_units = re.findall('it\\shas\\s(\\d.*?\\d)\\shousing\\sunits\\s',housing_units[0])\n",
    "    \n",
    "    \n",
    "        \n",
    "# print(housing_units)\n",
    "# housing_change = [i for i in housing_text_section1 if re.search('it\\shas\\s(.*?%)\\schange\\sin\\s',i)]\n",
    "# h_change = re.findall('it\\shas\\s(.*?%)\\schange\\sin\\s',housing_change[0])\n",
    "# print(h_change)\n",
    "# Percent_of_Rent_to_Total = [i for i in housing_text_section1 if re.search('it\\shas\\s(\\d.*?%)\\sRenter\\sPercent\\s',i)]\n",
    "# print(Percent_of_Rent_to_Total)"
   ]
  },
  {
   "cell_type": "markdown",
   "metadata": {},
   "source": [
    "#Automation\n",
    "#list of cities gathered from the major metropolitan areas"
   ]
  },
  {
   "cell_type": "code",
   "execution_count": 192,
   "metadata": {},
   "outputs": [],
   "source": [
    "cities_data = pd.read_csv(\"C:\\\\Users\\\\Crist\\\\AppData\\\\Local\\\\Temp\\\\American-Community-Survey-Project\\\\cal_cities_lat_long.csv\")"
   ]
  },
  {
   "cell_type": "code",
   "execution_count": 210,
   "metadata": {},
   "outputs": [],
   "source": [
    "city_list = cities_data.Name.tolist()\n",
    "list_of_cities = []\n",
    "for city in city_list:\n",
    "    new = city.replace(' ','-')\n",
    "    list_of_cities.append(new)"
   ]
  },
  {
   "cell_type": "code",
   "execution_count": 316,
   "metadata": {
    "collapsed": true
   },
   "outputs": [
    {
     "data": {
      "text/plain": [
       "['Adelanto',\n",
       " 'Agoura-Hills',\n",
       " 'Alameda',\n",
       " 'Albany',\n",
       " 'Alhambra',\n",
       " 'Aliso-Viejo',\n",
       " 'Alturas',\n",
       " 'Amador-City',\n",
       " 'American-Canyon',\n",
       " 'Anaheim',\n",
       " 'Anderson',\n",
       " 'Angels',\n",
       " 'Antioch',\n",
       " 'Arcadia',\n",
       " 'Arcata',\n",
       " 'Arroyo-Grande',\n",
       " 'Artesia',\n",
       " 'Arvin',\n",
       " 'Atascadero',\n",
       " 'Atwater',\n",
       " 'Auburn',\n",
       " 'Avalon',\n",
       " 'Avenal',\n",
       " 'Azusa',\n",
       " 'Bakersfield',\n",
       " 'Baldwin-Park',\n",
       " 'Banning',\n",
       " 'Barstow',\n",
       " 'Beaumont',\n",
       " 'Bell',\n",
       " 'Bell-Gardens',\n",
       " 'Bellflower',\n",
       " 'Belmont',\n",
       " 'Belvedere',\n",
       " 'Berkeley',\n",
       " 'Beverly-Hills',\n",
       " 'Big-Bear-Lake',\n",
       " 'Biggs',\n",
       " 'Bishop',\n",
       " 'Blue-Lake',\n",
       " 'Blythe',\n",
       " 'Bradbury',\n",
       " 'Brawley',\n",
       " 'Brea',\n",
       " 'Brentwood',\n",
       " 'Brisbane',\n",
       " 'Buellton',\n",
       " 'Buena-Park',\n",
       " 'Burbank',\n",
       " 'Burlingame',\n",
       " 'Calabasas',\n",
       " 'Calexico',\n",
       " 'California-City',\n",
       " 'Calimesa',\n",
       " 'Calipatria',\n",
       " 'Calistoga',\n",
       " 'Camarillo',\n",
       " 'Campbell',\n",
       " 'Canyon-Lake',\n",
       " 'Capitola',\n",
       " 'Carlsbad',\n",
       " 'Carmel-By-the-Sea',\n",
       " 'Carpinteria',\n",
       " 'Carson',\n",
       " 'Cathedral-City',\n",
       " 'Ceres',\n",
       " 'Cerritos',\n",
       " 'Chico',\n",
       " 'Chino',\n",
       " 'Chino-Hills',\n",
       " 'Chowchilla',\n",
       " 'Chula-Vista',\n",
       " 'Citrus-Heights',\n",
       " 'Claremont',\n",
       " 'Clayton',\n",
       " 'Clearlake',\n",
       " 'Cloverdale',\n",
       " 'Clovis',\n",
       " 'Coachella',\n",
       " 'Coalinga',\n",
       " 'Colfax',\n",
       " 'Colton',\n",
       " 'Colusa',\n",
       " 'Commerce',\n",
       " 'Compton',\n",
       " 'Concord',\n",
       " 'Corcoran',\n",
       " 'Corning',\n",
       " 'Corona',\n",
       " 'Coronado',\n",
       " 'Costa-Mesa',\n",
       " 'Cotati',\n",
       " 'Covina',\n",
       " 'Crescent-City',\n",
       " 'Cudahy',\n",
       " 'Culver-City',\n",
       " 'Cupertino',\n",
       " 'Cypress',\n",
       " 'Daly-City',\n",
       " 'Dana-Point',\n",
       " 'Davis',\n",
       " 'Del-Mar',\n",
       " 'Del-Rey-Oaks',\n",
       " 'Delano',\n",
       " 'Desert-Hot-Springs',\n",
       " 'Diamond-Bar',\n",
       " 'Dinuba',\n",
       " 'Dixon',\n",
       " 'Dorris',\n",
       " 'Dos-Palos',\n",
       " 'Downey',\n",
       " 'Duarte',\n",
       " 'Dublin',\n",
       " 'Dunsmuir',\n",
       " 'East-Palo-Alto',\n",
       " 'Eastvale',\n",
       " 'El-Cajon',\n",
       " 'El-Centro',\n",
       " 'El-Cerrito',\n",
       " 'El-Monte',\n",
       " 'El-Segundo',\n",
       " 'Elk-Grove',\n",
       " 'Emeryville',\n",
       " 'Encinitas',\n",
       " 'Escalon',\n",
       " 'Escondido',\n",
       " 'Etna',\n",
       " 'Eureka',\n",
       " 'Exeter',\n",
       " 'Fairfield',\n",
       " 'Farmersville',\n",
       " 'Ferndale',\n",
       " 'Fillmore',\n",
       " 'Firebaugh',\n",
       " 'Folsom',\n",
       " 'Fontana',\n",
       " 'Fort-Bragg',\n",
       " 'Fort-Jones',\n",
       " 'Fortuna',\n",
       " 'Foster-City',\n",
       " 'Fountain-Valley',\n",
       " 'Fowler',\n",
       " 'Fremont',\n",
       " 'Fresno',\n",
       " 'Fullerton',\n",
       " 'Galt',\n",
       " 'Garden-Grove',\n",
       " 'Gardena',\n",
       " 'Gilroy',\n",
       " 'Glendale',\n",
       " 'Glendora',\n",
       " 'Goleta',\n",
       " 'Gonzales',\n",
       " 'Grand-Terrace',\n",
       " 'Grass-Valley',\n",
       " 'Greenfield',\n",
       " 'Gridley',\n",
       " 'Grover-Beach',\n",
       " 'Guadalupe',\n",
       " 'Gustine',\n",
       " 'Half-Moon-Bay',\n",
       " 'Hanford',\n",
       " 'Hawaiian-Gardens',\n",
       " 'Hawthorne',\n",
       " 'Hayward',\n",
       " 'Healdsburg',\n",
       " 'Hemet',\n",
       " 'Hercules',\n",
       " 'Hermosa-Beach',\n",
       " 'Hesperia',\n",
       " 'Hidden-Hills',\n",
       " 'Highland',\n",
       " 'Hollister',\n",
       " 'Holtville',\n",
       " 'Hughson',\n",
       " 'Huntington-Beach',\n",
       " 'Huntington-Park',\n",
       " 'Huron',\n",
       " 'Imperial',\n",
       " 'Imperial-Beach',\n",
       " 'Indian-Wells',\n",
       " 'Indio',\n",
       " 'Industry',\n",
       " 'Inglewood',\n",
       " 'Ione',\n",
       " 'Irvine',\n",
       " 'Irwindale',\n",
       " 'Isleton',\n",
       " 'Jackson',\n",
       " 'Jurupa-Valley',\n",
       " 'Kerman',\n",
       " 'King-City',\n",
       " 'Kingsburg',\n",
       " 'La-Cañada-Flintridge',\n",
       " 'La-Habra',\n",
       " 'La-Habra-Heights',\n",
       " 'La-Mesa',\n",
       " 'La-Mirada',\n",
       " 'La-Palma',\n",
       " 'La-Puente',\n",
       " 'La-Quinta',\n",
       " 'La-Verne',\n",
       " 'Lafayette',\n",
       " 'Laguna-Beach',\n",
       " 'Laguna-Hills',\n",
       " 'Laguna-Niguel',\n",
       " 'Laguna-Woods',\n",
       " 'Lake-Elsinore',\n",
       " 'Lake-Forest',\n",
       " 'Lakeport',\n",
       " 'Lakewood',\n",
       " 'Lancaster',\n",
       " 'Larkspur',\n",
       " 'Lathrop',\n",
       " 'Lawndale',\n",
       " 'Lemon-Grove',\n",
       " 'Lemoore',\n",
       " 'Lincoln',\n",
       " 'Lindsay',\n",
       " 'Live-Oak',\n",
       " 'Livermore',\n",
       " 'Livingston',\n",
       " 'Lodi',\n",
       " 'Loma-Linda',\n",
       " 'Lomita',\n",
       " 'Lompoc',\n",
       " 'Long-Beach',\n",
       " 'Los-Alamitos',\n",
       " 'Los-Altos',\n",
       " 'Los-Angeles',\n",
       " 'Los-Banos',\n",
       " 'Loyalton',\n",
       " 'Lynwood',\n",
       " 'Madera',\n",
       " 'Malibu',\n",
       " 'Manhattan-Beach',\n",
       " 'Manteca',\n",
       " 'Maricopa',\n",
       " 'Marina',\n",
       " 'Martinez',\n",
       " 'Marysville',\n",
       " 'Maywood',\n",
       " 'McFarland',\n",
       " 'Mendota',\n",
       " 'Menifee',\n",
       " 'Menlo-Park',\n",
       " 'Merced',\n",
       " 'Mill-Valley',\n",
       " 'Millbrae',\n",
       " 'Milpitas',\n",
       " 'Mission-Viejo',\n",
       " 'Modesto',\n",
       " 'Monrovia',\n",
       " 'Montague',\n",
       " 'Montclair',\n",
       " 'Monte-Sereno',\n",
       " 'Montebello',\n",
       " 'Monterey',\n",
       " 'Monterey-Park',\n",
       " 'Moorpark',\n",
       " 'Moreno-Valley',\n",
       " 'Morgan-Hill',\n",
       " 'Morro-Bay',\n",
       " 'Mount-Shasta',\n",
       " 'Mountain-View',\n",
       " 'Murrieta',\n",
       " 'Napa',\n",
       " 'National-City',\n",
       " 'Needles',\n",
       " 'Nevada-City',\n",
       " 'Newark',\n",
       " 'Newman',\n",
       " 'Newport-Beach',\n",
       " 'Norco',\n",
       " 'Norwalk',\n",
       " 'Novato',\n",
       " 'Oakdale',\n",
       " 'Oakland',\n",
       " 'Oakley',\n",
       " 'Oceanside',\n",
       " 'Ojai',\n",
       " 'Ontario',\n",
       " 'Orange',\n",
       " 'Orange-Cove',\n",
       " 'Orinda',\n",
       " 'Orland',\n",
       " 'Oroville',\n",
       " 'Oxnard',\n",
       " 'Pacific-Grove',\n",
       " 'Pacifica',\n",
       " 'Palm-Desert',\n",
       " 'Palm-Springs',\n",
       " 'Palmdale',\n",
       " 'Palo-Alto',\n",
       " 'Palos-Verdes-Estates',\n",
       " 'Paramount',\n",
       " 'Parlier',\n",
       " 'Pasadena',\n",
       " 'Paso-Robles',\n",
       " 'Patterson',\n",
       " 'Perris',\n",
       " 'Petaluma',\n",
       " 'Pico-Rivera',\n",
       " 'Piedmont',\n",
       " 'Pinole',\n",
       " 'Pismo-Beach',\n",
       " 'Pittsburg',\n",
       " 'Placentia',\n",
       " 'Placerville',\n",
       " 'Pleasant-Hill',\n",
       " 'Pleasanton',\n",
       " 'Plymouth',\n",
       " 'Point-Arena',\n",
       " 'Pomona',\n",
       " 'Port-Hueneme',\n",
       " 'Porterville',\n",
       " 'Portola',\n",
       " 'Poway',\n",
       " 'Rancho-Cordova',\n",
       " 'Rancho-Cucamonga',\n",
       " 'Rancho-Mirage',\n",
       " 'Rancho-Palos-Verdes',\n",
       " 'Rancho-Santa-Margarita',\n",
       " 'Red-Bluff',\n",
       " 'Redding',\n",
       " 'Redlands',\n",
       " 'Redondo-Beach',\n",
       " 'Redwood-City',\n",
       " 'Reedley',\n",
       " 'Rialto',\n",
       " 'Richmond',\n",
       " 'Ridgecrest',\n",
       " 'Rio-Dell',\n",
       " 'Rio-Vista',\n",
       " 'Ripon',\n",
       " 'Riverbank',\n",
       " 'Riverside',\n",
       " 'Rocklin',\n",
       " 'Rohnert-Park',\n",
       " 'Rolling-Hills',\n",
       " 'Rolling-Hills-Estates',\n",
       " 'Rosemead',\n",
       " 'Roseville',\n",
       " 'Sacramento',\n",
       " 'Salinas',\n",
       " 'San-Bernardino',\n",
       " 'San-Bruno',\n",
       " 'San-Carlos',\n",
       " 'San-Clemente',\n",
       " 'San-Diego',\n",
       " 'San-Dimas',\n",
       " 'San-Fernando',\n",
       " 'San-Francisco',\n",
       " 'San-Gabriel',\n",
       " 'San-Jacinto',\n",
       " 'San-Joaquin',\n",
       " 'San-Jose',\n",
       " 'San-Juan-Bautista',\n",
       " 'San-Juan-Capistrano',\n",
       " 'San-Leandro',\n",
       " 'San-Luis-Obispo',\n",
       " 'San-Marcos',\n",
       " 'San-Marino',\n",
       " 'San-Mateo',\n",
       " 'San-Pablo',\n",
       " 'San-Rafael',\n",
       " 'San-Ramon',\n",
       " 'Sand-City',\n",
       " 'Sanger',\n",
       " 'Santa-Ana',\n",
       " 'Santa-Barbara',\n",
       " 'Santa-Clara',\n",
       " 'Santa-Clarita',\n",
       " 'Santa-Cruz',\n",
       " 'Santa-Fe-Springs',\n",
       " 'Santa-Maria',\n",
       " 'Santa-Monica',\n",
       " 'Santa-Paula',\n",
       " 'Santa-Rosa',\n",
       " 'Santee',\n",
       " 'Saratoga',\n",
       " 'Sausalito',\n",
       " 'Scotts-Valley',\n",
       " 'Seal-Beach',\n",
       " 'Seaside',\n",
       " 'Sebastopol',\n",
       " 'Selma',\n",
       " 'Shafter',\n",
       " 'Shasta-Lake',\n",
       " 'Sierra-Madre',\n",
       " 'Signal-Hill',\n",
       " 'Simi-Valley',\n",
       " 'Solana-Beach',\n",
       " 'Soledad',\n",
       " 'Solvang',\n",
       " 'Sonoma',\n",
       " 'Sonora',\n",
       " 'South-El-Monte',\n",
       " 'South-Gate',\n",
       " 'South-Lake-Tahoe',\n",
       " 'South-Pasadena',\n",
       " 'South-San-Francisco',\n",
       " 'St.-Helena',\n",
       " 'Stanton',\n",
       " 'Stockton',\n",
       " 'Suisun-City',\n",
       " 'Sunnyvale',\n",
       " 'Susanville',\n",
       " 'Sutter-Creek',\n",
       " 'Taft',\n",
       " 'Tehachapi',\n",
       " 'Tehama',\n",
       " 'Temecula',\n",
       " 'Temple-City',\n",
       " 'Thousand-Oaks',\n",
       " 'Torrance',\n",
       " 'Tracy',\n",
       " 'Trinidad',\n",
       " 'Tulare',\n",
       " 'Tulelake',\n",
       " 'Turlock',\n",
       " 'Tustin',\n",
       " 'Twentynine-Palms',\n",
       " 'Ukiah',\n",
       " 'Union-City',\n",
       " 'Upland',\n",
       " 'Vacaville',\n",
       " 'Vallejo',\n",
       " 'Ventura',\n",
       " 'Vernon',\n",
       " 'Victorville',\n",
       " 'Villa-Park',\n",
       " 'Visalia',\n",
       " 'Vista',\n",
       " 'Walnut',\n",
       " 'Walnut-Creek',\n",
       " 'Wasco',\n",
       " 'Waterford',\n",
       " 'Watsonville',\n",
       " 'Weed',\n",
       " 'West-Covina',\n",
       " 'West-Hollywood',\n",
       " 'West-Sacramento',\n",
       " 'Westlake-Village',\n",
       " 'Westminster',\n",
       " 'Westmorland',\n",
       " 'Wheatland',\n",
       " 'Whittier',\n",
       " 'Wildomar',\n",
       " 'Williams',\n",
       " 'Willits',\n",
       " 'Willows',\n",
       " 'Winters',\n",
       " 'Woodlake',\n",
       " 'Woodland',\n",
       " 'Yorba-Linda',\n",
       " 'Yreka',\n",
       " 'Yuba-City',\n",
       " 'Yucaipa']"
      ]
     },
     "execution_count": 316,
     "metadata": {},
     "output_type": "execute_result"
    }
   ],
   "source": [
    "list_of_cities"
   ]
  },
  {
   "cell_type": "code",
   "execution_count": 365,
   "metadata": {},
   "outputs": [
    {
     "data": {
      "text/plain": [
       "459"
      ]
     },
     "execution_count": 365,
     "metadata": {},
     "output_type": "execute_result"
    }
   ],
   "source": [
    "len(list_of_cities)"
   ]
  },
  {
   "cell_type": "code",
   "execution_count": 366,
   "metadata": {},
   "outputs": [],
   "source": [
    "clean_links = []\n",
    "missing_cities = []"
   ]
  },
  {
   "cell_type": "code",
   "execution_count": null,
   "metadata": {},
   "outputs": [],
   "source": [
    "clean_links = []\n",
    "missing_cities = []"
   ]
  },
  {
   "cell_type": "code",
   "execution_count": 367,
   "metadata": {},
   "outputs": [],
   "source": [
    "for city in list_of_cities:\n",
    "    #only get links for cities not in clean_links\n",
    "        backup_url = \"https://www.towncharts.com/California/Housing/{}-city-CA-Housing-data.html\".format(city)\n",
    "        query  = \"'https://www.towncharts.com/California/Housing/{}-city-CA-Housing-data.html'\".format(city)\n",
    "        query = urllib.parse.quote_plus(query) # Format into URL encoding\n",
    "        number_result = 3\n",
    "        \n",
    "        ua = UserAgent()\n",
    "        \n",
    "        google_url = \"https://www.google.com/search?q=\" + query + \"&num=\" + str(number_result)\n",
    "        t0 = time.time()\n",
    "        response = requests.get(google_url, {\"User-Agent\": ua.random})\n",
    "        response_delay = time.time() - t0\n",
    "        time.sleep(10*response_delay)\n",
    "        soup = BeautifulSoup(response.text, \"html.parser\")\n",
    "        \n",
    "        result_div = soup.find_all('div', attrs = {'class': 'ZINbbc'})\n",
    "        \n",
    "        links = []\n",
    "        for r in result_div:\n",
    "            \n",
    "            try:\n",
    "                link = r.find('a', href = True)\n",
    "\n",
    "                if link != '':\n",
    "                    links.append(link['href'])\n",
    "            except:\n",
    "                continue\n",
    "        flag = True\n",
    "        for i, l in enumerate(links):\n",
    "            clean = re.search('\\/url\\?q\\=(.*)\\&sa',l)\n",
    "            if clean is None:\n",
    "                continue\n",
    "            if city in clean.group(1):\n",
    "                clean_links.append(clean.group(1))\n",
    "                flag = False\n",
    "        if flag:\n",
    "            missing_cities.append(city)\n",
    "            clean_links.append(backup_url)"
   ]
  },
  {
   "cell_type": "markdown",
   "metadata": {},
   "source": [
    "Not perfect so we will:\n",
    "    *remove identical strings\n",
    "    *remove strings that have the word county in them\n",
    "    *track http error 404 if our self made url fails\n",
    "\n"
   ]
  },
  {
   "cell_type": "code",
   "execution_count": 372,
   "metadata": {},
   "outputs": [],
   "source": [
    "#remove county results\n",
    "without_counties = pd.Series(clean_links)\n",
    "without_counties = without_counties.mask(pd.Series(clean_links).str.contains('County'))\n",
    "without_counties = without_counties.dropna()"
   ]
  },
  {
   "cell_type": "code",
   "execution_count": 387,
   "metadata": {
    "scrolled": true
   },
   "outputs": [],
   "source": [
    "#delete duplicates\n",
    "city_urls = without_counties.drop_duplicates()"
   ]
  },
  {
   "cell_type": "code",
   "execution_count": 430,
   "metadata": {},
   "outputs": [],
   "source": [
    "economy_indexes = city_urls[city_urls.str.contains('Economy')].index"
   ]
  },
  {
   "cell_type": "code",
   "execution_count": 426,
   "metadata": {},
   "outputs": [],
   "source": [
    "CCD_indexes = city_urls[city_urls.str.contains('CCD')].index"
   ]
  },
  {
   "cell_type": "code",
   "execution_count": 473,
   "metadata": {},
   "outputs": [
    {
     "name": "stdout",
     "output_type": "stream",
     "text": [
      "http://www.towncharts.com/California/Economy/Avalon-city-CA-Economy-data.html\n",
      "http://www.towncharts.com/California/Economy/Blythe-city-CA-Economy-data.html\n",
      "https://www.towncharts.com/California/Economy/Chowchilla-city-CA-Economy-data.html\n"
     ]
    }
   ],
   "source": [
    "for i in economy_indexes:\n",
    "    print(city_urls[i])"
   ]
  },
  {
   "cell_type": "code",
   "execution_count": 474,
   "metadata": {},
   "outputs": [
    {
     "name": "stdout",
     "output_type": "stream",
     "text": [
      "http://www.towncharts.com/California/Housing/Barstow-CCD-CA-Housing-data.html\n",
      "http://www.towncharts.com/California/Housing/Bishop-CCD-CA-Housing-data.html\n",
      "https://www.towncharts.com/California/Housing/Carpinteria-CCD-CA-Housing-data.html\n",
      "https://www.towncharts.com/California/Housing/Chico-CCD-CA-Housing-data.html\n",
      "https://www.towncharts.com/California/Housing/Coachella-Valley-CCD-CA-Housing-data.html\n",
      "https://www.towncharts.com/California/Housing/Central-Colusa-CCD-CA-Housing-data.html\n"
     ]
    }
   ],
   "source": [
    "for i in CCD_indexes:\n",
    "    print(city_urls[i])"
   ]
  },
  {
   "cell_type": "code",
   "execution_count": 434,
   "metadata": {
    "scrolled": true
   },
   "outputs": [],
   "source": [
    "indexes_to_replace = pd.Series.tolist(economy_indexes)+pd.Series.tolist(CCD_indexes)"
   ]
  },
  {
   "cell_type": "code",
   "execution_count": 436,
   "metadata": {},
   "outputs": [
    {
     "data": {
      "text/plain": [
       "[22, 44, 79, 29, 41, 68, 74, 87, 92]"
      ]
     },
     "execution_count": 436,
     "metadata": {},
     "output_type": "execute_result"
    }
   ],
   "source": [
    "indexes_to_replace"
   ]
  },
  {
   "cell_type": "code",
   "execution_count": 449,
   "metadata": {},
   "outputs": [],
   "source": [
    "towns_to_fix = pd.Series(['Avalon','Blythe','Chowchilla','Barstow','Bishop','Carpinteria','Chico','Coachella','Colusa'],index = indexes_to_replace)"
   ]
  },
  {
   "cell_type": "code",
   "execution_count": 502,
   "metadata": {},
   "outputs": [],
   "source": [
    "cop_city_urls = city_urls.copy()"
   ]
  },
  {
   "cell_type": "code",
   "execution_count": 514,
   "metadata": {},
   "outputs": [
    {
     "name": "stdout",
     "output_type": "stream",
     "text": [
      "https://www.towncharts.com/California/Housing/Avalon-city-CA-Housing-data.html\n",
      "https://www.towncharts.com/California/Housing/Blythe-city-CA-Housing-data.html\n",
      "https://www.towncharts.com/California/Housing/Chowchilla-city-CA-Housing-data.html\n",
      "https://www.towncharts.com/California/Housing/Barstow-city-CA-Housing-data.html\n",
      "https://www.towncharts.com/California/Housing/Bishop-city-CA-Housing-data.html\n",
      "https://www.towncharts.com/California/Housing/Carpinteria-city-CA-Housing-data.html\n",
      "https://www.towncharts.com/California/Housing/Chico-city-CA-Housing-data.html\n",
      "https://www.towncharts.com/California/Housing/Coachella-city-CA-Housing-data.html\n",
      "https://www.towncharts.com/California/Housing/Colusa-city-CA-Housing-data.html\n"
     ]
    }
   ],
   "source": [
    "for i,v in towns_to_fix.iteritems():\n",
    "    cop_city_urls[i] = \"https://www.towncharts.com/California/Housing/{}-city-CA-Housing-data.html\".format(v)\n",
    "    print(cop_city_urls[i])"
   ]
  },
  {
   "cell_type": "code",
   "execution_count": 526,
   "metadata": {},
   "outputs": [
    {
     "data": {
      "text/plain": [
       "466"
      ]
     },
     "execution_count": 526,
     "metadata": {},
     "output_type": "execute_result"
    }
   ],
   "source": [
    "len(cop_city_urls)"
   ]
  },
  {
   "cell_type": "code",
   "execution_count": 516,
   "metadata": {},
   "outputs": [],
   "source": [
    "#delete duplicates if accidentally created any\n",
    "searchurls = cop_city_urls.drop_duplicates()"
   ]
  },
  {
   "cell_type": "code",
   "execution_count": 517,
   "metadata": {},
   "outputs": [
    {
     "data": {
      "text/plain": [
       "461"
      ]
     },
     "execution_count": 517,
     "metadata": {},
     "output_type": "execute_result"
    }
   ],
   "source": [
    "len(searchurls)"
   ]
  },
  {
   "cell_type": "markdown",
   "metadata": {},
   "source": [
    "A quick look through of the first 100 shows that Burbank has a duplicate with CDP and Bishop city has a duplicate or https vs http"
   ]
  },
  {
   "cell_type": "code",
   "execution_count": 518,
   "metadata": {
    "scrolled": false
   },
   "outputs": [
    {
     "name": "stdout",
     "output_type": "stream",
     "text": [
      "52    https://www.towncharts.com/California/Housing/...\n",
      "dtype: object\n"
     ]
    }
   ],
   "source": [
    "print(searchurls[searchurls.str.contains('CDP')])"
   ]
  },
  {
   "cell_type": "code",
   "execution_count": 519,
   "metadata": {},
   "outputs": [
    {
     "data": {
      "text/plain": [
       "'https://www.towncharts.com/California/Housing/Burbank-CDP-CA-Housing-data.html'"
      ]
     },
     "execution_count": 519,
     "metadata": {},
     "output_type": "execute_result"
    }
   ],
   "source": [
    "searchurls[52]"
   ]
  },
  {
   "cell_type": "code",
   "execution_count": 520,
   "metadata": {
    "scrolled": true
   },
   "outputs": [
    {
     "data": {
      "text/plain": [
       "40    http://www.towncharts.com/California/Housing/B...\n",
       "41    https://www.towncharts.com/California/Housing/...\n",
       "dtype: object"
      ]
     },
     "execution_count": 520,
     "metadata": {},
     "output_type": "execute_result"
    }
   ],
   "source": [
    "searchurls[searchurls.str.contains('Bishop')]"
   ]
  },
  {
   "cell_type": "code",
   "execution_count": 521,
   "metadata": {},
   "outputs": [],
   "source": [
    "searchurls = searchurls.drop(labels = [40,52])"
   ]
  },
  {
   "cell_type": "code",
   "execution_count": 522,
   "metadata": {
    "scrolled": true
   },
   "outputs": [],
   "source": [
    "searchurls = searchurls.reset_index(drop=True)"
   ]
  },
  {
   "cell_type": "code",
   "execution_count": 523,
   "metadata": {},
   "outputs": [
    {
     "data": {
      "text/plain": [
       "459"
      ]
     },
     "execution_count": 523,
     "metadata": {},
     "output_type": "execute_result"
    }
   ],
   "source": [
    "len(searchurls)"
   ]
  },
  {
   "cell_type": "code",
   "execution_count": 349,
   "metadata": {
    "collapsed": true
   },
   "outputs": [
    {
     "data": {
      "text/html": [
       "<div>\n",
       "<style scoped>\n",
       "    .dataframe tbody tr th:only-of-type {\n",
       "        vertical-align: middle;\n",
       "    }\n",
       "\n",
       "    .dataframe tbody tr th {\n",
       "        vertical-align: top;\n",
       "    }\n",
       "\n",
       "    .dataframe thead th {\n",
       "        text-align: right;\n",
       "    }\n",
       "</style>\n",
       "<table border=\"1\" class=\"dataframe\">\n",
       "  <thead>\n",
       "    <tr style=\"text-align: right;\">\n",
       "      <th></th>\n",
       "      <th>0</th>\n",
       "    </tr>\n",
       "  </thead>\n",
       "  <tbody>\n",
       "    <tr>\n",
       "      <th>0</th>\n",
       "      <td>Agoura-Hills-city</td>\n",
       "    </tr>\n",
       "    <tr>\n",
       "      <th>1</th>\n",
       "      <td>Alameda-city</td>\n",
       "    </tr>\n",
       "    <tr>\n",
       "      <th>3</th>\n",
       "      <td>Albany-city</td>\n",
       "    </tr>\n",
       "    <tr>\n",
       "      <th>4</th>\n",
       "      <td>Alhambra-city</td>\n",
       "    </tr>\n",
       "    <tr>\n",
       "      <th>5</th>\n",
       "      <td>Aliso-Viejo-city</td>\n",
       "    </tr>\n",
       "    <tr>\n",
       "      <th>6</th>\n",
       "      <td>American-Canyon-city</td>\n",
       "    </tr>\n",
       "    <tr>\n",
       "      <th>7</th>\n",
       "      <td>Anaheim-city</td>\n",
       "    </tr>\n",
       "  </tbody>\n",
       "</table>\n",
       "</div>"
      ],
      "text/plain": [
       "                      0\n",
       "0     Agoura-Hills-city\n",
       "1          Alameda-city\n",
       "3           Albany-city\n",
       "4         Alhambra-city\n",
       "5      Aliso-Viejo-city\n",
       "6  American-Canyon-city\n",
       "7          Anaheim-city"
      ]
     },
     "execution_count": 349,
     "metadata": {},
     "output_type": "execute_result"
    }
   ],
   "source": [
    "#without_counties.str.extract(r'Housing\\/(.*)\\-CA',expand=True)"
   ]
  },
  {
   "cell_type": "code",
   "execution_count": 534,
   "metadata": {
    "scrolled": true
   },
   "outputs": [],
   "source": [
    "\n",
    "\n",
    "# #to pickle\n",
    "# outfile = open('search_urls','wb')\n",
    "# pickle.dump(searchurls,outfile)\n",
    "# outfile.close()\n",
    "\n",
    "# outfile = open('my_clean_links','wb')\n",
    "# pickle.dump(clean_links,outfile)\n",
    "# outfile.close()\n",
    "\n",
    "# outfile = open('unfound_urls','wb')\n",
    "# pickle.dump(missing_cities,outfile)\n",
    "# outfile.close()\n"
   ]
  },
  {
   "cell_type": "code",
   "execution_count": 406,
   "metadata": {},
   "outputs": [],
   "source": [
    "\n",
    "#unpickling\n",
    "# infile = open('search_urls','rb')\n",
    "# search_urls = pickle.load(infile)\n",
    "# infile.close()\n",
    "\n",
    "# infile = open('my_clean_links','rb')\n",
    "# clean_links = pickle.load(infile)\n",
    "# infile.close()\n",
    "\n",
    "# infile = open('unfound_urls','rb')\n",
    "# unfound_urls = pickle.load(infile)\n",
    "# infile.close()"
   ]
  }
 ],
 "metadata": {
  "kernelspec": {
   "display_name": "Python 3",
   "language": "python",
   "name": "python3"
  },
  "language_info": {
   "codemirror_mode": {
    "name": "ipython",
    "version": 3
   },
   "file_extension": ".py",
   "mimetype": "text/x-python",
   "name": "python",
   "nbconvert_exporter": "python",
   "pygments_lexer": "ipython3",
   "version": "3.7.3"
  },
  "varInspector": {
   "cols": {
    "lenName": 16,
    "lenType": 16,
    "lenVar": 40
   },
   "kernels_config": {
    "python": {
     "delete_cmd_postfix": "",
     "delete_cmd_prefix": "del ",
     "library": "var_list.py",
     "varRefreshCmd": "print(var_dic_list())"
    },
    "r": {
     "delete_cmd_postfix": ") ",
     "delete_cmd_prefix": "rm(",
     "library": "var_list.r",
     "varRefreshCmd": "cat(var_dic_list()) "
    }
   },
   "types_to_exclude": [
    "module",
    "function",
    "builtin_function_or_method",
    "instance",
    "_Feature"
   ],
   "window_display": false
  }
 },
 "nbformat": 4,
 "nbformat_minor": 2
}
