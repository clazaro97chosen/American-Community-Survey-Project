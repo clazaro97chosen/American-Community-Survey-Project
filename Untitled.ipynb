{
 "cells": [
  {
   "cell_type": "code",
   "execution_count": 46,
   "metadata": {},
   "outputs": [],
   "source": [
    "city = 'San-Luis-Obispo'"
   ]
  },
  {
   "cell_type": "code",
   "execution_count": 47,
   "metadata": {},
   "outputs": [],
   "source": [
    "import urllib\n",
    "\n",
    "query = \"'https://www.towncharts.com/California/Housing/San-Luis-Obispo-city-CA-Housing-data.html'\"\n",
    "query = urllib.parse.quote_plus(query) # Format into URL encoding\n",
    "number_result = 1"
   ]
  },
  {
   "cell_type": "code",
   "execution_count": 48,
   "metadata": {},
   "outputs": [],
   "source": [
    "import requests\n",
    "from fake_useragent import UserAgent\n",
    "from bs4 import BeautifulSoup\n",
    "\n",
    "ua = UserAgent()\n",
    "\n",
    "google_url = \"https://www.google.com/search?q=\" + query + \"&num=\" + str(number_result)\n",
    "response = requests.get(google_url, {\"User-Agent\": ua.random})\n",
    "soup = BeautifulSoup(response.text, \"html.parser\")"
   ]
  },
  {
   "cell_type": "code",
   "execution_count": 49,
   "metadata": {},
   "outputs": [],
   "source": [
    "result_div = soup.find_all('div', attrs = {'class': 'ZINbbc'})"
   ]
  },
  {
   "cell_type": "code",
   "execution_count": 50,
   "metadata": {},
   "outputs": [],
   "source": [
    "links = []\n",
    "titles = []\n",
    "descriptions = []\n",
    "for r in result_div:\n",
    "    # Checks if each element is present, else, raise exception\n",
    "    try:\n",
    "        link = r.find('a', href = True)\n",
    "        title = r.find('div', attrs={'class':'vvjwJb'}).get_text()\n",
    "        description = r.find('div', attrs={'class':'s3v9rd'}).get_text()\n",
    "        \n",
    "        # Check to make sure everything is present before appending\n",
    "        if link != '' and title != '' and description != '': \n",
    "            links.append(link['href'])\n",
    "            titles.append(title)\n",
    "            descriptions.append(description)\n",
    "    # Next loop if one element is not present\n",
    "    except:\n",
    "        continue\n",
    "import re\n",
    "clean_links = []\n",
    "for i, l in enumerate(links):\n",
    "    clean = re.search('\\/url\\?q\\=(.*)\\&sa',l)\n",
    "\n",
    "    # Anything that doesn't fit the above pattern will be removed\n",
    "    if clean is None:\n",
    "        to_remove.append(i)\n",
    "        continue\n",
    "    if city in clean.group(1):\n",
    "        clean_links.append(clean.group(1))"
   ]
  },
  {
   "cell_type": "code",
   "execution_count": 23,
   "metadata": {},
   "outputs": [],
   "source": []
  },
  {
   "cell_type": "code",
   "execution_count": 51,
   "metadata": {},
   "outputs": [
    {
     "data": {
      "text/plain": [
       "['http://www.towncharts.com/California/Housing/San-Luis-Obispo-city-CA-Housing-data.html']"
      ]
     },
     "execution_count": 51,
     "metadata": {},
     "output_type": "execute_result"
    }
   ],
   "source": [
    "clean_links"
   ]
  },
  {
   "cell_type": "code",
   "execution_count": null,
   "metadata": {},
   "outputs": [],
   "source": [
    "    "
   ]
  }
 ],
 "metadata": {
  "kernelspec": {
   "display_name": "Python 3",
   "language": "python",
   "name": "python3"
  },
  "language_info": {
   "codemirror_mode": {
    "name": "ipython",
    "version": 3
   },
   "file_extension": ".py",
   "mimetype": "text/x-python",
   "name": "python",
   "nbconvert_exporter": "python",
   "pygments_lexer": "ipython3",
   "version": "3.7.3"
  },
  "varInspector": {
   "cols": {
    "lenName": 16,
    "lenType": 16,
    "lenVar": 40
   },
   "kernels_config": {
    "python": {
     "delete_cmd_postfix": "",
     "delete_cmd_prefix": "del ",
     "library": "var_list.py",
     "varRefreshCmd": "print(var_dic_list())"
    },
    "r": {
     "delete_cmd_postfix": ") ",
     "delete_cmd_prefix": "rm(",
     "library": "var_list.r",
     "varRefreshCmd": "cat(var_dic_list()) "
    }
   },
   "types_to_exclude": [
    "module",
    "function",
    "builtin_function_or_method",
    "instance",
    "_Feature"
   ],
   "window_display": false
  }
 },
 "nbformat": 4,
 "nbformat_minor": 2
}
