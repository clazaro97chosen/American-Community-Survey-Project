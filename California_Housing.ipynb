{
 "cells": [
  {
   "cell_type": "markdown",
   "metadata": {},
   "source": [
    "Welcome!  This notebook is a Data Science/Machine Learning Project\n",
    "\n"
   ]
  },
  {
   "cell_type": "markdown",
   "metadata": {},
   "source": [
    "# Table of Contents\n",
    "\n",
    "1. [Frame the problem and look at the big picture.](#frame)\n",
    "2. [Get the data.](#collection)\n",
    "3. [Explore the data to gain insights.](#eda)\n",
    "4. [Prepare the data to better expose the underlying data patterns to Machine Learning algorithms.](#prep)\n",
    "5. [Explore many different models and short-list the best ones.](#models)\n",
    "6. [Fine-tune your models and combine them into a great solution.](#tuning)\n",
    "7. [Present your solution.](#solution)\n",
    "8. [Launch, monitor, and maintain your system.](#system)"
   ]
  },
  {
   "cell_type": "markdown",
   "metadata": {},
   "source": [
    "# Framing the Problem and Looking at the Big Picture\n",
    "<a id=\"frame\"></a>"
   ]
  },
  {
   "cell_type": "markdown",
   "metadata": {},
   "source": [
    "The objective of this project is to build a model of median rental rates in California using city\n",
    "data from Towncharts.com which provides information that is collated from a large variety of government agencies and public data sources.\n",
    "<br>\n",
    "Hypothetically, this model would be created to benefit and serve a particular purpose in a company.\n",
    "Which in turn would determine the specifications and approach in your project"
   ]
  },
  {
   "cell_type": "markdown",
   "metadata": {},
   "source": [
    "In this project our superviser Adam Smith has told us that our model's output will be fed to another Machine Learning system along with many other signals. This downstream system will provide current property owners with insights towards determining their rental amount. Getting this right is critical, you want to ensure that the price is low enough to attract applicants, while high enough to cover costs. Pricing units lower may result in problematic tenants, but higher prices can lead to longer vacancies."
   ]
  },
  {
   "cell_type": "markdown",
   "metadata": {},
   "source": [
    "What are the current solutions/workarounds: Mr.Smith says that currently the estimates of median rental rates are outsourced. This is costly and their estimates are off by more than 200 dollars. \n",
    "That is why the company has chosen to investigate if an in house estimate based on publicly available data can come as close or improve upon the outsourced estimates.\n"
   ]
  },
  {
   "cell_type": "markdown",
   "metadata": {},
   "source": [
    "My project is a typical supervised learning task given the fact that the\n",
    "training examples are labeled (each instance comes with the expected output i.e, the cities median rental rate).\n",
    "Moreover, we are asked to predict the value of $Y$ (median rental rate) using $X_{1}...X_{m}$ where **m** = *number of features*. This task is a a typical regression task in particualr a multiple regression problem. Additionally, seeing as there is no continous flow of data coming in the ML system, we need not adjust to changing data rapidly, and the data is small enough to fit in memory,so plain batch learning should do just fine.\n"
   ]
  },
  {
   "cell_type": "markdown",
   "metadata": {},
   "source": [
    "We need a performance measure of our ML system. We have chosen in this case to select the Root Mean Square Error(RMSE).This performance measure will be aligned with the business objective as it will give an idea of how much error the system typically makes in its predictions. Our minimum performance needed to reach the business objective would be a RMSE of less than or equal to 200\n",
    ".$RMSE(X,h) = \\sqrt{ \\frac 1m \\sum\\limits_{i=1}^m ( h(x^i) - y ^i )^2 }$"
   ]
  },
  {
   "cell_type": "markdown",
   "metadata": {},
   "source": [
    "In the case that our data has many outlier cities we may consider using the Mean Absolute Error\n",
    "> $MAE(X,h) = \\frac 1m \\sum\\limits_{i=1}^m \\mid h(x^i) - y ^i\\mid$"
   ]
  },
  {
   "cell_type": "markdown",
   "metadata": {},
   "source": [
    "After framing the problem and looking at the big picture its good practice for me to  to list and verify the assumptions that were \n",
    "made so far (by me and others). This will help avoid a difference in expectations and help verify that the characteristics of my system output correspond to the expected signal that the downstream system expects. "
   ]
  },
  {
   "cell_type": "markdown",
   "metadata": {},
   "source": [
    "# Data Collection \n",
    "<a id=\"collection\"></a>"
   ]
  },
  {
   "cell_type": "markdown",
   "metadata": {},
   "source": [
    "Collection of data was gathered via webscraping from Towncharts.com the website provides information and data about every geographic location in the United States including city, county, zip code, state and more. Additional variables latitude and longitude for the cities were merged from a kaggle dataset Collection of data was gathered via webscraping from Towncharts.com the website provides information and data about every geographic location in the United States including city, county, zip code, state and more. Additional variables latitude and longitude for the cities were merged from a [kaggle dataset](https://www.kaggle.com/camnugent/california-housing-feature-engineering#cal_cities_lat_long.csv). Typically I would be asked and it would be good practice to import the csv file into a table using the companies chosen database. This provides the opportunity for collaboration as all a coworker would need to access the data would be to get their credentials and access authorizations. "
   ]
  },
  {
   "cell_type": "markdown",
   "metadata": {},
   "source": [
    "For more information about how string methods, pandas, beautiful soup and more were used to produce the Towncharts_California_Housing.csv the following link outlines the process\n",
    "> https://github.com/clazaro97chosen/American-Community-Survey-Project/blob/master/Scrape_the_Data.ipynb "
   ]
  },
  {
   "cell_type": "markdown",
   "metadata": {},
   "source": [
    "Checking the legal obligations from \n",
    "the user aggreement on Towncharts.com use of this data is allowed and encouraged."
   ]
  },
  {
   "cell_type": "markdown",
   "metadata": {},
   "source": [
    "**Download the Data**"
   ]
  },
  {
   "cell_type": "markdown",
   "metadata": {},
   "source": [
    "Best practice calls for me to use a python file which i have created for fetching the data and writing a function to load the data."
   ]
  },
  {
   "cell_type": "markdown",
   "metadata": {},
   "source": [
    "### Setup"
   ]
  },
  {
   "cell_type": "code",
   "execution_count": 1,
   "metadata": {
    "collapsed": true
   },
   "outputs": [
    {
     "ename": "ImportError",
     "evalue": "DLL load failed: The specified module could not be found.",
     "output_type": "error",
     "traceback": [
      "\u001b[1;31m---------------------------------------------------------------------------\u001b[0m",
      "\u001b[1;31mImportError\u001b[0m                               Traceback (most recent call last)",
      "\u001b[1;32m<ipython-input-1-ba9d3d608945>\u001b[0m in \u001b[0;36m<module>\u001b[1;34m\u001b[0m\n\u001b[0;32m     15\u001b[0m \u001b[0mmpl\u001b[0m\u001b[1;33m.\u001b[0m\u001b[0mrc\u001b[0m\u001b[1;33m(\u001b[0m\u001b[1;34m'xtick'\u001b[0m\u001b[1;33m,\u001b[0m \u001b[0mlabelsize\u001b[0m\u001b[1;33m=\u001b[0m\u001b[1;36m12\u001b[0m\u001b[1;33m)\u001b[0m\u001b[1;33m\u001b[0m\u001b[1;33m\u001b[0m\u001b[0m\n\u001b[0;32m     16\u001b[0m \u001b[0mmpl\u001b[0m\u001b[1;33m.\u001b[0m\u001b[0mrc\u001b[0m\u001b[1;33m(\u001b[0m\u001b[1;34m'ytick'\u001b[0m\u001b[1;33m,\u001b[0m \u001b[0mlabelsize\u001b[0m\u001b[1;33m=\u001b[0m\u001b[1;36m12\u001b[0m\u001b[1;33m)\u001b[0m\u001b[1;33m\u001b[0m\u001b[1;33m\u001b[0m\u001b[0m\n\u001b[1;32m---> 17\u001b[1;33m \u001b[1;32mfrom\u001b[0m \u001b[0mmpl_toolkits\u001b[0m\u001b[1;33m.\u001b[0m\u001b[0mbasemap\u001b[0m \u001b[1;32mimport\u001b[0m \u001b[0mBasemap\u001b[0m\u001b[1;33m\u001b[0m\u001b[1;33m\u001b[0m\u001b[0m\n\u001b[0m",
      "\u001b[1;32m~\\Anaconda3\\lib\\site-packages\\mpl_toolkits\\basemap\\__init__.py\u001b[0m in \u001b[0;36m<module>\u001b[1;34m\u001b[0m\n\u001b[0;32m     51\u001b[0m \u001b[1;32mimport\u001b[0m \u001b[0mnumpy\u001b[0m \u001b[1;32mas\u001b[0m \u001b[0mnp\u001b[0m\u001b[1;33m\u001b[0m\u001b[1;33m\u001b[0m\u001b[0m\n\u001b[0;32m     52\u001b[0m \u001b[1;32mimport\u001b[0m \u001b[0mnumpy\u001b[0m\u001b[1;33m.\u001b[0m\u001b[0mma\u001b[0m \u001b[1;32mas\u001b[0m \u001b[0mma\u001b[0m\u001b[1;33m\u001b[0m\u001b[1;33m\u001b[0m\u001b[0m\n\u001b[1;32m---> 53\u001b[1;33m \u001b[1;32mimport\u001b[0m \u001b[0m_geoslib\u001b[0m\u001b[1;33m\u001b[0m\u001b[1;33m\u001b[0m\u001b[0m\n\u001b[0m\u001b[0;32m     54\u001b[0m \u001b[1;32mimport\u001b[0m \u001b[0mfunctools\u001b[0m\u001b[1;33m\u001b[0m\u001b[1;33m\u001b[0m\u001b[0m\n\u001b[0;32m     55\u001b[0m \u001b[1;33m\u001b[0m\u001b[0m\n",
      "\u001b[1;31mImportError\u001b[0m: DLL load failed: The specified module could not be found."
     ]
    }
   ],
   "source": [
    "\n",
    "# Common imports\n",
    "import numpy as np\n",
    "import pandas as pd\n",
    "import os\n",
    "\n",
    "# to make this notebook's output stable across runs\n",
    "np.random.seed(22)\n",
    "\n",
    "# To plot pretty figures\n",
    "%matplotlib inline\n",
    "import matplotlib as mpl\n",
    "import matplotlib.pyplot as plt\n",
    "mpl.rc('axes', labelsize=14)\n",
    "mpl.rc('xtick', labelsize=12)\n",
    "mpl.rc('ytick', labelsize=12)\n",
    "from mpl_toolkits.basemap import Basemap"
   ]
  },
  {
   "cell_type": "code",
   "execution_count": 68,
   "metadata": {},
   "outputs": [],
   "source": [
    "def load_housing_data(housing_path):\n",
    "    csv_path = os.path.join(housing_path,'datasets','california_housing.csv')\n",
    "    return pd.read_csv(csv_path,index_col=0)   "
   ]
  },
  {
   "cell_type": "code",
   "execution_count": 69,
   "metadata": {},
   "outputs": [],
   "source": [
    "housing = load_housing_data('C:\\\\Users\\\\Crist\\\\Towncharts_Project\\\\California_Housing_Project\\\\')\n"
   ]
  },
  {
   "cell_type": "code",
   "execution_count": 70,
   "metadata": {},
   "outputs": [],
   "source": [
    "housing = housing.rename(columns = {'percent_of_rent_to_total':'rent_home_percent'})"
   ]
  },
  {
   "cell_type": "markdown",
   "metadata": {},
   "source": [
    "### Quick Description of the Data"
   ]
  },
  {
   "cell_type": "markdown",
   "metadata": {},
   "source": [
    "### Data dictionary: provided by Towncharts.com 37 original variables collected\n",
    "\n",
    "* housing_units:Total number of housing units in the area\n",
    "* housing_density : The number of housing units per square mile in the area\n",
    "* change_hunits: Change in housing units from 2010 to 2017\n",
    "* rent_home_percent: The percent of all occupied housing units that are rental housing units (%)\n",
    "* owned_homes: The percent of all occupied housing units that are owned housing units (%)\n",
    "* med_homeval: Median home value i.e how much property is worth( house and lot, mobile homes and lot, or condominium unit) if it was for sale \\\\$\n",
    "\n",
    "* med_rental_rate: the median monthly rental amount for a rental unit in this area \\\\$\n",
    "\n",
    "* med_owner_cost: The monthly cost of housing for property owners including mortgage payment, taxes, insurance,and utilities.\\\\$\n",
    "\n",
    "* med_own_cost_aspercentof_income: The monthly owner cost as a percent of the household income. This measure is an excellent way to understand how affordable housing is for owners in an area (%)\n",
    "* med_hval_aspercentof_medearn: How much the property is worth(house and lot, mobile home and lot, or condominium unit) if it was for sale as a percent of the median earnings for a worker in the area (%)\n",
    "* med_hcost_ownmortg: Median housing cost for homeowners with a mortgage(including the cost of the mortgage or other debt) \\\\$\n",
    "* med_hcost_own_wo_mortg: Median housing cost for homeowners who do not have a mortgage. This isolates the cost of ownership seperate from the financing cost of debt \\\\$\n",
    "* hcost_aspercentof_hincome_ownmortg: Homeowners with a mortgage showing total cost (including mortgage debt) as a percent of household income (%)\n",
    "* hcost_as_perc_of_hincome_womortg: Homeowners without a mortgage showing total cost as a percent of household income.\n",
    "*med_real_estate_taxes: The median real estate taxes paid by owners of homes in the area \\\\$\n",
    "* family_members_per_hunit: The average size of related families members who live together in a housing unit. \n",
    "* median_num_ofrooms: The average number of rooms of total rooms for housing units in the area\n",
    "* median_year_house_built: The average year the housing units were built in the area. This indicates the average age of housing units in the area.\n",
    "* household_size_of_howners: For people who own their homes how many people on average are living in them whether they are part of family or related or not. \n",
    "* household_size_for_renters: The average size of a household for people who are renting.\n",
    "* med_year_moved_in_for_owners: The median year that a home owner moved into their home\n",
    "* med_year_renter_moved_in: The median year that a renter moved into their home \n",
    "* The following varialbes are monthly rental rates by size of  Rental in Bedrooms as a percentage:\n",
    "studio_1000_1499,studio_1500_more,\n",
    "studio_750_999,\n",
    "onebed_1000_1499,\n",
    "onebed_1500_more,\n",
    "onebed_750_999,\n",
    "twobed_1000_1499,\n",
    "twobed_1500_more,\n",
    "twobed_750_999,\n",
    "threebed_1000_1499,\n",
    "threebed_1500_more,\n",
    "threebed_750_999\n",
    "\n",
    "* city: Name of city\n",
    "\n",
    "* Latitude: Latitude of the city\n",
    "\n",
    "* Longitude: Longitude of the city\n",
    "\n",
    "* Population: Population of the city"
   ]
  },
  {
   "cell_type": "markdown",
   "metadata": {},
   "source": [
    "Checking out the Dataframe"
   ]
  },
  {
   "cell_type": "code",
   "execution_count": 71,
   "metadata": {},
   "outputs": [
    {
     "data": {
      "text/html": [
       "<div>\n",
       "<style scoped>\n",
       "    .dataframe tbody tr th:only-of-type {\n",
       "        vertical-align: middle;\n",
       "    }\n",
       "\n",
       "    .dataframe tbody tr th {\n",
       "        vertical-align: top;\n",
       "    }\n",
       "\n",
       "    .dataframe thead th {\n",
       "        text-align: right;\n",
       "    }\n",
       "</style>\n",
       "<table border=\"1\" class=\"dataframe\">\n",
       "  <thead>\n",
       "    <tr style=\"text-align: right;\">\n",
       "      <th></th>\n",
       "      <th>housing_units</th>\n",
       "      <th>housing_density</th>\n",
       "      <th>change_hunits</th>\n",
       "      <th>rent_home_percent</th>\n",
       "      <th>owned_homes</th>\n",
       "      <th>med_homeval</th>\n",
       "      <th>med_rental_rate</th>\n",
       "      <th>med_owner_cost</th>\n",
       "      <th>med_own_cost_aspercentof_income</th>\n",
       "      <th>med_hval_aspercentof_medearn</th>\n",
       "      <th>...</th>\n",
       "      <th>twobed_1500_more</th>\n",
       "      <th>twobed_750_999</th>\n",
       "      <th>threebed_1000_1499</th>\n",
       "      <th>threebed_1500_more</th>\n",
       "      <th>threebed_750_999</th>\n",
       "      <th>city</th>\n",
       "      <th>Latitude</th>\n",
       "      <th>Longitude</th>\n",
       "      <th>population</th>\n",
       "      <th>area_total_km2</th>\n",
       "    </tr>\n",
       "  </thead>\n",
       "  <tbody>\n",
       "    <tr>\n",
       "      <th>0</th>\n",
       "      <td>8751.00000</td>\n",
       "      <td>156.20000</td>\n",
       "      <td>-3.70000</td>\n",
       "      <td>50.70000</td>\n",
       "      <td>49.30000</td>\n",
       "      <td>151600.00000</td>\n",
       "      <td>1059.00000</td>\n",
       "      <td>1093.00000</td>\n",
       "      <td>24.00000</td>\n",
       "      <td>427.00000</td>\n",
       "      <td>...</td>\n",
       "      <td>0.03200</td>\n",
       "      <td>0.50800</td>\n",
       "      <td>0.58300</td>\n",
       "      <td>0.13700</td>\n",
       "      <td>0.18100</td>\n",
       "      <td>Adelanto</td>\n",
       "      <td>34.58277</td>\n",
       "      <td>-117.40921</td>\n",
       "      <td>32867.00000</td>\n",
       "      <td>145.10700</td>\n",
       "    </tr>\n",
       "    <tr>\n",
       "      <th>1</th>\n",
       "      <td>7674.00000</td>\n",
       "      <td>984.70000</td>\n",
       "      <td>1.20000</td>\n",
       "      <td>25.60000</td>\n",
       "      <td>74.40000</td>\n",
       "      <td>745000.00000</td>\n",
       "      <td>2261.00000</td>\n",
       "      <td>2488.00000</td>\n",
       "      <td>23.00000</td>\n",
       "      <td>928.00000</td>\n",
       "      <td>...</td>\n",
       "      <td>0.89900</td>\n",
       "      <td>0.03800</td>\n",
       "      <td>0.00000</td>\n",
       "      <td>0.96200</td>\n",
       "      <td>0.00000</td>\n",
       "      <td>AgouraHills</td>\n",
       "      <td>34.15334</td>\n",
       "      <td>-118.76167</td>\n",
       "      <td>20736.00000</td>\n",
       "      <td>20.26000</td>\n",
       "    </tr>\n",
       "    <tr>\n",
       "      <th>2</th>\n",
       "      <td>32414.00000</td>\n",
       "      <td>3104.10000</td>\n",
       "      <td>0.20000</td>\n",
       "      <td>53.00000</td>\n",
       "      <td>47.00000</td>\n",
       "      <td>729100.00000</td>\n",
       "      <td>1607.00000</td>\n",
       "      <td>2259.00000</td>\n",
       "      <td>21.00000</td>\n",
       "      <td>1006.00000</td>\n",
       "      <td>...</td>\n",
       "      <td>0.63300</td>\n",
       "      <td>0.01900</td>\n",
       "      <td>0.11900</td>\n",
       "      <td>0.66700</td>\n",
       "      <td>0.03600</td>\n",
       "      <td>Alameda</td>\n",
       "      <td>37.76521</td>\n",
       "      <td>-122.24164</td>\n",
       "      <td>78246.00000</td>\n",
       "      <td>59.46500</td>\n",
       "    </tr>\n",
       "    <tr>\n",
       "      <th>3</th>\n",
       "      <td>7724.00000</td>\n",
       "      <td>4319.40000</td>\n",
       "      <td>-2.10000</td>\n",
       "      <td>52.40000</td>\n",
       "      <td>47.60000</td>\n",
       "      <td>766000.00000</td>\n",
       "      <td>1739.00000</td>\n",
       "      <td>2501.00000</td>\n",
       "      <td>21.00000</td>\n",
       "      <td>991.00000</td>\n",
       "      <td>...</td>\n",
       "      <td>0.82100</td>\n",
       "      <td>0.01200</td>\n",
       "      <td>0.08400</td>\n",
       "      <td>0.84900</td>\n",
       "      <td>0.00000</td>\n",
       "      <td>Albany</td>\n",
       "      <td>37.88687</td>\n",
       "      <td>-122.29775</td>\n",
       "      <td>19682.00000</td>\n",
       "      <td>14.15500</td>\n",
       "    </tr>\n",
       "    <tr>\n",
       "      <th>4</th>\n",
       "      <td>30990.00000</td>\n",
       "      <td>4061.10000</td>\n",
       "      <td>0.20000</td>\n",
       "      <td>59.70000</td>\n",
       "      <td>40.30000</td>\n",
       "      <td>553800.00000</td>\n",
       "      <td>1286.00000</td>\n",
       "      <td>1629.00000</td>\n",
       "      <td>22.00000</td>\n",
       "      <td>1296.00000</td>\n",
       "      <td>...</td>\n",
       "      <td>0.31200</td>\n",
       "      <td>0.05400</td>\n",
       "      <td>0.18000</td>\n",
       "      <td>0.62900</td>\n",
       "      <td>0.03900</td>\n",
       "      <td>Alhambra</td>\n",
       "      <td>34.09529</td>\n",
       "      <td>-118.12701</td>\n",
       "      <td>85168.00000</td>\n",
       "      <td>19.76600</td>\n",
       "    </tr>\n",
       "  </tbody>\n",
       "</table>\n",
       "<p>5 rows × 39 columns</p>\n",
       "</div>"
      ],
      "text/plain": [
       "   housing_units  housing_density  change_hunits  rent_home_percent  \\\n",
       "0     8751.00000        156.20000       -3.70000           50.70000   \n",
       "1     7674.00000        984.70000        1.20000           25.60000   \n",
       "2    32414.00000       3104.10000        0.20000           53.00000   \n",
       "3     7724.00000       4319.40000       -2.10000           52.40000   \n",
       "4    30990.00000       4061.10000        0.20000           59.70000   \n",
       "\n",
       "   owned_homes  med_homeval  med_rental_rate  med_owner_cost  \\\n",
       "0     49.30000 151600.00000       1059.00000      1093.00000   \n",
       "1     74.40000 745000.00000       2261.00000      2488.00000   \n",
       "2     47.00000 729100.00000       1607.00000      2259.00000   \n",
       "3     47.60000 766000.00000       1739.00000      2501.00000   \n",
       "4     40.30000 553800.00000       1286.00000      1629.00000   \n",
       "\n",
       "   med_own_cost_aspercentof_income  med_hval_aspercentof_medearn  ...  \\\n",
       "0                         24.00000                     427.00000  ...   \n",
       "1                         23.00000                     928.00000  ...   \n",
       "2                         21.00000                    1006.00000  ...   \n",
       "3                         21.00000                     991.00000  ...   \n",
       "4                         22.00000                    1296.00000  ...   \n",
       "\n",
       "   twobed_1500_more  twobed_750_999  threebed_1000_1499  threebed_1500_more  \\\n",
       "0           0.03200         0.50800             0.58300             0.13700   \n",
       "1           0.89900         0.03800             0.00000             0.96200   \n",
       "2           0.63300         0.01900             0.11900             0.66700   \n",
       "3           0.82100         0.01200             0.08400             0.84900   \n",
       "4           0.31200         0.05400             0.18000             0.62900   \n",
       "\n",
       "   threebed_750_999         city  Latitude  Longitude  population  \\\n",
       "0           0.18100     Adelanto  34.58277 -117.40921 32867.00000   \n",
       "1           0.00000  AgouraHills  34.15334 -118.76167 20736.00000   \n",
       "2           0.03600      Alameda  37.76521 -122.24164 78246.00000   \n",
       "3           0.00000       Albany  37.88687 -122.29775 19682.00000   \n",
       "4           0.03900     Alhambra  34.09529 -118.12701 85168.00000   \n",
       "\n",
       "   area_total_km2  \n",
       "0       145.10700  \n",
       "1        20.26000  \n",
       "2        59.46500  \n",
       "3        14.15500  \n",
       "4        19.76600  \n",
       "\n",
       "[5 rows x 39 columns]"
      ]
     },
     "metadata": {},
     "output_type": "display_data"
    },
    {
     "name": "stdout",
     "output_type": "stream",
     "text": [
      "<class 'pandas.core.frame.DataFrame'>\n",
      "Int64Index: 452 entries, 0 to 451\n",
      "Data columns (total 39 columns):\n",
      "housing_units                         452 non-null float64\n",
      "housing_density                       452 non-null float64\n",
      "change_hunits                         450 non-null float64\n",
      "rent_home_percent                     452 non-null float64\n",
      "owned_homes                           452 non-null float64\n",
      "med_homeval                           452 non-null float64\n",
      "med_rental_rate                       451 non-null float64\n",
      "med_owner_cost                        449 non-null float64\n",
      "med_own_cost_aspercentof_income       452 non-null float64\n",
      "med_hval_aspercentof_medearn          452 non-null float64\n",
      "med_hcost_ownmortg                    451 non-null float64\n",
      "med_hcost_own_wo_mortg                450 non-null float64\n",
      "hcost_aspercentof_hincome_ownmortg    451 non-null float64\n",
      "hcost_as_perc_of_hincome_womortg      452 non-null float64\n",
      "med_real_estate_taxes                 452 non-null float64\n",
      "family_members_per_hunit              452 non-null float64\n",
      "median_num_ofrooms                    452 non-null float64\n",
      "median_year_house_built               452 non-null float64\n",
      "household_size_of_howners             452 non-null float64\n",
      "household_size_for_renters            452 non-null float64\n",
      "med_year_moved_in_for_owners          452 non-null float64\n",
      "med_year_renter_moved_in              434 non-null float64\n",
      "studio_1000_1499                      446 non-null float64\n",
      "studio_1500_more                      442 non-null float64\n",
      "studio_750_999                        441 non-null float64\n",
      "onebed_1000_1499                      446 non-null float64\n",
      "onebed_1500_more                      442 non-null float64\n",
      "onebed_750_999                        441 non-null float64\n",
      "twobed_1000_1499                      446 non-null float64\n",
      "twobed_1500_more                      442 non-null float64\n",
      "twobed_750_999                        441 non-null float64\n",
      "threebed_1000_1499                    446 non-null float64\n",
      "threebed_1500_more                    442 non-null float64\n",
      "threebed_750_999                      441 non-null float64\n",
      "city                                  452 non-null object\n",
      "Latitude                              452 non-null float64\n",
      "Longitude                             452 non-null float64\n",
      "population                            452 non-null float64\n",
      "area_total_km2                        444 non-null float64\n",
      "dtypes: float64(38), object(1)\n",
      "memory usage: 141.2+ KB\n"
     ]
    },
    {
     "data": {
      "text/plain": [
       "None"
      ]
     },
     "metadata": {},
     "output_type": "display_data"
    }
   ],
   "source": [
    "display(housing.head())\n",
    "display(housing.info())"
   ]
  },
  {
   "cell_type": "code",
   "execution_count": 72,
   "metadata": {
    "scrolled": true
   },
   "outputs": [
    {
     "name": "stdout",
     "output_type": "stream",
     "text": [
      "housing_units has a count of missing values = 0\n",
      "housing_density has a count of missing values = 0\n",
      "change_hunits has a count of missing values = 2\n",
      "rent_home_percent has a count of missing values = 0\n",
      "owned_homes has a count of missing values = 0\n",
      "med_homeval has a count of missing values = 0\n",
      "med_rental_rate has a count of missing values = 1\n",
      "med_owner_cost has a count of missing values = 3\n",
      "med_own_cost_aspercentof_income has a count of missing values = 0\n",
      "med_hval_aspercentof_medearn has a count of missing values = 0\n",
      "med_hcost_ownmortg has a count of missing values = 1\n",
      "med_hcost_own_wo_mortg has a count of missing values = 2\n",
      "hcost_aspercentof_hincome_ownmortg has a count of missing values = 1\n",
      "hcost_as_perc_of_hincome_womortg has a count of missing values = 0\n",
      "med_real_estate_taxes has a count of missing values = 0\n",
      "family_members_per_hunit has a count of missing values = 0\n",
      "median_num_ofrooms has a count of missing values = 0\n",
      "median_year_house_built has a count of missing values = 0\n",
      "household_size_of_howners has a count of missing values = 0\n",
      "household_size_for_renters has a count of missing values = 0\n",
      "med_year_moved_in_for_owners has a count of missing values = 0\n",
      "med_year_renter_moved_in has a count of missing values = 18\n",
      "studio_1000_1499 has a count of missing values = 6\n",
      "studio_1500_more has a count of missing values = 10\n",
      "studio_750_999 has a count of missing values = 11\n",
      "onebed_1000_1499 has a count of missing values = 6\n",
      "onebed_1500_more has a count of missing values = 10\n",
      "onebed_750_999 has a count of missing values = 11\n",
      "twobed_1000_1499 has a count of missing values = 6\n",
      "twobed_1500_more has a count of missing values = 10\n",
      "twobed_750_999 has a count of missing values = 11\n",
      "threebed_1000_1499 has a count of missing values = 6\n",
      "threebed_1500_more has a count of missing values = 10\n",
      "threebed_750_999 has a count of missing values = 11\n",
      "city has a count of missing values = 0\n",
      "Latitude has a count of missing values = 0\n",
      "Longitude has a count of missing values = 0\n",
      "population has a count of missing values = 0\n",
      "area_total_km2 has a count of missing values = 8\n"
     ]
    }
   ],
   "source": [
    "count = 0\n",
    "for col in housing.columns:\n",
    "    print(housing[col].name,\"has a count of missing values =\",housing[col].isna().sum())\n",
    "    "
   ]
  },
  {
   "cell_type": "markdown",
   "metadata": {},
   "source": [
    "Each row represents a city in california we have a total collection of 452 cities/instances in the dataset. **Some attributes contain null values**.  In our case this means the variable was not in the text section of the housing information provided by Towncharts.com. Although the data set is fairly small by Machine Learning standards this data set is great as a first step in predicting median rental rates in california. Understandbly I will need to decide which method to use to treat these missing values later."
   ]
  },
  {
   "cell_type": "markdown",
   "metadata": {},
   "source": [
    "It is important to note that all attributes are numerical. No dummy variables need to be created for an ordinal character variable. If there was a categorical attribute with a large number of possible categories it is recommended to avoid the computational complexity by replaacing each category with a learnable low dimensional vector  called an embedding. For future research perhaps some character variables should be considered after seeking domain expertise about valuable character variables to consider in the prediction of median rental price. "
   ]
  },
  {
   "cell_type": "code",
   "execution_count": 73,
   "metadata": {},
   "outputs": [],
   "source": [
    "pd.options.display.float_format = '{:.5f}'.format\n",
    "#pd.reset_option('^display.', silent=True)"
   ]
  },
  {
   "cell_type": "markdown",
   "metadata": {},
   "source": [
    "Summary of each numerical attribute"
   ]
  },
  {
   "cell_type": "code",
   "execution_count": 74,
   "metadata": {},
   "outputs": [
    {
     "data": {
      "text/plain": [
       "count       452.00000\n",
       "mean      24963.13274\n",
       "std       79012.58597\n",
       "min          37.00000\n",
       "25%        4385.75000\n",
       "50%       11841.00000\n",
       "75%       26010.25000\n",
       "max     1457762.00000\n",
       "Name: housing_units, dtype: float64"
      ]
     },
     "execution_count": 74,
     "metadata": {},
     "output_type": "execute_result"
    }
   ],
   "source": [
    "housing.housing_units.describe()"
   ]
  },
  {
   "cell_type": "code",
   "execution_count": 75,
   "metadata": {
    "scrolled": true
   },
   "outputs": [
    {
     "data": {
      "image/png": "[encoded data removed]",
      "text/plain": [
       "<Figure size 1440x1080 with 42 Axes>"
      ]
     },
     "metadata": {
      "needs_background": "light"
     },
     "output_type": "display_data"
    }
   ],
   "source": [
    "housing.hist(bins=25,figsize=(20,15))\n",
    "plt.show()"
   ]
  },
  {
   "cell_type": "markdown",
   "metadata": {},
   "source": [
    " ### A few takeaways:\n",
    "* **Attributes have different scales** some are in percentage, some are in units, and some are in dollars.\n",
    "<br><br>\n",
    "* **Many histograms are right tail heavy**: Meaning their mean is greater than their median i.e the mean is being 'pulled' by outliers.\n",
    "<br><br>\n",
    "* Interestingly  housing units (mean: 24963, std:79012, median:11841) and  change in housing units from 2010 to 2017 (mean:3, std 5.9, median:2.1) are two attributes whose standard deviation are considerably greater than their mean looking at the IQR for both the range of the middle half in change of housing units is Q3(5.6) to Q1(-.875%) = 6.475 and the range of the middle half of housing units is Q3(26010.25) to Q1(4385.75) = 21624.5\n",
    "<br><br>\n",
    "* Two attributes median housing cost for homeowners with a  mortgage (including the cost of the mortgage or other debt) and median real estate taxes paid by onwers of homes in the area have a noticable number of high values at the tail end (spike) of their distribution of values. <br><br>\n",
    "* The mean percent of all occupied housing units that are owned housing units across the cities is greater than the mean of all occupied housing units that are rental housing units mean of 57% vs mean of 42% both have a fairly normal distribution <br><br>\n",
    "* A variable that provides insight how much the property is worth(house and lot, mobile home and lot, or condominium unit) if it was for sale as a percent of the median earnings for a worker in the area this attribute has a mean of 861 standard deviation of 473, and a median of 837. It is a slightly right skewed distribution."
   ]
  },
  {
   "cell_type": "markdown",
   "metadata": {},
   "source": [
    "### Creating a test set"
   ]
  },
  {
   "cell_type": "markdown",
   "metadata": {},
   "source": [
    "Best practice advises me to create a unique test set and avoid generating a different test as over time the Machine Learning algorithms will get to see the whole dataset. There are some important considerations when creating a test set. And they depend on whether I will be fetching an updated dataset on occassion or if I would be working on just one dataset. The latter has a simple solution of setting the random number generator seed in ***train_test_split()***, so that it always generates the same shuffled indices for extracting the instances to include in my test set. While the former involves using each instance's identifier to decide whether or not it should go in the test set (assuming instances have a unique and immutable identifer). This eliminates the possibility of leakage of instances previously in the training set into the new test set. However stratisfied sampling might be preffered over random sampling in the occasion that you want to ensure that the test set is representative of some attribute in your data set."
   ]
  },
  {
   "cell_type": "markdown",
   "metadata": {},
   "source": [
    "I choose to implement stratisfied random sampling\n",
    "based on med_owner_cost (the median monthly cost of housing for property owners). A continous numerical attribute created into a category. My belief is that this is a vital attribute in predicting median rental prices. For example, if my test set contained a grand majority of instances in which med_owner_cost was between the 3rd Quantile and the max of med_owner_cost, than no matter what machine learning pipeline I implemented my test error would always be large. "
   ]
  },
  {
   "cell_type": "markdown",
   "metadata": {},
   "source": [
    "Note that one instance had a missing a label value this value will be deleted. And med_owner_cost has three missing values which will be excluded sadly.\n",
    "Further treatment of missing values will be dealt with shortly."
   ]
  },
  {
   "cell_type": "code",
   "execution_count": 76,
   "metadata": {},
   "outputs": [],
   "source": [
    "housing = housing[(pd.notnull(housing['med_rental_rate'])) & (pd.notnull(housing['med_owner_cost']))]\n",
    "housing = housing.reset_index(drop=True)"
   ]
  },
  {
   "cell_type": "markdown",
   "metadata": {},
   "source": [
    "Creation of owner cost category"
   ]
  },
  {
   "cell_type": "code",
   "execution_count": 77,
   "metadata": {},
   "outputs": [],
   "source": [
    "housing['owner_cost_cat'] = pd.cut(housing['med_owner_cost'],\n",
    "                                  bins = [0,750,1500,2250,3000,np.inf],\n",
    "                                  labels = [1,2,3,4,5])"
   ]
  },
  {
   "cell_type": "code",
   "execution_count": 78,
   "metadata": {
    "scrolled": false
   },
   "outputs": [
    {
     "data": {
      "text/plain": [
       "<matplotlib.axes._subplots.AxesSubplot at 0x18df4f70668>"
      ]
     },
     "execution_count": 78,
     "metadata": {},
     "output_type": "execute_result"
    },
    {
     "data": {
      "image/png": "[encoded data removed]",
      "text/plain": [
       "<Figure size 432x288 with 1 Axes>"
      ]
     },
     "metadata": {
      "needs_background": "light"
     },
     "output_type": "display_data"
    }
   ],
   "source": [
    "housing['owner_cost_cat'].hist()"
   ]
  },
  {
   "cell_type": "markdown",
   "metadata": {},
   "source": [
    "Stratified sampling based on owner cost category"
   ]
  },
  {
   "cell_type": "code",
   "execution_count": 79,
   "metadata": {},
   "outputs": [],
   "source": [
    "from sklearn.model_selection import StratifiedShuffleSplit\n",
    "\n",
    "split = StratifiedShuffleSplit(n_splits=1,test_size=0.2,random_state=22)\n",
    "for train_index,test_index in split.split(housing,housing['owner_cost_cat']):\n",
    "    strat_train_set  = housing.reindex(train_index)\n",
    "    strat_test_set = housing.reindex(test_index)"
   ]
  },
  {
   "cell_type": "code",
   "execution_count": 80,
   "metadata": {
    "scrolled": false
   },
   "outputs": [
    {
     "name": "stdout",
     "output_type": "stream",
     "text": [
      "Owner cost category proportions in the overall dataset:\n",
      "3   0.40848\n",
      "2   0.36830\n",
      "4   0.13839\n",
      "5   0.04911\n",
      "1   0.03571\n",
      "Name: owner_cost_cat, dtype: float64\n",
      "Owner cost category proportions in the test set:\n",
      "3   0.41111\n",
      "2   0.36667\n",
      "4   0.14444\n",
      "5   0.04444\n",
      "1   0.03333\n",
      "Name: owner_cost_cat, dtype: float64\n"
     ]
    }
   ],
   "source": [
    "print(\"Owner cost category proportions in the overall dataset:\\n{}\".format(housing['owner_cost_cat'].value_counts()/len(housing)))           \n",
    "print(\"Owner cost category proportions in the test set:\\n{}\".format(strat_test_set['owner_cost_cat'].value_counts()/ len(strat_test_set)))"
   ]
  },
  {
   "cell_type": "code",
   "execution_count": 84,
   "metadata": {},
   "outputs": [],
   "source": [
    "for set_ in (strat_train_set, strat_test_set):\n",
    "    set_.drop(\"owner_cost_cat\", axis=1, inplace=True)"
   ]
  },
  {
   "cell_type": "markdown",
   "metadata": {},
   "source": [
    "# Explore the data to gain insights"
   ]
  },
  {
   "cell_type": "code",
   "execution_count": 85,
   "metadata": {},
   "outputs": [],
   "source": [
    "housing = strat_train_set.copy()"
   ]
  },
  {
   "cell_type": "code",
   "execution_count": 86,
   "metadata": {},
   "outputs": [
    {
     "name": "stdout",
     "output_type": "stream",
     "text": [
      "<class 'pandas.core.frame.DataFrame'>\n",
      "Int64Index: 358 entries, 194 to 355\n",
      "Data columns (total 39 columns):\n",
      "housing_units                         358 non-null float64\n",
      "housing_density                       358 non-null float64\n",
      "change_hunits                         357 non-null float64\n",
      "rent_home_percent                     358 non-null float64\n",
      "owned_homes                           358 non-null float64\n",
      "med_homeval                           358 non-null float64\n",
      "med_rental_rate                       358 non-null float64\n",
      "med_owner_cost                        358 non-null float64\n",
      "med_own_cost_aspercentof_income       358 non-null float64\n",
      "med_hval_aspercentof_medearn          358 non-null float64\n",
      "med_hcost_ownmortg                    357 non-null float64\n",
      "med_hcost_own_wo_mortg                357 non-null float64\n",
      "hcost_aspercentof_hincome_ownmortg    357 non-null float64\n",
      "hcost_as_perc_of_hincome_womortg      358 non-null float64\n",
      "med_real_estate_taxes                 358 non-null float64\n",
      "family_members_per_hunit              358 non-null float64\n",
      "median_num_ofrooms                    358 non-null float64\n",
      "median_year_house_built               358 non-null float64\n",
      "household_size_of_howners             358 non-null float64\n",
      "household_size_for_renters            358 non-null float64\n",
      "med_year_moved_in_for_owners          358 non-null float64\n",
      "med_year_renter_moved_in              343 non-null float64\n",
      "studio_1000_1499                      353 non-null float64\n",
      "studio_1500_more                      351 non-null float64\n",
      "studio_750_999                        348 non-null float64\n",
      "onebed_1000_1499                      353 non-null float64\n",
      "onebed_1500_more                      351 non-null float64\n",
      "onebed_750_999                        348 non-null float64\n",
      "twobed_1000_1499                      353 non-null float64\n",
      "twobed_1500_more                      351 non-null float64\n",
      "twobed_750_999                        348 non-null float64\n",
      "threebed_1000_1499                    353 non-null float64\n",
      "threebed_1500_more                    351 non-null float64\n",
      "threebed_750_999                      348 non-null float64\n",
      "city                                  358 non-null object\n",
      "Latitude                              358 non-null float64\n",
      "Longitude                             358 non-null float64\n",
      "population                            358 non-null float64\n",
      "area_total_km2                        355 non-null float64\n",
      "dtypes: float64(38), object(1)\n",
      "memory usage: 111.9+ KB\n"
     ]
    }
   ],
   "source": [
    "housing.info()"
   ]
  },
  {
   "cell_type": "code",
   "execution_count": 89,
   "metadata": {},
   "outputs": [
    {
     "ename": "NameError",
     "evalue": "name 'Basemap' is not defined",
     "output_type": "error",
     "traceback": [
      "\u001b[1;31m---------------------------------------------------------------------------\u001b[0m",
      "\u001b[1;31mNameError\u001b[0m                                 Traceback (most recent call last)",
      "\u001b[1;32m<ipython-input-89-d9e6d8be04f7>\u001b[0m in \u001b[0;36m<module>\u001b[1;34m\u001b[0m\n\u001b[0;32m      1\u001b[0m \u001b[1;33m\u001b[0m\u001b[0m\n\u001b[0;32m      2\u001b[0m \u001b[0mfig\u001b[0m \u001b[1;33m=\u001b[0m \u001b[0mplt\u001b[0m\u001b[1;33m.\u001b[0m\u001b[0mfigure\u001b[0m\u001b[1;33m(\u001b[0m\u001b[0mfigsize\u001b[0m\u001b[1;33m=\u001b[0m\u001b[1;33m(\u001b[0m\u001b[1;36m8\u001b[0m\u001b[1;33m,\u001b[0m \u001b[1;36m8\u001b[0m\u001b[1;33m)\u001b[0m\u001b[1;33m)\u001b[0m\u001b[1;33m\u001b[0m\u001b[1;33m\u001b[0m\u001b[0m\n\u001b[1;32m----> 3\u001b[1;33m m = Basemap(projection='lcc', resolution='h', \n\u001b[0m\u001b[0;32m      4\u001b[0m             \u001b[0mlat_0\u001b[0m\u001b[1;33m=\u001b[0m\u001b[1;36m37.5\u001b[0m\u001b[1;33m,\u001b[0m \u001b[0mlon_0\u001b[0m\u001b[1;33m=\u001b[0m\u001b[1;33m-\u001b[0m\u001b[1;36m119\u001b[0m\u001b[1;33m,\u001b[0m\u001b[1;33m\u001b[0m\u001b[1;33m\u001b[0m\u001b[0m\n\u001b[0;32m      5\u001b[0m             width=1E6, height=1.2E6)\n",
      "\u001b[1;31mNameError\u001b[0m: name 'Basemap' is not defined"
     ]
    },
    {
     "data": {
      "text/plain": [
       "<Figure size 576x576 with 0 Axes>"
      ]
     },
     "metadata": {},
     "output_type": "display_data"
    }
   ],
   "source": [
    "\n",
    "fig = plt.figure(figsize=(8, 8))\n",
    "m = Basemap(projection='lcc', resolution='h', \n",
    "            lat_0=37.5, lon_0=-119,\n",
    "            width=1E6, height=1.2E6)\n",
    "m.shadedrelief()\n",
    "m.drawcoastlines(color='gray')\n",
    "m.drawcountries(color='gray')\n",
    "m.drawstates(color='gray')\n",
    "#\n",
    "m.scatter(housing['Longitude'].values,housing['Latitude'].values,latlon = True,\n",
    "           c = housing['med_rental_rate'].values,cmap ='viridis',\n",
    "           s=housing['area_total_km2'].values,linewidth=0,alpha=0.5)\n",
    "\n",
    "plt.colorbar(label='Median Rental Rate $')\n",
    "plt.clim(508,3501)\n",
    "\n",
    "for a in [100,300,500]:\n",
    "    plt.scatter([],[],c='k',alpha=.3,s=a,label=str(a) +'km$^2$')\n",
    "plt.legend(scatterpoints=1,frameon=False,labelspacing=1,title= 'City Area')\n",
    "\n",
    "\n",
    "\n"
   ]
  },
  {
   "cell_type": "markdown",
   "metadata": {},
   "source": [
    "\"Towncharts.com - United States Demographics Data.\" United States Demographics data. N.p., 15 Dec. 2016. Web. 04 Sep. 2019. <http://www.towncharts.com/>."
   ]
  }
 ],
 "metadata": {
  "kernelspec": {
   "display_name": "Python 3",
   "language": "python",
   "name": "python3"
  },
  "language_info": {
   "codemirror_mode": {
    "name": "ipython",
    "version": 3
   },
   "file_extension": ".py",
   "mimetype": "text/x-python",
   "name": "python",
   "nbconvert_exporter": "python",
   "pygments_lexer": "ipython3",
   "version": "3.7.3"
  },
  "varInspector": {
   "cols": {
    "lenName": 16,
    "lenType": 16,
    "lenVar": 40
   },
   "kernels_config": {
    "python": {
     "delete_cmd_postfix": "",
     "delete_cmd_prefix": "del ",
     "library": "var_list.py",
     "varRefreshCmd": "print(var_dic_list())"
    },
    "r": {
     "delete_cmd_postfix": ") ",
     "delete_cmd_prefix": "rm(",
     "library": "var_list.r",
     "varRefreshCmd": "cat(var_dic_list()) "
    }
   },
   "types_to_exclude": [
    "module",
    "function",
    "builtin_function_or_method",
    "instance",
    "_Feature"
   ],
   "window_display": false
  }
 },
 "nbformat": 4,
 "nbformat_minor": 2
}
