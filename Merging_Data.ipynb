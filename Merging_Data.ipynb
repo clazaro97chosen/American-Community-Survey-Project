{
 "cells": [
  {
   "cell_type": "markdown",
   "metadata": {},
   "source": [
    "# Merging some data"
   ]
  },
  {
   "cell_type": "markdown",
   "metadata": {},
   "source": [
    "The datasets being merged only applies to california but if you can find some other datasets that have the name of the cities as a column it should not be too difficult since python and pandas provide convenient ways to work with [text](https://pandas.pydata.org/pandas-docs/stable/user_guide/text.html). "
   ]
  },
  {
   "cell_type": "markdown",
   "metadata": {},
   "source": [
    "In this notebook i will be merging the `latitude` and `longitude` variables from the kaggle dataset cal_cities_lat_long.csv. A `population` variable for each city after scraping it from towncharts.com demographics web page for each city. And finally, `area_total_km2` variable from Jake Vanderplas hosted california_cities.csv dat. Making it 4 new variable being merged funny enough i notice these last dataset had lat and long"
   ]
  },
  {
   "cell_type": "code",
   "execution_count": 2,
   "metadata": {},
   "outputs": [],
   "source": [
    "import requests\n",
    "import urllib\n",
    "import re\n",
    "from bs4 import BeautifulSoup\n",
    "from googlesearch import search\n",
    "import pandas as pd\n",
    "import numpy as np\n",
    "from fake_useragent import UserAgent\n",
    "import time\n",
    "import pickle"
   ]
  },
  {
   "cell_type": "code",
   "execution_count": 28,
   "metadata": {},
   "outputs": [],
   "source": [
    "cities_data=pd.read_csv(\"C:\\\\Users\\\\Crist\\\\Towncharts\\\\California_Housing_Project\\\\datasets\\\\cal_cities_lat_long.csv\")"
   ]
  },
  {
   "cell_type": "code",
   "execution_count": 26,
   "metadata": {},
   "outputs": [],
   "source": [
    "housing = pd.read_csv(\"C:\\\\Users\\\\Crist\\\\Towncharts\\\\California_Housing_Project//datasets/Towncharts_California_Housing.csv\",index_col =0)"
   ]
  },
  {
   "cell_type": "markdown",
   "metadata": {},
   "source": [
    "Merging the `latitude` and `longitude`"
   ]
  },
  {
   "cell_type": "markdown",
   "metadata": {},
   "source": [
    "\n",
    "\n",
    "The following lines of code will create a new city name column in our housing DataFrame that will be used to merge the appropriate latitude an longtitude to the correct row of the housing DataFrame. As currently our housing has the name of the city formatted as Alameda city-CA and the cal_cities_lat_long.csv  has the name formatted as Alemeda. "
   ]
  },
  {
   "cell_type": "code",
   "execution_count": 20,
   "metadata": {},
   "outputs": [],
   "source": [
    "name_of_city =  []\n",
    "\n",
    "for indx,city in enumerate(housing.city_name):\n",
    "    ser_city = pd.Series(city)\n",
    "    before_len = len(name_of_city)\n",
    "    for aname in cities_data.Name:\n",
    "        if ser_city[ser_city.str.contains(aname)].empty == False:\n",
    "            name_of_city.append(aname)\n",
    "            break\n",
    "            \n",
    "    after_len = len(name_of_city)\n",
    "    if after_len == before_len:\n",
    "        name_of_city.append(None)\n",
    "housing['city'] = name_of_city "
   ]
  },
  {
   "cell_type": "code",
   "execution_count": 21,
   "metadata": {},
   "outputs": [],
   "source": [
    "california_housing = housing.merge(cities_data, left_on='city',right_on='Name')"
   ]
  },
  {
   "cell_type": "code",
   "execution_count": 22,
   "metadata": {},
   "outputs": [],
   "source": [
    "california_housing = california_housing.drop(columns = ['city_name','Name'])"
   ]
  },
  {
   "cell_type": "markdown",
   "metadata": {},
   "source": [
    "Merging the `population` variable"
   ]
  },
  {
   "cell_type": "markdown",
   "metadata": {},
   "source": [
    "\n",
    "\n",
    "After some reflecting I really wanted the population of each \n",
    "city so i chose to gather said variable"
   ]
  },
  {
   "cell_type": "code",
   "execution_count": null,
   "metadata": {},
   "outputs": [],
   "source": [
    "population_links = {}\n",
    "for city in cities_data.Name:\n",
    "    population_links[city] = 'http://www.towncharts.com/California/Demographics/{}-city-CA-Demographics-data.html'.format(city)\n",
    "population_dict = {}\n",
    "for key,value in population_links.items():\n",
    "    ua = UserAgent()\n",
    "    t0 = time.time()\n",
    "    response = requests.get(value,{\"User-Agent\": ua.random})\n",
    "    \n",
    "    if response.status_code != 200:\n",
    "        continue\n",
    "    response_delay = time.time() - t0\n",
    "    time.sleep(10*response_delay)\n",
    "    soup = BeautifulSoup(response.text,'html.parser')\n",
    "    population_text_section = get_text_section('section1',soup)\n",
    "    population = searchpattern('it\\shas\\s(\\d.*?\\d)\\spopulation\\s',population_text_section)\n",
    "    population = refinestring({\"$\":\"\",\",\":\"\",\"%\":\"\"},population)\n",
    "    population_dict[key] = population\n",
    "population_dat = pd.DataFrame(list(population_dict.items()),columns =['city','population'] )"
   ]
  },
  {
   "cell_type": "code",
   "execution_count": null,
   "metadata": {},
   "outputs": [],
   "source": [
    "population_dat['city'] = population_dat['city'].str.replace('-',' ')"
   ]
  },
  {
   "cell_type": "code",
   "execution_count": null,
   "metadata": {},
   "outputs": [],
   "source": [
    "california_housing = california_housing.merge(population_dat, left_on='city',right_on='city')"
   ]
  },
  {
   "cell_type": "markdown",
   "metadata": {},
   "source": [
    "Merging `area_total_km2`"
   ]
  },
  {
   "cell_type": "code",
   "execution_count": 23,
   "metadata": {},
   "outputs": [],
   "source": [
    "area_dat = (pd.read_csv('https://raw.githubusercontent.com/jakevdp/PythonDataScienceHandbook/master/notebooks/data/california_cities.csv',index_col=0)).loc[:,['city','area_total_km2']]"
   ]
  },
  {
   "cell_type": "markdown",
   "metadata": {},
   "source": [
    "The dataset from jake vanderplas has city name with no spaces\n",
    "so a quick replace should do the job so we are able to merge"
   ]
  },
  {
   "cell_type": "code",
   "execution_count": 24,
   "metadata": {},
   "outputs": [],
   "source": [
    "california_housing['city'] = california_housing['city'].str.replace(\" \",\"\")"
   ]
  },
  {
   "cell_type": "code",
   "execution_count": 31,
   "metadata": {},
   "outputs": [],
   "source": [
    "california_housing = california_housing.merge(area_dat,left_on='city',right_on='city',how='left')"
   ]
  },
  {
   "cell_type": "code",
   "execution_count": 32,
   "metadata": {},
   "outputs": [
    {
     "data": {
      "text/html": [
       "<div>\n",
       "<style scoped>\n",
       "    .dataframe tbody tr th:only-of-type {\n",
       "        vertical-align: middle;\n",
       "    }\n",
       "\n",
       "    .dataframe tbody tr th {\n",
       "        vertical-align: top;\n",
       "    }\n",
       "\n",
       "    .dataframe thead th {\n",
       "        text-align: right;\n",
       "    }\n",
       "</style>\n",
       "<table border=\"1\" class=\"dataframe\">\n",
       "  <thead>\n",
       "    <tr style=\"text-align: right;\">\n",
       "      <th></th>\n",
       "      <th>housing_units</th>\n",
       "      <th>housing_density</th>\n",
       "      <th>change_hunits</th>\n",
       "      <th>percent_of_rent_to_total</th>\n",
       "      <th>owned_homes</th>\n",
       "      <th>med_homeval</th>\n",
       "      <th>med_rental_rate</th>\n",
       "      <th>med_owner_cost</th>\n",
       "      <th>med_own_cost_aspercentof_income</th>\n",
       "      <th>med_hval_aspercentof_medearn</th>\n",
       "      <th>...</th>\n",
       "      <th>twobed_1000_1499</th>\n",
       "      <th>twobed_1500_more</th>\n",
       "      <th>twobed_750_999</th>\n",
       "      <th>threebed_1000_1499</th>\n",
       "      <th>threebed_1500_more</th>\n",
       "      <th>threebed_750_999</th>\n",
       "      <th>city</th>\n",
       "      <th>Latitude</th>\n",
       "      <th>Longitude</th>\n",
       "      <th>area_total_km2</th>\n",
       "    </tr>\n",
       "  </thead>\n",
       "  <tbody>\n",
       "    <tr>\n",
       "      <th>0</th>\n",
       "      <td>8751.0</td>\n",
       "      <td>156.2</td>\n",
       "      <td>-3.7</td>\n",
       "      <td>50.7</td>\n",
       "      <td>49.3</td>\n",
       "      <td>151600.0</td>\n",
       "      <td>1059.0</td>\n",
       "      <td>1093.0</td>\n",
       "      <td>24.0</td>\n",
       "      <td>427.0</td>\n",
       "      <td>...</td>\n",
       "      <td>0.131</td>\n",
       "      <td>0.032</td>\n",
       "      <td>0.508</td>\n",
       "      <td>0.583</td>\n",
       "      <td>0.137</td>\n",
       "      <td>0.181</td>\n",
       "      <td>Adelanto</td>\n",
       "      <td>34.582769</td>\n",
       "      <td>-117.409214</td>\n",
       "      <td>145.107</td>\n",
       "    </tr>\n",
       "    <tr>\n",
       "      <th>1</th>\n",
       "      <td>7674.0</td>\n",
       "      <td>984.7</td>\n",
       "      <td>1.2</td>\n",
       "      <td>25.6</td>\n",
       "      <td>74.4</td>\n",
       "      <td>745000.0</td>\n",
       "      <td>2261.0</td>\n",
       "      <td>2488.0</td>\n",
       "      <td>23.0</td>\n",
       "      <td>928.0</td>\n",
       "      <td>...</td>\n",
       "      <td>0.064</td>\n",
       "      <td>0.899</td>\n",
       "      <td>0.038</td>\n",
       "      <td>0.000</td>\n",
       "      <td>0.962</td>\n",
       "      <td>0.000</td>\n",
       "      <td>AgouraHills</td>\n",
       "      <td>34.153339</td>\n",
       "      <td>-118.761675</td>\n",
       "      <td>20.260</td>\n",
       "    </tr>\n",
       "    <tr>\n",
       "      <th>2</th>\n",
       "      <td>32414.0</td>\n",
       "      <td>3104.1</td>\n",
       "      <td>0.2</td>\n",
       "      <td>53.0</td>\n",
       "      <td>47.0</td>\n",
       "      <td>729100.0</td>\n",
       "      <td>1607.0</td>\n",
       "      <td>2259.0</td>\n",
       "      <td>21.0</td>\n",
       "      <td>1006.0</td>\n",
       "      <td>...</td>\n",
       "      <td>0.261</td>\n",
       "      <td>0.633</td>\n",
       "      <td>0.019</td>\n",
       "      <td>0.119</td>\n",
       "      <td>0.667</td>\n",
       "      <td>0.036</td>\n",
       "      <td>Alameda</td>\n",
       "      <td>37.765206</td>\n",
       "      <td>-122.241636</td>\n",
       "      <td>59.465</td>\n",
       "    </tr>\n",
       "    <tr>\n",
       "      <th>3</th>\n",
       "      <td>7724.0</td>\n",
       "      <td>4319.4</td>\n",
       "      <td>-2.1</td>\n",
       "      <td>52.4</td>\n",
       "      <td>47.6</td>\n",
       "      <td>766000.0</td>\n",
       "      <td>1739.0</td>\n",
       "      <td>2501.0</td>\n",
       "      <td>21.0</td>\n",
       "      <td>991.0</td>\n",
       "      <td>...</td>\n",
       "      <td>0.138</td>\n",
       "      <td>0.821</td>\n",
       "      <td>0.012</td>\n",
       "      <td>0.084</td>\n",
       "      <td>0.849</td>\n",
       "      <td>0.000</td>\n",
       "      <td>Albany</td>\n",
       "      <td>37.886869</td>\n",
       "      <td>-122.297747</td>\n",
       "      <td>14.155</td>\n",
       "    </tr>\n",
       "    <tr>\n",
       "      <th>4</th>\n",
       "      <td>30990.0</td>\n",
       "      <td>4061.1</td>\n",
       "      <td>0.2</td>\n",
       "      <td>59.7</td>\n",
       "      <td>40.3</td>\n",
       "      <td>553800.0</td>\n",
       "      <td>1286.0</td>\n",
       "      <td>1629.0</td>\n",
       "      <td>22.0</td>\n",
       "      <td>1296.0</td>\n",
       "      <td>...</td>\n",
       "      <td>0.575</td>\n",
       "      <td>0.312</td>\n",
       "      <td>0.054</td>\n",
       "      <td>0.180</td>\n",
       "      <td>0.629</td>\n",
       "      <td>0.039</td>\n",
       "      <td>Alhambra</td>\n",
       "      <td>34.095286</td>\n",
       "      <td>-118.127014</td>\n",
       "      <td>19.766</td>\n",
       "    </tr>\n",
       "  </tbody>\n",
       "</table>\n",
       "<p>5 rows × 38 columns</p>\n",
       "</div>"
      ],
      "text/plain": [
       "   housing_units  housing_density  change_hunits  percent_of_rent_to_total  \\\n",
       "0         8751.0            156.2           -3.7                      50.7   \n",
       "1         7674.0            984.7            1.2                      25.6   \n",
       "2        32414.0           3104.1            0.2                      53.0   \n",
       "3         7724.0           4319.4           -2.1                      52.4   \n",
       "4        30990.0           4061.1            0.2                      59.7   \n",
       "\n",
       "   owned_homes  med_homeval  med_rental_rate  med_owner_cost  \\\n",
       "0         49.3     151600.0           1059.0          1093.0   \n",
       "1         74.4     745000.0           2261.0          2488.0   \n",
       "2         47.0     729100.0           1607.0          2259.0   \n",
       "3         47.6     766000.0           1739.0          2501.0   \n",
       "4         40.3     553800.0           1286.0          1629.0   \n",
       "\n",
       "   med_own_cost_aspercentof_income  med_hval_aspercentof_medearn  ...  \\\n",
       "0                             24.0                         427.0  ...   \n",
       "1                             23.0                         928.0  ...   \n",
       "2                             21.0                        1006.0  ...   \n",
       "3                             21.0                         991.0  ...   \n",
       "4                             22.0                        1296.0  ...   \n",
       "\n",
       "   twobed_1000_1499  twobed_1500_more  twobed_750_999  threebed_1000_1499  \\\n",
       "0             0.131             0.032           0.508               0.583   \n",
       "1             0.064             0.899           0.038               0.000   \n",
       "2             0.261             0.633           0.019               0.119   \n",
       "3             0.138             0.821           0.012               0.084   \n",
       "4             0.575             0.312           0.054               0.180   \n",
       "\n",
       "   threebed_1500_more  threebed_750_999         city   Latitude   Longitude  \\\n",
       "0               0.137             0.181     Adelanto  34.582769 -117.409214   \n",
       "1               0.962             0.000  AgouraHills  34.153339 -118.761675   \n",
       "2               0.667             0.036      Alameda  37.765206 -122.241636   \n",
       "3               0.849             0.000       Albany  37.886869 -122.297747   \n",
       "4               0.629             0.039     Alhambra  34.095286 -118.127014   \n",
       "\n",
       "   area_total_km2  \n",
       "0         145.107  \n",
       "1          20.260  \n",
       "2          59.465  \n",
       "3          14.155  \n",
       "4          19.766  \n",
       "\n",
       "[5 rows x 38 columns]"
      ]
     },
     "execution_count": 32,
     "metadata": {},
     "output_type": "execute_result"
    }
   ],
   "source": [
    "california_housing.head()"
   ]
  },
  {
   "cell_type": "code",
   "execution_count": null,
   "metadata": {},
   "outputs": [],
   "source": [
    "california_housing.to_csv('C:\\\\Users\\\\Crist\\\\Towncharts_Project\\\\California_Housing_Project\\\\datasets\\\\california_housing.csv')"
   ]
  },
  {
   "cell_type": "markdown",
   "metadata": {},
   "source": [
    "#  The End"
   ]
  }
 ],
 "metadata": {
  "kernelspec": {
   "display_name": "Python 3",
   "language": "python",
   "name": "python3"
  },
  "language_info": {
   "codemirror_mode": {
    "name": "ipython",
    "version": 3
   },
   "file_extension": ".py",
   "mimetype": "text/x-python",
   "name": "python",
   "nbconvert_exporter": "python",
   "pygments_lexer": "ipython3",
   "version": "3.7.3"
  },
  "varInspector": {
   "cols": {
    "lenName": 16,
    "lenType": 16,
    "lenVar": 40
   },
   "kernels_config": {
    "python": {
     "delete_cmd_postfix": "",
     "delete_cmd_prefix": "del ",
     "library": "var_list.py",
     "varRefreshCmd": "print(var_dic_list())"
    },
    "r": {
     "delete_cmd_postfix": ") ",
     "delete_cmd_prefix": "rm(",
     "library": "var_list.r",
     "varRefreshCmd": "cat(var_dic_list()) "
    }
   },
   "types_to_exclude": [
    "module",
    "function",
    "builtin_function_or_method",
    "instance",
    "_Feature"
   ],
   "window_display": false
  }
 },
 "nbformat": 4,
 "nbformat_minor": 2
}
