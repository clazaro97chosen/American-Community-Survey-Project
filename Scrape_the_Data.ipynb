{
 "cells": [
  {
   "cell_type": "code",
   "execution_count": 61,
   "metadata": {},
   "outputs": [],
   "source": [
    "import requests\n",
    "import urllib\n",
    "import re\n",
    "from bs4 import BeautifulSoup\n",
    "from googlesearch import search\n",
    "import pandas as pd\n",
    "import numpy as np\n",
    "from fake_useragent import UserAgent\n",
    "import time\n",
    "import pickle"
   ]
  },
  {
   "cell_type": "code",
   "execution_count": null,
   "metadata": {},
   "outputs": [],
   "source": [
    "cities_data = pd.read_csv(\"C:\\\\Users\\\\Crist\\\\AppData\\\\Local\\\\Temp\\\\American-Community-Survey-Project\\\\cal_cities_lat_long.csv\")"
   ]
  },
  {
   "cell_type": "code",
   "execution_count": null,
   "metadata": {},
   "outputs": [],
   "source": [
    "city_list = cities_data.Name.tolist()\n",
    "list_of_cities = []\n",
    "for city in city_list:\n",
    "    new = city.replace(' ','-')\n",
    "    list_of_cities.append(new)"
   ]
  },
  {
   "cell_type": "code",
   "execution_count": null,
   "metadata": {},
   "outputs": [],
   "source": [
    "list_of_cities"
   ]
  },
  {
   "cell_type": "code",
   "execution_count": null,
   "metadata": {},
   "outputs": [],
   "source": [
    "clean_links = []\n",
    "missing_cities = []"
   ]
  },
  {
   "cell_type": "code",
   "execution_count": null,
   "metadata": {},
   "outputs": [],
   "source": [
    "for city in list_of_cities:\n",
    "    #only get links for cities not in clean_links\n",
    "        backup_url = \"https://www.towncharts.com/California/Housing/{}-city-CA-Housing-data.html\".format(city)\n",
    "        query  = \"'https://www.towncharts.com/California/Housing/{}-city-CA-Housing-data.html'\".format(city)\n",
    "        query = urllib.parse.quote_plus(query) # Format into URL encoding\n",
    "        number_result = 3\n",
    "        \n",
    "        ua = UserAgent()\n",
    "        \n",
    "        google_url = \"https://www.google.com/search?q=\" + query + \"&num=\" + str(number_result)\n",
    "        t0 = time.time()\n",
    "        response = requests.get(google_url, {\"User-Agent\": ua.random})\n",
    "        response_delay = time.time() - t0\n",
    "        time.sleep(10*response_delay)\n",
    "        soup = BeautifulSoup(response.text, \"html.parser\")\n",
    "        \n",
    "        result_div = soup.find_all('div', attrs = {'class': 'ZINbbc'})\n",
    "        \n",
    "        links = []\n",
    "        for r in result_div:\n",
    "            \n",
    "            try:\n",
    "                link = r.find('a', href = True)\n",
    "\n",
    "                if link != '':\n",
    "                    links.append(link['href'])\n",
    "            except:\n",
    "                continue\n",
    "        flag = True\n",
    "        for i, l in enumerate(links):\n",
    "            clean = re.search('\\/url\\?q\\=(.*)\\&sa',l)\n",
    "            if clean is None:\n",
    "                continue\n",
    "            elif city in clean.group(1):\n",
    "                clean_links.append(clean.group(1))\n",
    "                flag = False\n",
    "        if flag:\n",
    "            missing_cities.append(city)\n",
    "            clean_links.append(backup_url)"
   ]
  },
  {
   "cell_type": "markdown",
   "metadata": {},
   "source": [
    "Not perfect so we will:\n",
    "    *remove identical strings\n",
    "    *remove strings that have the word county in them\n",
    "    *track http error 404 if our self made url fails"
   ]
  },
  {
   "cell_type": "markdown",
   "metadata": {},
   "source": [
    "Pickle the output"
   ]
  },
  {
   "cell_type": "code",
   "execution_count": null,
   "metadata": {},
   "outputs": [],
   "source": [
    "# outfile = open('my_clean_links','wb')\n",
    "# pickle.dump(clean_links,outfile)\n",
    "# outfile.close()\n",
    "\n",
    "# outfile = open('unfound_urls','wb')\n",
    "# pickle.dump(missing_cities,outfile)\n",
    "# outfile.close()"
   ]
  },
  {
   "cell_type": "code",
   "execution_count": 34,
   "metadata": {},
   "outputs": [],
   "source": [
    "\n",
    "# infile = open('my_clean_links','rb')\n",
    "# clean_links = pickle.load(infile)\n",
    "# infile.close()\n",
    "\n",
    "# infile = open('unfound_urls','rb')\n",
    "# unfound_urls = pickle.load(infile)\n",
    "# infile.close()"
   ]
  },
  {
   "cell_type": "code",
   "execution_count": 40,
   "metadata": {},
   "outputs": [],
   "source": [
    "#remove county results\n",
    "without_counties = pd.Series(clean_links)\n",
    "without_counties = without_counties.mask(pd.Series(clean_links).str.contains('County'))\n",
    "without_counties = without_counties.dropna()"
   ]
  },
  {
   "cell_type": "code",
   "execution_count": 41,
   "metadata": {},
   "outputs": [],
   "source": [
    "#delete duplicates\n",
    "city_urls = without_counties.drop_duplicates()"
   ]
  },
  {
   "cell_type": "markdown",
   "metadata": {},
   "source": [
    "A quick overview shows economy was gathered for avalon\n",
    "and some cities have cdd rather than the city"
   ]
  },
  {
   "cell_type": "code",
   "execution_count": 42,
   "metadata": {},
   "outputs": [],
   "source": [
    "economy_indexes = city_urls[city_urls.str.contains('Economy')].index"
   ]
  },
  {
   "cell_type": "code",
   "execution_count": 43,
   "metadata": {},
   "outputs": [],
   "source": [
    "CCD_indexes = city_urls[city_urls.str.contains('CCD')].index"
   ]
  },
  {
   "cell_type": "code",
   "execution_count": 48,
   "metadata": {},
   "outputs": [
    {
     "name": "stdout",
     "output_type": "stream",
     "text": [
      "http://www.towncharts.com/California/Economy/Avalon-city-CA-Economy-data.html\n",
      "http://www.towncharts.com/California/Economy/Blythe-city-CA-Economy-data.html\n",
      "https://www.towncharts.com/California/Economy/Chowchilla-city-CA-Economy-data.html\n",
      "http://www.towncharts.com/California/Housing/Barstow-CCD-CA-Housing-data.html\n",
      "http://www.towncharts.com/California/Housing/Bishop-CCD-CA-Housing-data.html\n",
      "https://www.towncharts.com/California/Housing/Carpinteria-CCD-CA-Housing-data.html\n",
      "https://www.towncharts.com/California/Housing/Chico-CCD-CA-Housing-data.html\n",
      "https://www.towncharts.com/California/Housing/Coachella-Valley-CCD-CA-Housing-data.html\n",
      "https://www.towncharts.com/California/Housing/Central-Colusa-CCD-CA-Housing-data.html\n"
     ]
    }
   ],
   "source": [
    "for i in economy_indexes:\n",
    "    print(city_urls[i])\n",
    "for i in CCD_indexes:\n",
    "    print(city_urls[i])"
   ]
  },
  {
   "cell_type": "code",
   "execution_count": 49,
   "metadata": {},
   "outputs": [
    {
     "data": {
      "text/plain": [
       "[22, 44, 79, 29, 41, 68, 74, 87, 92]"
      ]
     },
     "execution_count": 49,
     "metadata": {},
     "output_type": "execute_result"
    }
   ],
   "source": [
    "indexes_to_replace = pd.Series.tolist(economy_indexes)+pd.Series.tolist(CCD_indexes)\n",
    "indexes_to_replace"
   ]
  },
  {
   "cell_type": "code",
   "execution_count": 50,
   "metadata": {
    "scrolled": true
   },
   "outputs": [
    {
     "data": {
      "text/plain": [
       "22         Avalon\n",
       "44         Blythe\n",
       "79     Chowchilla\n",
       "29        Barstow\n",
       "41         Bishop\n",
       "68    Carpinteria\n",
       "74          Chico\n",
       "87      Coachella\n",
       "92         Colusa\n",
       "dtype: object"
      ]
     },
     "execution_count": 50,
     "metadata": {},
     "output_type": "execute_result"
    }
   ],
   "source": [
    "towns_to_fix = pd.Series(['Avalon','Blythe','Chowchilla','Barstow','Bishop','Carpinteria','Chico','Coachella','Colusa'],index = indexes_to_replace)\n",
    "towns_to_fix"
   ]
  },
  {
   "cell_type": "code",
   "execution_count": 51,
   "metadata": {},
   "outputs": [],
   "source": [
    "cop_city_urls = city_urls.copy()"
   ]
  },
  {
   "cell_type": "code",
   "execution_count": 52,
   "metadata": {
    "collapsed": true
   },
   "outputs": [
    {
     "name": "stdout",
     "output_type": "stream",
     "text": [
      "https://www.towncharts.com/California/Housing/Avalon-city-CA-Housing-data.html\n",
      "https://www.towncharts.com/California/Housing/Blythe-city-CA-Housing-data.html\n",
      "https://www.towncharts.com/California/Housing/Chowchilla-city-CA-Housing-data.html\n",
      "https://www.towncharts.com/California/Housing/Barstow-city-CA-Housing-data.html\n",
      "https://www.towncharts.com/California/Housing/Bishop-city-CA-Housing-data.html\n",
      "https://www.towncharts.com/California/Housing/Carpinteria-city-CA-Housing-data.html\n",
      "https://www.towncharts.com/California/Housing/Chico-city-CA-Housing-data.html\n",
      "https://www.towncharts.com/California/Housing/Coachella-city-CA-Housing-data.html\n",
      "https://www.towncharts.com/California/Housing/Colusa-city-CA-Housing-data.html\n"
     ]
    }
   ],
   "source": [
    "for i,v in towns_to_fix.items():\n",
    "    cop_city_urls[i] = \"https://www.towncharts.com/California/Housing/{}-city-CA-Housing-data.html\".format(v)\n",
    "    print(cop_city_urls[i])"
   ]
  },
  {
   "cell_type": "code",
   "execution_count": 54,
   "metadata": {},
   "outputs": [
    {
     "data": {
      "text/plain": [
       "466"
      ]
     },
     "execution_count": 54,
     "metadata": {},
     "output_type": "execute_result"
    }
   ],
   "source": [
    "len(cop_city_urls)"
   ]
  },
  {
   "cell_type": "code",
   "execution_count": 55,
   "metadata": {},
   "outputs": [
    {
     "data": {
      "text/plain": [
       "461"
      ]
     },
     "execution_count": 55,
     "metadata": {},
     "output_type": "execute_result"
    }
   ],
   "source": [
    "#delete duplicates if accidentally created any\n",
    "searchurls = cop_city_urls.drop_duplicates()\n",
    "len(searchurls)"
   ]
  },
  {
   "cell_type": "markdown",
   "metadata": {},
   "source": [
    "A quick look through of the first 100 shows that Burbank has a duplicate with CDP and Bishop city has a duplicate or https vs http"
   ]
  },
  {
   "cell_type": "code",
   "execution_count": 60,
   "metadata": {},
   "outputs": [
    {
     "data": {
      "text/plain": [
       "52    https://www.towncharts.com/California/Housing/...\n",
       "dtype: object"
      ]
     },
     "metadata": {},
     "output_type": "display_data"
    },
    {
     "data": {
      "text/plain": [
       "40    http://www.towncharts.com/California/Housing/B...\n",
       "41    https://www.towncharts.com/California/Housing/...\n",
       "dtype: object"
      ]
     },
     "execution_count": 60,
     "metadata": {},
     "output_type": "execute_result"
    }
   ],
   "source": [
    "display(searchurls[searchurls.str.contains('CDP')])\n",
    "searchurls[searchurls.str.contains('Bishop')]"
   ]
  },
  {
   "cell_type": "code",
   "execution_count": 62,
   "metadata": {},
   "outputs": [
    {
     "data": {
      "text/plain": [
       "459"
      ]
     },
     "execution_count": 62,
     "metadata": {},
     "output_type": "execute_result"
    }
   ],
   "source": [
    "searchurls = searchurls.drop(labels = [40,52])\n",
    "searchurls = searchurls.reset_index(drop=True)\n",
    "len(searchurls)"
   ]
  },
  {
   "cell_type": "markdown",
   "metadata": {},
   "source": [
    "Now we actually scrape the desired attributes"
   ]
  },
  {
   "cell_type": "code",
   "execution_count": null,
   "metadata": {},
   "outputs": [],
   "source": [
    "def searchpattern(pattern,resultset):\n",
    "    '''\n",
    "    pattern:regex pattern\n",
    "    resultset: A beautiful soup result set\n",
    "    output housing variable of interest type string\n",
    "    '''\n",
    "    result = [i for i in resultset if re.search(pattern,i)]\n",
    "    if result == []:\n",
    "        result  = None\n",
    "    else:\n",
    "        result = re.findall(pattern,result[0])\n",
    "    return result\n",
    "\n",
    "city_name = re.search('(.*)\\sCalifornia',housing_text_section1[0]).group(1)\n",
    "\n",
    "#for variables need to remove everything but numbers\n",
    "#figure1 \n",
    "housing_units = searchpattern('it\\shas\\s(\\d.*?\\d)\\shousing\\sunits\\s',housing_text_section1)\n",
    "#figure2 \n",
    "housing_density = searchpattern('it\\shas\\s(\\d.*?\\d)\\shousing\\sdensity\\s',housing_text_section1)\n",
    "#figure4 \n",
    "change_hunits = searchpattern('it\\shas\\s(.*?%)\\schange\\sin\\s',housing_text_section1)\n",
    "#figure5\n",
    "percent_of_rent_to_total = searchpattern('it\\shas\\s(\\d.*?%)\\sRenter\\sPercent\\s',housing_text_section1)\n",
    "#figure 6\n",
    "owned_homes = searchpattern('it\\shas\\s(\\d.*?%)\\sOwner\\sPercent\\s',housing_text_section1)\n",
    "#figure 7 median home value\n",
    "med_homeval = searchpattern('it\\shas\\s(.*?\\d)\\smedian\\shome\\svalue\\s',housing_text_section2)\n",
    "#figure 8 median rental rate\n",
    "med_rental_rate = searchpattern('it\\shas\\s(.*?\\d)\\srental\\srates\\s',housing_text_section2)\n",
    "#figure 10 median owner costs\n",
    "med_owner_cost = searchpattern(\"it\\shas\\s(.*?\\d)\\smedian\\sownership\\scost\\s\",housing_text_section2)\n",
    "#figure 11\n",
    "med_OwnCostas_Perc_of_Income = searchpattern('median\\sowner\\scost\\sas\\sa\\spercent\\sof\\stotal\\shousehold\\sincome\\sand\\sit\\shas\\s(\\d.*?%)',housing_text_section2)\n",
    "\n",
    "#figure 12 median home value as a percent of a median workers earnings\n",
    "med_HCasPerc_of_medearn = searchpattern(\"it\\shas\\s(\\d.*?%)\\smedian\\shome\\svalue\\sas\\s\",housing_text_section2)\n",
    "#figure14\n",
    "med_hcost_ownmortg=searchpattern('depicts.*\\$(.*?\\d)\\smedian',housing_text_section2)\n",
    "#figure 15\n",
    "med_hcost_own_wo_mortg = searchpattern('are.*\\$(.*?\\d)\\smedian\\shousing\\s',housing_text_section2)\n",
    "#figure 17\n",
    "hcost_as_perc_of_hincome_ownmortg= searchpattern('with\\smortgages.*\\s(\\d.*?%)\\scost',housing_text_section2)\n",
    "#figure18\n",
    "hcost_as_perc_of_hincome_womortg= searchpattern('This\\sanalysis.*\\s(\\d.*?%)\\scost',housing_text_section2)\n",
    "#figure 21 **\n",
    "med_real_estate_taxes =searchpattern('it\\shas\\s(.*?\\d)\\smedian\\sreal\\sestate\\s',housing_text_section2)\n",
    "#figure 24 biggie see below\n",
    "\n",
    "#figure 28 format 3.0\n",
    "family_members_per_hunit = searchpattern('it\\shas\\s(.*?\\d)\\sfamily\\smembers\\sper\\s',housing_text_section3)\n",
    "#figure 29 4.5\n",
    "median_numof_rooms = searchpattern('it\\shas\\s(.*?\\d)\\saverage\\snumber\\sof\\s',housing_text_section3)\n",
    "#figure 30\n",
    "median_year_house_built = searchpattern('it\\shas\\s(.*?\\d)\\syear\\sbuilt\\swhich\\s',housing_text_section3)\n",
    "#figure 36\n",
    "household_size_of_howners = searchpattern('it\\shas\\s(.*?\\d)\\shomeowner\\shousehold\\ssize\\s',housing_text_section3)\n",
    "#figure 37\n",
    "household_size_for_renters = searchpattern('it\\shas\\s(.*?\\d)\\srenter\\shousehold\\ssize\\s',housing_text_section3)\n",
    "#figure 40\n",
    "med_year_moved_in_for_owners = searchpattern('it\\shas\\s(.*?\\d)\\smedian\\syear\\sthat\\sa\\shome',housing_text_section3)\n",
    "#figure41\n",
    "med_year_renter_moved_in = searchpattern('it\\shas\\s(.*?\\d)\\smedian\\syear\\sthat\\sa\\srenter',housing_text_section3)"
   ]
  },
  {
   "cell_type": "code",
   "execution_count": null,
   "metadata": {},
   "outputs": [],
   "source": []
  },
  {
   "cell_type": "code",
   "execution_count": 349,
   "metadata": {
    "collapsed": true
   },
   "outputs": [
    {
     "data": {
      "text/html": [
       "<div>\n",
       "<style scoped>\n",
       "    .dataframe tbody tr th:only-of-type {\n",
       "        vertical-align: middle;\n",
       "    }\n",
       "\n",
       "    .dataframe tbody tr th {\n",
       "        vertical-align: top;\n",
       "    }\n",
       "\n",
       "    .dataframe thead th {\n",
       "        text-align: right;\n",
       "    }\n",
       "</style>\n",
       "<table border=\"1\" class=\"dataframe\">\n",
       "  <thead>\n",
       "    <tr style=\"text-align: right;\">\n",
       "      <th></th>\n",
       "      <th>0</th>\n",
       "    </tr>\n",
       "  </thead>\n",
       "  <tbody>\n",
       "    <tr>\n",
       "      <th>0</th>\n",
       "      <td>Agoura-Hills-city</td>\n",
       "    </tr>\n",
       "    <tr>\n",
       "      <th>1</th>\n",
       "      <td>Alameda-city</td>\n",
       "    </tr>\n",
       "    <tr>\n",
       "      <th>3</th>\n",
       "      <td>Albany-city</td>\n",
       "    </tr>\n",
       "    <tr>\n",
       "      <th>4</th>\n",
       "      <td>Alhambra-city</td>\n",
       "    </tr>\n",
       "    <tr>\n",
       "      <th>5</th>\n",
       "      <td>Aliso-Viejo-city</td>\n",
       "    </tr>\n",
       "    <tr>\n",
       "      <th>6</th>\n",
       "      <td>American-Canyon-city</td>\n",
       "    </tr>\n",
       "    <tr>\n",
       "      <th>7</th>\n",
       "      <td>Anaheim-city</td>\n",
       "    </tr>\n",
       "  </tbody>\n",
       "</table>\n",
       "</div>"
      ],
      "text/plain": [
       "                      0\n",
       "0     Agoura-Hills-city\n",
       "1          Alameda-city\n",
       "3           Albany-city\n",
       "4         Alhambra-city\n",
       "5      Aliso-Viejo-city\n",
       "6  American-Canyon-city\n",
       "7          Anaheim-city"
      ]
     },
     "execution_count": 349,
     "metadata": {},
     "output_type": "execute_result"
    }
   ],
   "source": [
    "#without_counties.str.extract(r'Housing\\/(.*)\\-CA',expand=True)"
   ]
  }
 ],
 "metadata": {
  "kernelspec": {
   "display_name": "Python 3",
   "language": "python",
   "name": "python3"
  },
  "language_info": {
   "codemirror_mode": {
    "name": "ipython",
    "version": 3
   },
   "file_extension": ".py",
   "mimetype": "text/x-python",
   "name": "python",
   "nbconvert_exporter": "python",
   "pygments_lexer": "ipython3",
   "version": "3.7.3"
  },
  "varInspector": {
   "cols": {
    "lenName": 16,
    "lenType": 16,
    "lenVar": 40
   },
   "kernels_config": {
    "python": {
     "delete_cmd_postfix": "",
     "delete_cmd_prefix": "del ",
     "library": "var_list.py",
     "varRefreshCmd": "print(var_dic_list())"
    },
    "r": {
     "delete_cmd_postfix": ") ",
     "delete_cmd_prefix": "rm(",
     "library": "var_list.r",
     "varRefreshCmd": "cat(var_dic_list()) "
    }
   },
   "types_to_exclude": [
    "module",
    "function",
    "builtin_function_or_method",
    "instance",
    "_Feature"
   ],
   "window_display": false
  }
 },
 "nbformat": 4,
 "nbformat_minor": 2
}
