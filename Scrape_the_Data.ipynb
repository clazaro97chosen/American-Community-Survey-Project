{
 "cells": [
  {
   "cell_type": "markdown",
   "metadata": {},
   "source": [
    "TownCharts.com will provide the initial set of variables.\n",
    "Other variables might be merged after ...\n",
    "\n",
    "First collect relevant variables from each figures that display consistent information from the housing tab \n",
    "\n",
    "And then automate since its a structured website for cities in california."
   ]
  },
  {
   "cell_type": "code",
   "execution_count": 21,
   "metadata": {},
   "outputs": [],
   "source": [
    "import requests\n",
    "import urllib\n",
    "import re\n",
    "from bs4 import BeautifulSoup\n",
    "from googlesearch import search\n",
    "import pandas as pd\n",
    "import numpy as np\n",
    "from fake_useragent import UserAgent\n",
    "import time\n",
    "import pickle"
   ]
  },
  {
   "cell_type": "code",
   "execution_count": 5,
   "metadata": {},
   "outputs": [],
   "source": [
    "cities_data = pd.read_csv('C:\\\\Users\\\\Crist\\\\Towncharts_Project\\\\California_Housing_Project\\\\datasets\\\\cal_cities_lat_long.csv')"
   ]
  },
  {
   "cell_type": "code",
   "execution_count": 6,
   "metadata": {},
   "outputs": [
    {
     "data": {
      "text/plain": [
       "458"
      ]
     },
     "execution_count": 6,
     "metadata": {},
     "output_type": "execute_result"
    }
   ],
   "source": [
    "cities_data.Name.size"
   ]
  },
  {
   "cell_type": "code",
   "execution_count": 7,
   "metadata": {},
   "outputs": [],
   "source": [
    "city_list = cities_data.Name.tolist()\n",
    "list_of_cities = []\n",
    "for city in city_list:\n",
    "    new = city.replace(' ','-')\n",
    "    list_of_cities.append(new)"
   ]
  },
  {
   "cell_type": "code",
   "execution_count": 8,
   "metadata": {
    "collapsed": true
   },
   "outputs": [
    {
     "data": {
      "text/plain": [
       "['Adelanto',\n",
       " 'Agoura-Hills',\n",
       " 'Alameda',\n",
       " 'Albany',\n",
       " 'Alhambra',\n",
       " 'Aliso-Viejo',\n",
       " 'Alturas',\n",
       " 'Amador-City',\n",
       " 'American-Canyon',\n",
       " 'Anaheim',\n",
       " 'Anderson',\n",
       " 'Angels',\n",
       " 'Antioch',\n",
       " 'Arcadia',\n",
       " 'Arcata',\n",
       " 'Arroyo-Grande',\n",
       " 'Artesia',\n",
       " 'Arvin',\n",
       " 'Atascadero',\n",
       " 'Atwater',\n",
       " 'Auburn',\n",
       " 'Avalon',\n",
       " 'Avenal',\n",
       " 'Azusa',\n",
       " 'Bakersfield',\n",
       " 'Baldwin-Park',\n",
       " 'Banning',\n",
       " 'Barstow',\n",
       " 'Beaumont',\n",
       " 'Bell-Gardens',\n",
       " 'Bellflower',\n",
       " 'Belmont',\n",
       " 'Belvedere',\n",
       " 'Berkeley',\n",
       " 'Beverly-Hills',\n",
       " 'Big-Bear-Lake',\n",
       " 'Biggs',\n",
       " 'Bishop',\n",
       " 'Blue-Lake',\n",
       " 'Blythe',\n",
       " 'Bradbury',\n",
       " 'Brawley',\n",
       " 'Brea',\n",
       " 'Brentwood',\n",
       " 'Brisbane',\n",
       " 'Buellton',\n",
       " 'Buena-Park',\n",
       " 'Burbank',\n",
       " 'Burlingame',\n",
       " 'Calabasas',\n",
       " 'Calexico',\n",
       " 'California-City',\n",
       " 'Calimesa',\n",
       " 'Calipatria',\n",
       " 'Calistoga',\n",
       " 'Camarillo',\n",
       " 'Campbell',\n",
       " 'Canyon-Lake',\n",
       " 'Capitola',\n",
       " 'Carlsbad',\n",
       " 'Carmel-By-the-Sea',\n",
       " 'Carpinteria',\n",
       " 'Carson',\n",
       " 'Cathedral-City',\n",
       " 'Ceres',\n",
       " 'Cerritos',\n",
       " 'Chico',\n",
       " 'Chino',\n",
       " 'Chino-Hills',\n",
       " 'Chowchilla',\n",
       " 'Chula-Vista',\n",
       " 'Citrus-Heights',\n",
       " 'Claremont',\n",
       " 'Clayton',\n",
       " 'Clearlake',\n",
       " 'Cloverdale',\n",
       " 'Clovis',\n",
       " 'Coachella',\n",
       " 'Coalinga',\n",
       " 'Colfax',\n",
       " 'Colton',\n",
       " 'Colusa',\n",
       " 'Commerce',\n",
       " 'Compton',\n",
       " 'Concord',\n",
       " 'Corcoran',\n",
       " 'Corning',\n",
       " 'Corona',\n",
       " 'Coronado',\n",
       " 'Costa-Mesa',\n",
       " 'Cotati',\n",
       " 'Covina',\n",
       " 'Crescent-City',\n",
       " 'Cudahy',\n",
       " 'Culver-City',\n",
       " 'Cupertino',\n",
       " 'Cypress',\n",
       " 'Daly-City',\n",
       " 'Dana-Point',\n",
       " 'Davis',\n",
       " 'Del-Mar',\n",
       " 'Del-Rey-Oaks',\n",
       " 'Delano',\n",
       " 'Desert-Hot-Springs',\n",
       " 'Diamond-Bar',\n",
       " 'Dinuba',\n",
       " 'Dixon',\n",
       " 'Dorris',\n",
       " 'Dos-Palos',\n",
       " 'Downey',\n",
       " 'Duarte',\n",
       " 'Dublin',\n",
       " 'Dunsmuir',\n",
       " 'East-Palo-Alto',\n",
       " 'Eastvale',\n",
       " 'El-Cajon',\n",
       " 'El-Centro',\n",
       " 'El-Cerrito',\n",
       " 'El-Monte',\n",
       " 'El-Segundo',\n",
       " 'Elk-Grove',\n",
       " 'Emeryville',\n",
       " 'Encinitas',\n",
       " 'Escalon',\n",
       " 'Escondido',\n",
       " 'Etna',\n",
       " 'Eureka',\n",
       " 'Exeter',\n",
       " 'Fairfield',\n",
       " 'Farmersville',\n",
       " 'Ferndale',\n",
       " 'Fillmore',\n",
       " 'Firebaugh',\n",
       " 'Folsom',\n",
       " 'Fontana',\n",
       " 'Fort-Bragg',\n",
       " 'Fort-Jones',\n",
       " 'Fortuna',\n",
       " 'Foster-City',\n",
       " 'Fountain-Valley',\n",
       " 'Fowler',\n",
       " 'Fremont',\n",
       " 'Fresno',\n",
       " 'Fullerton',\n",
       " 'Galt',\n",
       " 'Garden-Grove',\n",
       " 'Gardena',\n",
       " 'Gilroy',\n",
       " 'Glendale',\n",
       " 'Glendora',\n",
       " 'Goleta',\n",
       " 'Gonzales',\n",
       " 'Grand-Terrace',\n",
       " 'Grass-Valley',\n",
       " 'Greenfield',\n",
       " 'Gridley',\n",
       " 'Grover-Beach',\n",
       " 'Guadalupe',\n",
       " 'Gustine',\n",
       " 'Half-Moon-Bay',\n",
       " 'Hanford',\n",
       " 'Hawaiian-Gardens',\n",
       " 'Hawthorne',\n",
       " 'Hayward',\n",
       " 'Healdsburg',\n",
       " 'Hemet',\n",
       " 'Hercules',\n",
       " 'Hermosa-Beach',\n",
       " 'Hesperia',\n",
       " 'Hidden-Hills',\n",
       " 'Highland',\n",
       " 'Hollister',\n",
       " 'Holtville',\n",
       " 'Hughson',\n",
       " 'Huntington-Beach',\n",
       " 'Huntington-Park',\n",
       " 'Huron',\n",
       " 'Imperial',\n",
       " 'Imperial-Beach',\n",
       " 'Indian-Wells',\n",
       " 'Indio',\n",
       " 'Industry',\n",
       " 'Inglewood',\n",
       " 'Ione',\n",
       " 'Irvine',\n",
       " 'Irwindale',\n",
       " 'Isleton',\n",
       " 'Jackson',\n",
       " 'Jurupa-Valley',\n",
       " 'Kerman',\n",
       " 'King-City',\n",
       " 'Kingsburg',\n",
       " 'La-Cañada-Flintridge',\n",
       " 'La-Habra',\n",
       " 'La-Habra-Heights',\n",
       " 'La-Mesa',\n",
       " 'La-Mirada',\n",
       " 'La-Palma',\n",
       " 'La-Puente',\n",
       " 'La-Quinta',\n",
       " 'La-Verne',\n",
       " 'Lafayette',\n",
       " 'Laguna-Beach',\n",
       " 'Laguna-Hills',\n",
       " 'Laguna-Niguel',\n",
       " 'Laguna-Woods',\n",
       " 'Lake-Elsinore',\n",
       " 'Lake-Forest',\n",
       " 'Lakeport',\n",
       " 'Lakewood',\n",
       " 'Lancaster',\n",
       " 'Larkspur',\n",
       " 'Lathrop',\n",
       " 'Lawndale',\n",
       " 'Lemon-Grove',\n",
       " 'Lemoore',\n",
       " 'Lincoln',\n",
       " 'Lindsay',\n",
       " 'Live-Oak',\n",
       " 'Livermore',\n",
       " 'Livingston',\n",
       " 'Lodi',\n",
       " 'Loma-Linda',\n",
       " 'Lomita',\n",
       " 'Lompoc',\n",
       " 'Long-Beach',\n",
       " 'Los-Alamitos',\n",
       " 'Los-Altos',\n",
       " 'Los-Angeles',\n",
       " 'Los-Banos',\n",
       " 'Loyalton',\n",
       " 'Lynwood',\n",
       " 'Madera',\n",
       " 'Malibu',\n",
       " 'Manhattan-Beach',\n",
       " 'Manteca',\n",
       " 'Maricopa',\n",
       " 'Marina',\n",
       " 'Martinez',\n",
       " 'Marysville',\n",
       " 'Maywood',\n",
       " 'McFarland',\n",
       " 'Mendota',\n",
       " 'Menifee',\n",
       " 'Menlo-Park',\n",
       " 'Merced',\n",
       " 'Mill-Valley',\n",
       " 'Millbrae',\n",
       " 'Milpitas',\n",
       " 'Mission-Viejo',\n",
       " 'Modesto',\n",
       " 'Monrovia',\n",
       " 'Montague',\n",
       " 'Montclair',\n",
       " 'Monte-Sereno',\n",
       " 'Montebello',\n",
       " 'Monterey',\n",
       " 'Monterey-Park',\n",
       " 'Moorpark',\n",
       " 'Moreno-Valley',\n",
       " 'Morgan-Hill',\n",
       " 'Morro-Bay',\n",
       " 'Mount-Shasta',\n",
       " 'Mountain-View',\n",
       " 'Murrieta',\n",
       " 'Napa',\n",
       " 'National-City',\n",
       " 'Needles',\n",
       " 'Nevada-City',\n",
       " 'Newark',\n",
       " 'Newman',\n",
       " 'Newport-Beach',\n",
       " 'Norco',\n",
       " 'Norwalk',\n",
       " 'Novato',\n",
       " 'Oakdale',\n",
       " 'Oakland',\n",
       " 'Oakley',\n",
       " 'Oceanside',\n",
       " 'Ojai',\n",
       " 'Ontario',\n",
       " 'Orange',\n",
       " 'Orange-Cove',\n",
       " 'Orinda',\n",
       " 'Orland',\n",
       " 'Oroville',\n",
       " 'Oxnard',\n",
       " 'Pacific-Grove',\n",
       " 'Pacifica',\n",
       " 'Palm-Desert',\n",
       " 'Palm-Springs',\n",
       " 'Palmdale',\n",
       " 'Palo-Alto',\n",
       " 'Palos-Verdes-Estates',\n",
       " 'Paramount',\n",
       " 'Parlier',\n",
       " 'Pasadena',\n",
       " 'Paso-Robles',\n",
       " 'Patterson',\n",
       " 'Perris',\n",
       " 'Petaluma',\n",
       " 'Pico-Rivera',\n",
       " 'Piedmont',\n",
       " 'Pinole',\n",
       " 'Pismo-Beach',\n",
       " 'Pittsburg',\n",
       " 'Placentia',\n",
       " 'Placerville',\n",
       " 'Pleasant-Hill',\n",
       " 'Pleasanton',\n",
       " 'Plymouth',\n",
       " 'Point-Arena',\n",
       " 'Pomona',\n",
       " 'Port-Hueneme',\n",
       " 'Porterville',\n",
       " 'Portola',\n",
       " 'Poway',\n",
       " 'Rancho-Cordova',\n",
       " 'Rancho-Cucamonga',\n",
       " 'Rancho-Mirage',\n",
       " 'Rancho-Palos-Verdes',\n",
       " 'Rancho-Santa-Margarita',\n",
       " 'Red-Bluff',\n",
       " 'Redding',\n",
       " 'Redlands',\n",
       " 'Redondo-Beach',\n",
       " 'Redwood-City',\n",
       " 'Reedley',\n",
       " 'Rialto',\n",
       " 'Richmond',\n",
       " 'Ridgecrest',\n",
       " 'Rio-Dell',\n",
       " 'Rio-Vista',\n",
       " 'Ripon',\n",
       " 'Riverbank',\n",
       " 'Riverside',\n",
       " 'Rocklin',\n",
       " 'Rohnert-Park',\n",
       " 'Rolling-Hills',\n",
       " 'Rolling-Hills-Estates',\n",
       " 'Rosemead',\n",
       " 'Roseville',\n",
       " 'Sacramento',\n",
       " 'Salinas',\n",
       " 'San-Bernardino',\n",
       " 'San-Bruno',\n",
       " 'San-Carlos',\n",
       " 'San-Clemente',\n",
       " 'San-Diego',\n",
       " 'San-Dimas',\n",
       " 'San-Fernando',\n",
       " 'San-Francisco',\n",
       " 'San-Gabriel',\n",
       " 'San-Jacinto',\n",
       " 'San-Joaquin',\n",
       " 'San-Jose',\n",
       " 'San-Juan-Bautista',\n",
       " 'San-Juan-Capistrano',\n",
       " 'San-Leandro',\n",
       " 'San-Luis-Obispo',\n",
       " 'San-Marcos',\n",
       " 'San-Marino',\n",
       " 'San-Mateo',\n",
       " 'San-Pablo',\n",
       " 'San-Rafael',\n",
       " 'San-Ramon',\n",
       " 'Sand-City',\n",
       " 'Sanger',\n",
       " 'Santa-Ana',\n",
       " 'Santa-Barbara',\n",
       " 'Santa-Clara',\n",
       " 'Santa-Clarita',\n",
       " 'Santa-Cruz',\n",
       " 'Santa-Fe-Springs',\n",
       " 'Santa-Maria',\n",
       " 'Santa-Monica',\n",
       " 'Santa-Paula',\n",
       " 'Santa-Rosa',\n",
       " 'Santee',\n",
       " 'Saratoga',\n",
       " 'Sausalito',\n",
       " 'Scotts-Valley',\n",
       " 'Seal-Beach',\n",
       " 'Seaside',\n",
       " 'Sebastopol',\n",
       " 'Selma',\n",
       " 'Shafter',\n",
       " 'Shasta-Lake',\n",
       " 'Sierra-Madre',\n",
       " 'Signal-Hill',\n",
       " 'Simi-Valley',\n",
       " 'Solana-Beach',\n",
       " 'Soledad',\n",
       " 'Solvang',\n",
       " 'Sonoma',\n",
       " 'Sonora',\n",
       " 'South-El-Monte',\n",
       " 'South-Gate',\n",
       " 'South-Lake-Tahoe',\n",
       " 'South-Pasadena',\n",
       " 'South-San-Francisco',\n",
       " 'St.-Helena',\n",
       " 'Stanton',\n",
       " 'Stockton',\n",
       " 'Suisun-City',\n",
       " 'Sunnyvale',\n",
       " 'Susanville',\n",
       " 'Sutter-Creek',\n",
       " 'Taft',\n",
       " 'Tehachapi',\n",
       " 'Tehama',\n",
       " 'Temecula',\n",
       " 'Temple-City',\n",
       " 'Thousand-Oaks',\n",
       " 'Torrance',\n",
       " 'Tracy',\n",
       " 'Trinidad',\n",
       " 'Tulare',\n",
       " 'Tulelake',\n",
       " 'Turlock',\n",
       " 'Tustin',\n",
       " 'Twentynine-Palms',\n",
       " 'Ukiah',\n",
       " 'Union-City',\n",
       " 'Upland',\n",
       " 'Vacaville',\n",
       " 'Vallejo',\n",
       " 'Ventura',\n",
       " 'Vernon',\n",
       " 'Victorville',\n",
       " 'Villa-Park',\n",
       " 'Visalia',\n",
       " 'Vista',\n",
       " 'Walnut',\n",
       " 'Walnut-Creek',\n",
       " 'Wasco',\n",
       " 'Waterford',\n",
       " 'Watsonville',\n",
       " 'Weed',\n",
       " 'West-Covina',\n",
       " 'West-Hollywood',\n",
       " 'West-Sacramento',\n",
       " 'Westlake-Village',\n",
       " 'Westminster',\n",
       " 'Westmorland',\n",
       " 'Wheatland',\n",
       " 'Whittier',\n",
       " 'Wildomar',\n",
       " 'Williams',\n",
       " 'Willits',\n",
       " 'Willows',\n",
       " 'Winters',\n",
       " 'Woodlake',\n",
       " 'Woodland',\n",
       " 'Yorba-Linda',\n",
       " 'Yreka',\n",
       " 'Yuba-City',\n",
       " 'Yucaipa']"
      ]
     },
     "execution_count": 8,
     "metadata": {},
     "output_type": "execute_result"
    }
   ],
   "source": [
    "list_of_cities"
   ]
  },
  {
   "cell_type": "code",
   "execution_count": 9,
   "metadata": {},
   "outputs": [],
   "source": [
    "clean_links = []\n",
    "missing_cities = []"
   ]
  },
  {
   "cell_type": "code",
   "execution_count": null,
   "metadata": {},
   "outputs": [],
   "source": [
    "for city in list_of_cities:\n",
    "    #only get links for cities not in clean_links\n",
    "        backup_url = \"https://www.towncharts.com/California/Housing/{}-city-CA-Housing-data.html\".format(city)\n",
    "        query  = \"'https://www.towncharts.com/California/Housing/{}-city-CA-Housing-data.html'\".format(city)\n",
    "        query = urllib.parse.quote_plus(query) # Format into URL encoding\n",
    "        number_result = 3\n",
    "        \n",
    "        ua = UserAgent()\n",
    "        \n",
    "        google_url = \"https://www.google.com/search?q=\" + query + \"&num=\" + str(number_result)\n",
    "        t0 = time.time()\n",
    "        response = requests.get(google_url, {\"User-Agent\": ua.random})\n",
    "        response_delay = time.time() - t0\n",
    "        time.sleep(10*response_delay)\n",
    "        soup = BeautifulSoup(response.text, \"html.parser\")\n",
    "        \n",
    "        result_div = soup.find_all('div', attrs = {'class': 'ZINbbc'})\n",
    "        \n",
    "        links = []\n",
    "        for r in result_div:\n",
    "            \n",
    "            try:\n",
    "                link = r.find('a', href = True)\n",
    "\n",
    "                if link != '':\n",
    "                    links.append(link['href'])\n",
    "            except:\n",
    "                continue\n",
    "        flag = True\n",
    "        for i, l in enumerate(links):\n",
    "            clean = re.search('\\/url\\?q\\=(.*)\\&sa',l)\n",
    "            if clean is None:\n",
    "                continue\n",
    "            elif city in clean.group(1):\n",
    "                clean_links.append(clean.group(1))\n",
    "                flag = False\n",
    "        if flag:\n",
    "            missing_cities.append(city)\n",
    "            clean_links.append(backup_url)"
   ]
  },
  {
   "cell_type": "markdown",
   "metadata": {},
   "source": [
    "Not perfect so we will:\n",
    "    *remove identical strings\n",
    "    *remove strings that have the word county in them\n",
    "    *track http error 404 if our self made url fails"
   ]
  },
  {
   "cell_type": "markdown",
   "metadata": {},
   "source": [
    "Pickle the output"
   ]
  },
  {
   "cell_type": "code",
   "execution_count": null,
   "metadata": {},
   "outputs": [],
   "source": [
    "# outfile = open('my_clean_links','wb')\n",
    "# pickle.dump(clean_links,outfile)\n",
    "# outfile.close()\n",
    "\n",
    "# outfile = open('unfound_urls','wb')\n",
    "# pickle.dump(missing_cities,outfile)\n",
    "# outfile.close()"
   ]
  },
  {
   "cell_type": "markdown",
   "metadata": {},
   "source": [
    "Load the the clean_links"
   ]
  },
  {
   "cell_type": "code",
   "execution_count": 8,
   "metadata": {},
   "outputs": [],
   "source": [
    "\n",
    "# infile = open('my_clean_links','rb')\n",
    "# clean_links = pickle.load(infile)\n",
    "# infile.close()\n",
    "\n",
    "# infile = open('unfound_urls','rb')\n",
    "# unfound_urls = pickle.load(infile)\n",
    "# infile.close()"
   ]
  },
  {
   "cell_type": "code",
   "execution_count": 9,
   "metadata": {},
   "outputs": [],
   "source": [
    "clean_links = pd.Series(clean_links)"
   ]
  },
  {
   "cell_type": "code",
   "execution_count": 10,
   "metadata": {},
   "outputs": [],
   "source": [
    "# #remove county results\n",
    "# without_counties = pd.Series(clean_links)\n",
    "# without_counties = without_counties.mask(pd.Series(clean_links).str.contains('County'))\n",
    "# without_counties = without_counties.dropna()"
   ]
  },
  {
   "cell_type": "code",
   "execution_count": 11,
   "metadata": {},
   "outputs": [],
   "source": [
    "#delete duplicates\n",
    "city_urls = clean_links.drop_duplicates()"
   ]
  },
  {
   "cell_type": "code",
   "execution_count": 12,
   "metadata": {},
   "outputs": [],
   "source": [
    "#need to make sure to reset the indexes\n",
    "city_urls = city_urls.reset_index(drop=True)"
   ]
  },
  {
   "cell_type": "markdown",
   "metadata": {},
   "source": [
    "Housing tab integrity check"
   ]
  },
  {
   "cell_type": "code",
   "execution_count": 13,
   "metadata": {},
   "outputs": [],
   "source": [
    "indexes_to_replace = []"
   ]
  },
  {
   "cell_type": "code",
   "execution_count": 14,
   "metadata": {
    "scrolled": true
   },
   "outputs": [
    {
     "name": "stdout",
     "output_type": "stream",
     "text": [
      "Economy\n",
      "Economy\n",
      "Demographics\n",
      "Economy\n"
     ]
    }
   ],
   "source": [
    "\n",
    "for i,v in enumerate(city_urls):\n",
    "    v = pd.Series(v)\n",
    "    check = v.str.extract('\\/California\\/(.*?)\\/',expand=False)\n",
    "    if 'Housing' not in check[0]:\n",
    "         print(check[0])\n",
    "         indexes_to_replace.append(i)\n"
   ]
  },
  {
   "cell_type": "code",
   "execution_count": 15,
   "metadata": {},
   "outputs": [
    {
     "data": {
      "text/plain": [
       "[22, 43, 74, 77]"
      ]
     },
     "execution_count": 15,
     "metadata": {},
     "output_type": "execute_result"
    }
   ],
   "source": [
    "indexes_to_replace"
   ]
  },
  {
   "cell_type": "markdown",
   "metadata": {},
   "source": [
    "Consistent format with city not CDP or CDD"
   ]
  },
  {
   "cell_type": "code",
   "execution_count": 16,
   "metadata": {},
   "outputs": [],
   "source": [
    "for i,v in enumerate(city_urls):\n",
    "    v=pd.Series(v)\n",
    "    check = re.findall('City',v[0])\n",
    "    check2 = re.findall('city',v[0])\n",
    "    if ( (check == []) & (check2 == [])):\n",
    "        indexes_to_replace.append(i)"
   ]
  },
  {
   "cell_type": "code",
   "execution_count": 17,
   "metadata": {
    "scrolled": true
   },
   "outputs": [
    {
     "data": {
      "text/plain": [
       "[22, 43, 74, 77, 3, 29, 40, 51, 67, 73, 85, 90]"
      ]
     },
     "execution_count": 17,
     "metadata": {},
     "output_type": "execute_result"
    }
   ],
   "source": [
    "indexes_to_replace"
   ]
  },
  {
   "cell_type": "markdown",
   "metadata": {},
   "source": [
    "**scratch work**"
   ]
  },
  {
   "cell_type": "code",
   "execution_count": 18,
   "metadata": {},
   "outputs": [],
   "source": [
    "# unintended_urls = pd.Series()\n",
    "# for i in indexes_to_replace:\n",
    "#     unintended_urls = unintended_urls.append( pd.Series([city_urls[i]]),ignore_index=True )\n",
    "# for i in unintended_urls:\n",
    "#     print(i)\n",
    "# len(unintended_urls)"
   ]
  },
  {
   "cell_type": "code",
   "execution_count": 19,
   "metadata": {},
   "outputs": [],
   "source": [
    "# appropriate_names = []\n",
    "# for city in list_of_cities:\n",
    "#     if not unintended_urls[unintended_urls.str.contains(city)].empty:\n",
    "#         appropriate_names.append(city)\n",
    "# appropriate_names"
   ]
  },
  {
   "cell_type": "code",
   "execution_count": 20,
   "metadata": {
    "scrolled": false
   },
   "outputs": [],
   "source": [
    "# fix_cities = []\n",
    "# mycount = 0\n",
    "# while mycount != len(unintended_urls):\n",
    "#     for i in unintended_urls:\n",
    "#         for l in appropriate_names:\n",
    "#             if l in i:\n",
    "#                 fix_cities.append(l)\n",
    "                \n",
    "#                 mycount +=1\n",
    "# fix_cities"
   ]
  },
  {
   "cell_type": "code",
   "execution_count": 21,
   "metadata": {},
   "outputs": [],
   "source": [
    "# to_fix = pd.Series(fix_cities,index = indexes_to_replace)\n",
    "# to_fix"
   ]
  },
  {
   "cell_type": "code",
   "execution_count": 22,
   "metadata": {},
   "outputs": [],
   "source": [
    "# for i in indexes_to_replace:\n",
    "#     v = pd.Series(city_urls[i])\n",
    "#     check = v.str.extract(r'nia\\/.*?\\/(.*?)-')\n",
    "#     print(check)\n",
    "# take the indexes out add backup url only \n",
    "# for i in list:\n",
    "#     city_urls.str.contains('name')"
   ]
  },
  {
   "cell_type": "markdown",
   "metadata": {},
   "source": [
    "**scratch work done**"
   ]
  },
  {
   "cell_type": "markdown",
   "metadata": {},
   "source": [
    "Going to find which cities google was not able to find a suitable url.\n",
    "In effect gathering the city names and indexes so we may use the backup url in place of the current value\n",
    "(this could be implemented in the gathering of results as well)\n"
   ]
  },
  {
   "cell_type": "code",
   "execution_count": 23,
   "metadata": {},
   "outputs": [],
   "source": [
    "#once we take them out \n",
    "incomplete_urls = city_urls.drop(labels = indexes_to_replace)"
   ]
  },
  {
   "cell_type": "code",
   "execution_count": 24,
   "metadata": {
    "scrolled": true
   },
   "outputs": [
    {
     "data": {
      "text/plain": [
       "['Avalon', 'Chowchilla', 'Coachella']"
      ]
     },
     "execution_count": 24,
     "metadata": {},
     "output_type": "execute_result"
    }
   ],
   "source": [
    "cities_to_add = []\n",
    "for city in list_of_cities:\n",
    "    if incomplete_urls[incomplete_urls.str.contains(city)].empty:\n",
    "        cities_to_add.append(city)\n",
    "cities_to_add"
   ]
  },
  {
   "cell_type": "code",
   "execution_count": 25,
   "metadata": {},
   "outputs": [
    {
     "data": {
      "text/plain": [
       "[22, 77, 85]"
      ]
     },
     "execution_count": 25,
     "metadata": {},
     "output_type": "execute_result"
    }
   ],
   "source": [
    "fill_indexes =[]\n",
    "for city in cities_to_add:\n",
    "    fill_indexes.append(city_urls[city_urls.str.contains(city)].index[0])\n",
    "fill_indexes"
   ]
  },
  {
   "cell_type": "code",
   "execution_count": 26,
   "metadata": {},
   "outputs": [],
   "source": [
    "city_urls = city_urls.drop(labels = indexes_to_replace)"
   ]
  },
  {
   "cell_type": "markdown",
   "metadata": {},
   "source": [
    "Actually take them out add them where they were and then reset index\n",
    "<br>\n",
    "can add them where they were before (22,77,85) with our backup url\n",
    "anywhere but since its just three we can\n",
    "\n",
    "Note:city_urls indexes have not been reset\n"
   ]
  },
  {
   "cell_type": "code",
   "execution_count": 27,
   "metadata": {},
   "outputs": [
    {
     "data": {
      "text/plain": [
       "22        Avalon\n",
       "77    Chowchilla\n",
       "85     Coachella\n",
       "dtype: object"
      ]
     },
     "execution_count": 27,
     "metadata": {},
     "output_type": "execute_result"
    }
   ],
   "source": [
    "cities_to_fix = pd.Series(cities_to_add,index = fill_indexes)\n",
    "cities_to_fix"
   ]
  },
  {
   "cell_type": "code",
   "execution_count": 28,
   "metadata": {
    "scrolled": true
   },
   "outputs": [],
   "source": [
    "for i,v in cities_to_fix.items():\n",
    "    city_urls = city_urls.append( pd.Series([\"https://www.towncharts.com/California/Housing/{}-city-CA-Housing-data.html\".format(v)],index = [i]) )"
   ]
  },
  {
   "cell_type": "code",
   "execution_count": 29,
   "metadata": {},
   "outputs": [
    {
     "data": {
      "text/plain": [
       "458"
      ]
     },
     "execution_count": 29,
     "metadata": {},
     "output_type": "execute_result"
    }
   ],
   "source": [
    "city_urls.reset_index(inplace= True,drop=True)\n",
    "len(city_urls)"
   ]
  },
  {
   "cell_type": "code",
   "execution_count": 197,
   "metadata": {},
   "outputs": [
    {
     "data": {
      "text/plain": [
       "458"
      ]
     },
     "execution_count": 197,
     "metadata": {},
     "output_type": "execute_result"
    }
   ],
   "source": [
    "#double check\n",
    "# #delete duplicates if accidentally created any\n",
    "# searchurls = cop_city_urls.drop_duplicates()\n",
    "# len(searchurls)"
   ]
  },
  {
   "cell_type": "markdown",
   "metadata": {},
   "source": [
    "Now we actually scrape the desired attributes:\n",
    "<br>\n",
    "First up is the housing the variables. Out of the 44 figures 18(3,9,13,16,19,20,22,23,25,26,27,31,32,33,34,35,38,39) will not be included due to incosistencies. Some cities might not have the figure information and an NA will be put in place. \n",
    "\n",
    "Note figure 24:will have several variables"
   ]
  },
  {
   "cell_type": "markdown",
   "metadata": {},
   "source": [
    "Data dictionary: provided by Towncharts.com\n",
    "\n",
    "* city_name: Name of city\n",
    "* housing_units:Total number of housing units in the area\n",
    "* housing_density : The number of housing units per square mile in the area\n",
    "* change_hunits: Change in housing units from 2010 to 2017\n",
    "* percent_of_rent_to_total: The percent of all occupied housing units that are rental housing units (%)\n",
    "* owned_homes: The percent of all occupied housing units that are owned housing units (%)\n",
    "* med_homeval: Median home value i.e how much property is worth( house and lot, mobile homes and lot, or condominium unit) if it was for sale \\\\$\n",
    "\n",
    "* med_rental_rate: the median monthly rental amount for a rental unit in this area \\\\$\n",
    "\n",
    "* med_owner_cost: The monthly cost of housing for property owners including mortgage payment, taxes, insurance,and utilities.\\\\$\n",
    "\n",
    "* med_own_cost_aspercentof_income: The monthly owner cost as a percent of the household income. This measure is an excellent way to understand how affordable housing is for owners in an area (%)\n",
    "* med_hval_aspercentof_medearn: How much the property is worth(house and lot, mobile home and lot, or condominium unit) if it was for sale as a percent of the median earnings for a worker in the area (%)\n",
    "* med_hcost_ownmortg: Median housing cost for homeowners with a mortgage(including the cost of the mortgage or other debt) \\\\$\n",
    "* med_hcost_own_wo_mortg: Median housing cost for homeowners who do not have a mortgage. This isolates the cost of ownership seperate from the financing cost of debt \\\\$\n",
    "* hcost_aspercentof_hincome_ownmortg: Homeowners with a mortgage showing total cost (including mortgage debt) as a percent of household income (%)\n",
    "* hcost_as_perc_of_hincome_womortg: Homeowners without a mortgage showing total cost as a percent of household income.\n",
    "*med_real_estate_taxes: The median real estate taxes paid by owners of homes in the area \\\\$\n",
    "* family_members_per_hunit: The average size of related families members who live together in a housing unit. \n",
    "* median_num_ofrooms: The average number of rooms of total rooms for housing units in the area\n",
    "* median_year_house_built: The average year the housing units were built in the area. This indicates the average age of housing units in the area.\n",
    "* household_size_of_howners: For people who own their homes how many people on average are living in them whether they are part of family or related or not. \n",
    "* household_size_for_renters: The average size of a household for people who are renting.\n",
    "* med_year_moved_in_for_owners: The median year that a home owner moved into their home\n",
    "* med_year_renter_moved_in: The median year that a renter moved into their home \n",
    "* The following varialbes are monthly rental rates by size of  Rental in Bedrooms as a percentage\n",
    "studio_1000_1499,studio_1500_more,\n",
    "studio_750_999,\n",
    "onebed_1000_1499,\n",
    "onebed_1500_more,\n",
    "onebed_750_999,\n",
    "twobed_1000_1499,\n",
    "twobed_1500_more,\n",
    "twobed_750_999,\n",
    "threebed_1000_1499,\n",
    "threebed_1500_more,\n",
    "threebed_750_999"
   ]
  },
  {
   "cell_type": "code",
   "execution_count": 31,
   "metadata": {},
   "outputs": [],
   "source": [
    "results = []\n",
    "not_found = []"
   ]
  },
  {
   "cell_type": "code",
   "execution_count": 16,
   "metadata": {},
   "outputs": [],
   "source": [
    "def get_text_section(target_section,mysoup):\n",
    "    \"\"\"\n",
    "    target_section:\n",
    "    returns: \n",
    "    \"\"\"\n",
    "    found = mysoup.find_all('div',attrs = {'class':target_section})\n",
    "    validsection = found[0]\n",
    "    text_section = validsection.find_all(text=True)\n",
    "    return text_section"
   ]
  },
  {
   "cell_type": "code",
   "execution_count": 17,
   "metadata": {},
   "outputs": [],
   "source": [
    "def searchpattern(pattern,resultset):\n",
    "    '''\n",
    "    pattern:regex pattern\n",
    "    resultset: A beautiful soup result set\n",
    "    output housing variable of interest type string\n",
    "    '''\n",
    "    result = [i for i in resultset if re.search(pattern,i)]\n",
    "    if result == []:\n",
    "        result  = None\n",
    "    elif result !=[]:\n",
    "        result = (re.findall(pattern,result[0]))[0]\n",
    "    return result"
   ]
  },
  {
   "cell_type": "code",
   "execution_count": 18,
   "metadata": {},
   "outputs": [],
   "source": [
    "def refinestring(desiredreplacement,yourstring):\n",
    "    \"\"\"\n",
    "    yourstring: a string which you extract only digits and decimals\n",
    "    desiredreplacement: a dictonary definining your replacement values\n",
    "    \n",
    "    returns: your string with the desired replacements you request \n",
    "    \"\"\"\n",
    "    if yourstring  == None:\n",
    "        return None\n",
    "    elif yourstring != None:\n",
    "        rep = dict((re.escape(k),v) for k,v in desiredreplacement.items())\n",
    "        pattern =re.compile(\"|\".join(rep.keys()))\n",
    "\n",
    "        return float(pattern.sub(lambda m:rep[re.escape(m.group(0))],yourstring))"
   ]
  },
  {
   "cell_type": "code",
   "execution_count": 35,
   "metadata": {},
   "outputs": [],
   "source": [
    "for aurl in city_urls:\n",
    "    ua = UserAgent()\n",
    "    t0 = time.time()\n",
    "    response = requests.get(aurl,{\"User-Agent\": ua.random})\n",
    "    \n",
    "    if response.status_code != 200:\n",
    "        not_found.append(aurl)\n",
    "        continue\n",
    "        \n",
    "    response_delay = time.time() - t0\n",
    "    time.sleep(10*response_delay)\n",
    "    soup = BeautifulSoup(response.text,'html.parser')\n",
    "    \n",
    "    \n",
    "    housing_text_section1 = get_text_section('section1',soup)\n",
    "    housing_text_section2 = get_text_section('section2',soup)\n",
    "    housing_text_section3 = get_text_section('section4',soup)\n",
    "    \n",
    "    #gathering variables\n",
    "    if re.search('(.*)\\sCalifornia',housing_text_section1[0]) == None:\n",
    "        city_name = (pd.Series(aurl)).str.extract(r'Housing\\/(.*?)-CA')\n",
    "    elif re.search('(.*)\\sCalifornia',housing_text_section1[0]) != None:\n",
    "        city_name = re.search('(.*)\\sCalifornia',housing_text_section1[0]).group(1)\n",
    "\n",
    "    #for variables need to remove everything but numbers\n",
    "    #figure1 \n",
    "    housing_units = searchpattern('it\\shas\\s(\\d.*?\\d)\\shousing\\sunits\\s',housing_text_section1)\n",
    "    housing_units = refinestring({\"$\":\"\",\",\":\"\",\"%\":\"\"},housing_units)\n",
    "\n",
    "\n",
    "    #figure2 \n",
    "    housing_density = searchpattern('it\\shas\\s(\\d.*?\\d)\\shousing\\sdensity\\s',housing_text_section1)\n",
    "    housing_density = refinestring({\"$\":\"\",\",\":\"\",\"%\":\"\"},housing_density)\n",
    "\n",
    "    #figure4 \n",
    "    change_hunits = searchpattern('it\\shas\\s(.*?%)\\schange\\sin\\s',housing_text_section1)\n",
    "    change_hunits = refinestring({\"$\":\"\",\",\":\"\",\"%\":\"\"},change_hunits)\n",
    "\n",
    "    #figure5\n",
    "    percent_of_rent_to_total = searchpattern('it\\shas\\s(\\d.*?%)\\sRenter\\sPercent\\s',housing_text_section1)\n",
    "    percent_of_rent_to_total = refinestring({\"$\":\"\",\",\":\"\",\"%\":\"\"},percent_of_rent_to_total)\n",
    "\n",
    "\n",
    "    #figure 6\n",
    "    owned_homes = searchpattern('it\\shas\\s(\\d.*?%)\\sOwner\\sPercent\\s',housing_text_section1)\n",
    "    owned_homes = refinestring({\"$\":\"\",\",\":\"\",\"%\":\"\"},owned_homes)\n",
    "\n",
    "    #figure 7 median home value (unique character  = $-numbers-commas)\n",
    "    med_homeval = searchpattern('it\\shas\\s(.*?\\d)\\smedian\\shome\\svalue\\s',housing_text_section2)\n",
    "    med_homeval = refinestring({\"$\":\"\",\",\":\"\",\"%\":\"\"},med_homeval)\n",
    "\n",
    "    #figure 8 median rental rate\n",
    "    med_rental_rate = searchpattern('it\\shas\\s(.*?\\d)\\srental\\srates\\s',housing_text_section2)\n",
    "    med_rental_rate = refinestring({\"$\":\"\",\",\":\"\",\"%\":\"\"},med_rental_rate)\n",
    "\n",
    "    #figure 10 median owner costs\n",
    "    med_owner_cost = searchpattern(\"it\\shas\\s(.*?\\d)\\smedian\\sownership\\scost\\s\",housing_text_section2)\n",
    "    med_owner_cost = refinestring({\"$\":\"\",\",\":\"\",\"%\":\"\"},med_owner_cost)\n",
    "\n",
    "    #figure 11\n",
    "    med_own_cost_aspercentof_income = searchpattern('median\\sowner\\scost\\sas\\sa\\spercent\\sof\\stotal\\shousehold\\sincome\\sand\\sit\\shas\\s(\\d.*?%)',housing_text_section2)\n",
    "    med_own_cost_aspercentof_income = refinestring({\"$\":\"\",\",\":\"\",\"%\":\"\"},med_own_cost_aspercentof_income)\n",
    "\n",
    "\n",
    "    #figure 12 median home value as a percent of a median workers earnings\n",
    "    med_hval_aspercentof_medearn = searchpattern(\"it\\shas\\s(\\d.*?%)\\smedian\\shome\\svalue\\sas\\s\",housing_text_section2)\n",
    "    med_hval_aspercentof_medearn = refinestring({\"$\":\"\",\",\":\"\",\"%\":\"\"},med_hval_aspercentof_medearn)\n",
    "\n",
    "\n",
    "    #figure14\n",
    "    med_hcost_ownmortg = searchpattern('depicts.*\\$(.*?\\d)\\smedian',housing_text_section2)\n",
    "    med_hcost_ownmortg = refinestring({\"$\":\"\",\",\":\"\",\"%\":\"\"},med_hcost_ownmortg)\n",
    "\n",
    "\n",
    "    #figure 15\n",
    "    med_hcost_own_wo_mortg = searchpattern('are.*\\$(.*?\\d)\\smedian\\shousing\\s',housing_text_section2)\n",
    "    med_hcost_own_wo_mortg = refinestring({\"$\":\"\",\",\":\"\",\"%\":\"\"},med_hcost_own_wo_mortg)\n",
    "\n",
    "    #figure 17\n",
    "    hcost_aspercentof_hincome_ownmortg= refinestring({\"$\":\"\",\",\":\"\",\"%\":\"\"},searchpattern('with\\smortgages.*\\s(\\d.*?%)\\scost',housing_text_section2))\n",
    "\n",
    "\n",
    "\n",
    "    #figure18\n",
    "    hcost_as_perc_of_hincome_womortg = refinestring({\"$\":\"\",\",\":\"\",\"%\":\"\"},searchpattern('This\\sanalysis.*\\s(\\d.*?%)\\scost',housing_text_section2))\n",
    "\n",
    "\n",
    "    #figure 21 **\n",
    "    med_real_estate_taxes = refinestring({\"$\":\"\",\",\":\"\",\"%\":\"\"},searchpattern('it\\shas\\s(.*?\\d)\\smedian\\sreal\\sestate\\s',housing_text_section2))\n",
    "    #figure 24 biggie see below\n",
    "\n",
    "    #figure 28 format 3.0\n",
    "    family_members_per_hunit = refinestring({\"$\":\"\",\",\":\"\",\"%\":\"\"},searchpattern('it\\shas\\s(.*?\\d)\\sfamily\\smembers\\sper\\s',housing_text_section3))\n",
    "\n",
    "\n",
    "    #figure 29 4.5\n",
    "    median_num_ofrooms = refinestring({\"$\":\"\",\",\":\"\",\"%\":\"\"},searchpattern('it\\shas\\s(.*?\\d)\\saverage\\snumber\\sof\\s',housing_text_section3))\n",
    "\n",
    "\n",
    "    #figure 30\n",
    "    median_year_house_built = refinestring({\"$\":\"\",\",\":\"\",\"%\":\"\"},searchpattern('it\\shas\\s(.*?\\d)\\syear\\sbuilt\\swhich\\s',housing_text_section3))\n",
    "\n",
    "\n",
    "    #figure 36\n",
    "    household_size_of_howners = refinestring({\"$\":\"\",\",\":\"\",\"%\":\"\"},searchpattern('it\\shas\\s(.*?\\d)\\shomeowner\\shousehold\\ssize\\s',housing_text_section3))\n",
    "\n",
    "\n",
    "    #figure 37\n",
    "    household_size_for_renters = refinestring({\"$\":\"\",\",\":\"\",\"%\":\"\"},searchpattern('it\\shas\\s(.*?\\d)\\srenter\\shousehold\\ssize\\s',housing_text_section3))\n",
    "    #figure 40\n",
    "    med_year_moved_in_for_owners = refinestring({\"$\":\"\",\",\":\"\",\"%\":\"\"},searchpattern('it\\shas\\s(.*?\\d)\\smedian\\syear\\sthat\\sa\\shome',housing_text_section3))\n",
    "    #figure41\n",
    "    med_year_renter_moved_in = refinestring({\"$\":\"\",\",\":\"\",\"%\":\"\"},searchpattern('it\\shas\\s(.*?\\d)\\smedian\\syear\\sthat\\sa\\srenter',housing_text_section3))\n",
    "    \n",
    "    #scraping javascript table\n",
    "    \n",
    "    javascript = soup.find_all('script',attrs = {'type':'text/javascript'})\n",
    "    need = javascript[4]\n",
    "    needtext = str(need.find_all(text=True))\n",
    "    if re.search('data24\\s\\=\\sgoogle\\.visualization\\.arrayToDataTable\\((.*?)\\);',needtext) == None:\n",
    "       \n",
    "        studio_1000_1499 = None\n",
    "        onebed_1000_1499 = None\n",
    "        twobed_1000_1499 = None\n",
    "        threebed_1000_1499 = None\n",
    "        studio_1500_more = None\n",
    "        onebed_1500_more = None\n",
    "        twobed_1500_more = None\n",
    "        threebed_1500_more = None\n",
    "        studio_750_999 = None\n",
    "        onebed_750_999 = None\n",
    "        twobed_750_999 = None\n",
    "        threebed_750_999 = None\n",
    "    elif re.search('data24\\s\\=\\sgoogle\\.visualization\\.arrayToDataTable\\((.*?)\\);',needtext) != None:\n",
    "        \n",
    "        fig24 = re.search('data24\\s\\=\\sgoogle\\.visualization\\.arrayToDataTable\\((.*?)\\);',needtext).group(1)\n",
    "        list_strs = re.findall(r'\\[(.*?)\\]',fig24)\n",
    "        #gathering the variables in the table\n",
    "        check1 = True\n",
    "        check2 = True\n",
    "        check3 = True\n",
    "        for i,v in enumerate(list_strs):\n",
    "            if '$1,000 to $1,499' in v:\n",
    "                check1 = False\n",
    "                val1 = re.findall('v\\:(.*?\\d),',v)\n",
    "                studio_1000_1499 = float(val1[0])\n",
    "                onebed_1000_1499 = float(val1[1])\n",
    "                twobed_1000_1499 = float(val1[2])\n",
    "                threebed_1000_1499 = float(val1[3])\n",
    "            elif '$1,500 or more' in v:\n",
    "                check2 = False\n",
    "                val2 = re.findall('v\\:(.*?\\d),',v)\n",
    "                studio_1500_more = float(val2[0])\n",
    "                onebed_1500_more = float(val2[1])\n",
    "                twobed_1500_more = float(val2[2])\n",
    "                threebed_1500_more = float(val2[3])\n",
    "            elif '$750 to $999' in v:\n",
    "                check3 = False\n",
    "                val3 = re.findall('v\\:(.*?\\d),',v)\n",
    "                studio_750_999 = float(val3[0])\n",
    "                onebed_750_999 = float(val3[1])\n",
    "                twobed_750_999 = float(val3[2])\n",
    "                threebed_750_999 = float(val3[3])\n",
    "\n",
    "        if check1:\n",
    "            studio_1000_1499 = None\n",
    "            onebed_1000_1499 = None\n",
    "            twobed_1000_1499 = None\n",
    "            threebed_1000_1499 = None\n",
    "\n",
    "        if check2:\n",
    "            studio_1500_more = None\n",
    "            onebed_1500_more = None\n",
    "            twobed_1500_more = None\n",
    "            threebed_1500_more = None\n",
    "\n",
    "        if check3:\n",
    "            studio_750_999 = None\n",
    "            onebed_750_999 = None\n",
    "            twobed_750_999 = None\n",
    "            threebed_750_999 = None\n",
    "    \n",
    "    results.append((city_name,housing_units,housing_density,change_hunits,percent_of_rent_to_total,owned_homes,\n",
    "           med_homeval,med_rental_rate,med_owner_cost,med_own_cost_aspercentof_income,med_hval_aspercentof_medearn,\n",
    "          med_hcost_ownmortg,med_hcost_own_wo_mortg,hcost_aspercentof_hincome_ownmortg,hcost_as_perc_of_hincome_womortg,\n",
    "          med_real_estate_taxes,family_members_per_hunit,median_num_ofrooms,median_year_house_built,household_size_of_howners,household_size_for_renters,\n",
    "          med_year_moved_in_for_owners,med_year_renter_moved_in,studio_1000_1499,studio_1500_more,studio_750_999,onebed_1000_1499,onebed_1500_more,onebed_750_999,\n",
    "          twobed_1000_1499,twobed_1500_more,twobed_750_999,threebed_1000_1499,threebed_1500_more,threebed_750_999))\n",
    "    "
   ]
  },
  {
   "cell_type": "code",
   "execution_count": 38,
   "metadata": {},
   "outputs": [],
   "source": [
    "housing = pd.DataFrame(results,columns =['city_name','housing_units','housing_density','change_hunits','percent_of_rent_to_total','owned_homes',\n",
    "                'med_homeval','med_rental_rate','med_owner_cost','med_own_cost_aspercentof_income','med_hval_aspercentof_medearn',\n",
    "                'med_hcost_ownmortg','med_hcost_own_wo_mortg','hcost_aspercentof_hincome_ownmortg','hcost_as_perc_of_hincome_womortg',\n",
    "                'med_real_estate_taxes','family_members_per_hunit','median_num_ofrooms','median_year_house_built','household_size_of_howners','household_size_for_renters',\n",
    "                'med_year_moved_in_for_owners','med_year_renter_moved_in','studio_1000_1499','studio_1500_more','studio_750_999','onebed_1000_1499','onebed_1500_more',\n",
    "                 'onebed_750_999','twobed_1000_1499','twobed_1500_more','twobed_750_999','threebed_1000_1499','threebed_1500_more','threebed_750_999'] )"
   ]
  },
  {
   "cell_type": "code",
   "execution_count": 39,
   "metadata": {},
   "outputs": [
    {
     "data": {
      "text/plain": [
       "(453, 5)"
      ]
     },
     "execution_count": 39,
     "metadata": {},
     "output_type": "execute_result"
    }
   ],
   "source": [
    "len(results),len(not_found)"
   ]
  },
  {
   "cell_type": "code",
   "execution_count": 40,
   "metadata": {
    "scrolled": true
   },
   "outputs": [
    {
     "data": {
      "text/plain": [
       "['https://www.towncharts.com/California/Housing/Carmel-By-the-Sea-city-CA-Housing-data.html',\n",
       " 'https://www.towncharts.com/California/Housing/La-Cañada-Flintridge-city-CA-Housing-data.html',\n",
       " 'https://www.towncharts.com/California/Housing/Paso-Robles-city-CA-Housing-data.html',\n",
       " 'https://www.towncharts.com/California/Housing/St.-Helena-city-CA-Housing-data.html',\n",
       " 'https://www.towncharts.com/California/Housing/Ventura-city-CA-Housing-data.html']"
      ]
     },
     "execution_count": 40,
     "metadata": {},
     "output_type": "execute_result"
    }
   ],
   "source": [
    "not_found"
   ]
  },
  {
   "cell_type": "code",
   "execution_count": 41,
   "metadata": {},
   "outputs": [],
   "source": [
    "housing.to_csv(r'C:\\\\Users\\\\Crist\\\\AppData\\\\Local\\\\Temp\\\\American-Community-Survey-Project\\\\Towncharts_California_Housing.csv')"
   ]
  },
  {
   "cell_type": "markdown",
   "metadata": {},
   "source": [
    "Merging the latitude and longitude from the kaggle dataset"
   ]
  },
  {
   "cell_type": "code",
   "execution_count": 61,
   "metadata": {},
   "outputs": [
    {
     "data": {
      "text/plain": [
       "'C:\\\\Users\\\\Crist\\\\Towncharts_Project\\\\California_Housing_Project'"
      ]
     },
     "execution_count": 61,
     "metadata": {},
     "output_type": "execute_result"
    }
   ],
   "source": [
    "os.getcwd()"
   ]
  },
  {
   "cell_type": "code",
   "execution_count": 62,
   "metadata": {},
   "outputs": [],
   "source": [
    "cities_data = pd.read_csv(\"C:\\\\Users\\\\Crist\\\\Towncharts_Project\\\\California_Housing_Project\\\\datasets\\\\cal_cities_lat_long.csv\")"
   ]
  },
  {
   "cell_type": "code",
   "execution_count": 63,
   "metadata": {},
   "outputs": [],
   "source": [
    "housing = pd.read_csv(\"C:\\\\Users\\\\Crist\\\\Towncharts_Project\\\\California_Housing_Project//datasets/Towncharts_California_Housing.csv\",index_col =0)"
   ]
  },
  {
   "cell_type": "code",
   "execution_count": 64,
   "metadata": {},
   "outputs": [],
   "source": [
    "name_of_city =  []\n",
    "for indx,city in enumerate(housing.city_name):\n",
    "    ser_city = pd.Series(city)\n",
    "    before_len = len(name_of_city)\n",
    "    for aname in cities_data.Name:\n",
    "        if ser_city[ser_city.str.contains(aname)].empty == False:\n",
    "            name_of_city.append(aname)\n",
    "            break\n",
    "            \n",
    "    after_len = len(name_of_city)\n",
    "    if after_len == before_len:\n",
    "        name_of_city.append(None)"
   ]
  },
  {
   "cell_type": "code",
   "execution_count": 66,
   "metadata": {},
   "outputs": [],
   "source": [
    "housing['city'] = name_of_city "
   ]
  },
  {
   "cell_type": "code",
   "execution_count": 68,
   "metadata": {},
   "outputs": [],
   "source": [
    "california_housing = housing.merge(cities_data, left_on='city',right_on='Name')"
   ]
  },
  {
   "cell_type": "code",
   "execution_count": 69,
   "metadata": {},
   "outputs": [],
   "source": [
    "california_housing = california_housing.drop(columns = ['city_name','Name'])"
   ]
  },
  {
   "cell_type": "code",
   "execution_count": 70,
   "metadata": {},
   "outputs": [],
   "source": [
    "california_housing.to_csv('C:\\\\Users\\\\Crist\\\\Towncharts_Project\\\\California_Housing_Project\\\\datasets\\\\california_housing.csv')"
   ]
  },
  {
   "cell_type": "code",
   "execution_count": null,
   "metadata": {},
   "outputs": [],
   "source": [
    "population_links = {}\n",
    "for city in cities_data.Name:\n",
    "    population_links[city] = 'http://www.towncharts.com/California/Demographics/{}-city-CA-Demographics-data.html'.format(city)\n",
    "population_dict = {}\n",
    "for key,value in population_links.items():\n",
    "    ua = UserAgent()\n",
    "    t0 = time.time()\n",
    "    response = requests.get(value,{\"User-Agent\": ua.random})\n",
    "    \n",
    "    if response.status_code != 200:\n",
    "        continue\n",
    "    response_delay = time.time() - t0\n",
    "    time.sleep(10*response_delay)\n",
    "    soup = BeautifulSoup(response.text,'html.parser')\n",
    "    population_text_section = get_text_section('section1',soup)\n",
    "    population = searchpattern('it\\shas\\s(\\d.*?\\d)\\spopulation\\s',population_text_section)\n",
    "    population = refinestring({\"$\":\"\",\",\":\"\",\"%\":\"\"},population)\n",
    "    population_dict[key] = population\n",
    "population_dat = pd.DataFrame(list(population_dict.items()),columns =['city','population'] )"
   ]
  },
  {
   "cell_type": "code",
   "execution_count": 100,
   "metadata": {},
   "outputs": [],
   "source": [
    "population_dat = pd.DataFrame(list(population_dict.items()),columns =['city','population'] )"
   ]
  },
  {
   "cell_type": "code",
   "execution_count": 109,
   "metadata": {},
   "outputs": [],
   "source": [
    "population_dat['city'] = population_dat['city'].str.replace('-',' ')"
   ]
  },
  {
   "cell_type": "code",
   "execution_count": 111,
   "metadata": {},
   "outputs": [
    {
     "data": {
      "text/html": [
       "<div>\n",
       "<style scoped>\n",
       "    .dataframe tbody tr th:only-of-type {\n",
       "        vertical-align: middle;\n",
       "    }\n",
       "\n",
       "    .dataframe tbody tr th {\n",
       "        vertical-align: top;\n",
       "    }\n",
       "\n",
       "    .dataframe thead th {\n",
       "        text-align: right;\n",
       "    }\n",
       "</style>\n",
       "<table border=\"1\" class=\"dataframe\">\n",
       "  <thead>\n",
       "    <tr style=\"text-align: right;\">\n",
       "      <th></th>\n",
       "      <th>city</th>\n",
       "      <th>population</th>\n",
       "    </tr>\n",
       "  </thead>\n",
       "  <tbody>\n",
       "    <tr>\n",
       "      <th>0</th>\n",
       "      <td>Adelanto</td>\n",
       "      <td>32867.0</td>\n",
       "    </tr>\n",
       "    <tr>\n",
       "      <th>1</th>\n",
       "      <td>Agoura Hills</td>\n",
       "      <td>20736.0</td>\n",
       "    </tr>\n",
       "    <tr>\n",
       "      <th>2</th>\n",
       "      <td>Alameda</td>\n",
       "      <td>78246.0</td>\n",
       "    </tr>\n",
       "    <tr>\n",
       "      <th>3</th>\n",
       "      <td>Albany</td>\n",
       "      <td>19682.0</td>\n",
       "    </tr>\n",
       "    <tr>\n",
       "      <th>4</th>\n",
       "      <td>Alhambra</td>\n",
       "      <td>85168.0</td>\n",
       "    </tr>\n",
       "  </tbody>\n",
       "</table>\n",
       "</div>"
      ],
      "text/plain": [
       "           city  population\n",
       "0      Adelanto     32867.0\n",
       "1  Agoura Hills     20736.0\n",
       "2       Alameda     78246.0\n",
       "3        Albany     19682.0\n",
       "4      Alhambra     85168.0"
      ]
     },
     "execution_count": 111,
     "metadata": {},
     "output_type": "execute_result"
    }
   ],
   "source": [
    "population_dat.head()"
   ]
  },
  {
   "cell_type": "code",
   "execution_count": 112,
   "metadata": {},
   "outputs": [],
   "source": [
    "#california_housing = housing.merge(cities_data, left_on='city',right_on='Name')\n",
    "test_housing = california_housing.merge(population_dat, left_on='city',right_on='city')"
   ]
  },
  {
   "cell_type": "code",
   "execution_count": 115,
   "metadata": {},
   "outputs": [],
   "source": [
    "test_housing.to_csv('C:\\\\Users\\\\Crist\\\\Towncharts_Project\\\\California_Housing_Project\\\\datasets\\\\california_housing.csv')"
   ]
  },
  {
   "cell_type": "code",
   "execution_count": 8,
   "metadata": {},
   "outputs": [],
   "source": [
    "housing = pd.read_csv('C:\\\\Users\\\\Crist\\\\Towncharts_Project\\\\California_Housing_Project\\\\datasets\\\\california_housing.csv',index_col=0)"
   ]
  },
  {
   "cell_type": "code",
   "execution_count": 21,
   "metadata": {},
   "outputs": [],
   "source": [
    "area_dat = (pd.read_csv('https://raw.githubusercontent.com/jakevdp/PythonDataScienceHandbook/master/notebooks/data/california_cities.csv',index_col=0)).loc[:,['city','area_total_km2']]"
   ]
  },
  {
   "cell_type": "code",
   "execution_count": 11,
   "metadata": {},
   "outputs": [],
   "source": [
    "housing['city'] = housing['city'].str.replace(\" \",\"\")"
   ]
  },
  {
   "cell_type": "code",
   "execution_count": 26,
   "metadata": {},
   "outputs": [],
   "source": [
    "test_dat = housing.merge(area_dat,left_on='city',right_on='city',how='left')"
   ]
  },
  {
   "cell_type": "code",
   "execution_count": 32,
   "metadata": {},
   "outputs": [],
   "source": [
    "test_dat.to_csv('C:\\\\Users\\\\Crist\\\\Towncharts_Project\\\\California_Housing_Project\\\\datasets\\\\california_housing.csv')"
   ]
  },
  {
   "cell_type": "code",
   "execution_count": null,
   "metadata": {},
   "outputs": [],
   "source": [
    "# thelist = (city_name,housing_units,housing_density,change_hunits,percent_of_rent_to_total,owned_homes,\n",
    "#            med_homeval,med_rental_rate,med_owner_cost,med_own_cost_aspercentof_income,med_hval_aspercentof_medearn,\n",
    "#           med_hcost_ownmortg,med_hcost_own_wo_mortg,hcost_aspercentof_hincome_ownmortg,hcost_as_perc_of_hincome_womortg,\n",
    "#           med_real_estate_taxes,family_members_per_hunit,median_num_ofrooms,median_year_house_built,household_size_of_howners,household_size_for_renters,\n",
    "#           med_year_moved_in_for_owners,med_year_renter_moved_in,studio_1000_1499,studio_1500_more,studio_750_999,onebed_1000_1499,onebed_1500_more,onebed_750_999,\n",
    "#           twobed_1000_1499,twobed_1500_more,twobed_750_999,threebed_1000_1499,threebed_1500_more,threebed_750_999)\n",
    "\n",
    "# thestringlist = ['city_name','housing_units','housing_density','change_hunits','percent_of_rent_to_total','owned_homes',\n",
    "#                 'med_homeval','med_rental_rate','med_owner_cost','med_own_cost_aspercentof_income','med_hval_aspercentof_medearn',\n",
    "#                 'med_hcost_ownmortg','med_hcost_own_wo_mortg','hcost_aspercentof_hincome_ownmortg','hcost_as_perc_of_hincome_womortg',\n",
    "#                 'med_real_estate_taxes','family_members_per_hunit','median_num_ofrooms','median_year_house_built','household_size_of_howners','household_size_for_renters',\n",
    "#                 'med_year_moved_in_for_owners','med_year_renter_moved_in','studio_1000_1499','studio_1500_more','studio_750_999','onebed_1000_1499','onebed_1500_more',\n",
    "#                  'onebed_750_999','twobed_1000_1499','twobed_1500_more','twobed_750_999','threebed_1000_1499','threebed_1500_more','threebed_750_999']"
   ]
  },
  {
   "cell_type": "code",
   "execution_count": null,
   "metadata": {},
   "outputs": [],
   "source": []
  }
 ],
 "metadata": {
  "kernelspec": {
   "display_name": "Python 3",
   "language": "python",
   "name": "python3"
  },
  "language_info": {
   "codemirror_mode": {
    "name": "ipython",
    "version": 3
   },
   "file_extension": ".py",
   "mimetype": "text/x-python",
   "name": "python",
   "nbconvert_exporter": "python",
   "pygments_lexer": "ipython3",
   "version": "3.7.3"
  },
  "varInspector": {
   "cols": {
    "lenName": 16,
    "lenType": 16,
    "lenVar": 40
   },
   "kernels_config": {
    "python": {
     "delete_cmd_postfix": "",
     "delete_cmd_prefix": "del ",
     "library": "var_list.py",
     "varRefreshCmd": "print(var_dic_list())"
    },
    "r": {
     "delete_cmd_postfix": ") ",
     "delete_cmd_prefix": "rm(",
     "library": "var_list.r",
     "varRefreshCmd": "cat(var_dic_list()) "
    }
   },
   "types_to_exclude": [
    "module",
    "function",
    "builtin_function_or_method",
    "instance",
    "_Feature"
   ],
   "window_display": false
  }
 },
 "nbformat": 4,
 "nbformat_minor": 2
}
