{
 "cells": [
  {
   "cell_type": "code",
   "execution_count": 3,
   "metadata": {},
   "outputs": [],
   "source": [
    "import requests\n",
    "import re\n",
    "from bs4 import BeautifulSoup\n",
    "from googlesearch import search"
   ]
  },
  {
   "cell_type": "markdown",
   "metadata": {},
   "source": [
    "TownCharts.com will provide the initial set of variables.\n",
    "Other variables might be merged after ...\n",
    "\n",
    "First collect relevant variables from each figures that display consistent information from each of the tabs from San Luis Obispo: Demographics, Housing,Economy,Education,Healthcare. \n",
    "\n",
    "And then automate since its a structured website for cities from major metropolitan areas. "
   ]
  },
  {
   "cell_type": "markdown",
   "metadata": {},
   "source": [
    "First up is the housing the variables. Out of the 44 figures 18(3,9,13,16,19,20,22,23,25,26,27,31,32,33,34,35,38,39) will not be included due to incosistencies. Some cities might not have the figure information and an NA will be put in place. \n",
    "\n",
    "Note figure 24:will have several variables\n"
   ]
  },
  {
   "cell_type": "code",
   "execution_count": 4,
   "metadata": {},
   "outputs": [],
   "source": [
    "url = 'https://www.towncharts.com/California/Housing/San-Luis-Obispo-city-CA-Housing-data.html'\n",
    "r = requests.get(url)\n",
    "soup = BeautifulSoup(r.text,'html.parser')"
   ]
  },
  {
   "cell_type": "markdown",
   "metadata": {},
   "source": [
    "First Section of housing in towncharts will have the variables:# housing units, housing densitt, change in housing units, renter percent \n",
    "\n",
    "# **Note:Each housing tab has 4 sections in total**"
   ]
  },
  {
   "cell_type": "code",
   "execution_count": 5,
   "metadata": {},
   "outputs": [],
   "source": [
    "def get_text_section(target_section):\n",
    "    found = soup.find_all('div',attrs = {'class':target_section})\n",
    "    validsection = found[0]\n",
    "    text_section = validsection.find_all(text=True)\n",
    "    return text_section\n",
    "housing_text_section1 = get_text_section('section1')\n",
    "housing_text_section2 = get_text_section('section2')\n"
   ]
  },
  {
   "cell_type": "markdown",
   "metadata": {},
   "source": [
    "Data dictionary:\n",
    "<br>\n",
    "    housing_units: total number of housing units for the city\n",
    "    <br>\n",
    "    housing_density: housing density in the area as measured     by houses per square land mile\n",
    "    change_hunits: the change in housing units\n",
    "    "
   ]
  },
  {
   "cell_type": "code",
   "execution_count": 15,
   "metadata": {},
   "outputs": [
    {
     "name": "stdout",
     "output_type": "stream",
     "text": [
      "['$1,523']\n"
     ]
    }
   ],
   "source": [
    "def searchpattern(pattern,resultset):\n",
    "    '''\n",
    "    pattern:regex pattern\n",
    "    resultset: A beautiful soup result set\n",
    "    output housing variable of interest type string\n",
    "    '''\n",
    "    result = [i for i in resultset if re.search(pattern,i)]\n",
    "    if result == []:\n",
    "        result  = None\n",
    "    else:\n",
    "        result = re.findall(pattern,result[0])\n",
    "    return result\n",
    "\n",
    "#for variables need to remove everything but numbers\n",
    "#figure1 \n",
    "housing_units = searchpattern('it\\shas\\s(\\d.*?\\d)\\shousing\\sunits\\s',housing_text_section1)\n",
    "#figure2 \n",
    "housing_density = searchpattern('it\\shas\\s(\\d.*?\\d)\\shousing\\sdensity\\s',housing_text_section1)\n",
    "#figure4 \n",
    "change_hunits = searchpattern('it\\shas\\s(.*?%)\\schange\\sin\\s',housing_text_section1)\n",
    "#figure5\n",
    "percent_of_rent_to_total = searchpattern('it\\shas\\s(\\d.*?%)\\sRenter\\sPercent\\s',housing_text_section1)\n",
    "#figure 6\n",
    "owned_homes = searchpattern('it\\shas\\s(\\d.*?%)\\sOwner\\sPercent\\s',housing_text_section1)\n",
    "#figure 7 median home value\n",
    "Med_homeval = searchpattern('it\\shas\\s(.*?\\d)\\smedian\\shome\\svalue\\s',housing_text_section2)\n",
    "#figure 8 median rental rate\n",
    "Med_rental_rate = searchpattern('it\\shas\\s(.*?\\d)\\srental\\srates\\s',housing_text_section2)\n",
    "#figure 10 median owner costs\n",
    "Med_owner_cost = searchpattern(\"it\\shas\\s(.*?\\d)\\smedian\\sownership\\scost\\s\",housing_text_section2)\n",
    "#figure 11\n",
    "Med_OwnCostas_Perc_\n",
    "#figure 12 median home value as a percent of a median workers earnings\n",
    "Med_HCasPerc_of_MedEarn = searchpattern(\"it\\shas\\s(\\d.*?%)\\smedian\\shome\\svalue\\sas\\s\",housing_text_section2)\n"
   ]
  },
  {
   "cell_type": "code",
   "execution_count": 16,
   "metadata": {},
   "outputs": [
    {
     "name": "stdout",
     "output_type": "stream",
     "text": [
      "['1155%']\n"
     ]
    }
   ],
   "source": [
    "print(Med_HCAsPerc_of_MedEarn)"
   ]
  },
  {
   "cell_type": "code",
   "execution_count": 18,
   "metadata": {},
   "outputs": [
    {
     "name": "stdout",
     "output_type": "stream",
     "text": [
      "[' shows the number of owner housing units and it has 38.3% Owner Percent which is the 4th smallest Owner Percent of all the other places in the area. ']\n"
     ]
    }
   ],
   "source": [
    "testing = [i for i in housing_text_section1 if re.search('it\\shas\\s(\\d.*?%)\\sOwner\\sPercent\\s',i)]\n",
    "print(testing)"
   ]
  },
  {
   "cell_type": "code",
   "execution_count": 121,
   "metadata": {},
   "outputs": [
    {
     "name": "stdout",
     "output_type": "stream",
     "text": [
      "['20,332']\n"
     ]
    }
   ],
   "source": [
    "# housing_units=[i for i in housing_text_section1 if re.search('it\\shas\\s(\\d.*?\\d)\\shousing\\sunits\\s',i)]\n",
    "# if housing_units == []:\n",
    "#     housing_units = None\n",
    "# else:\n",
    "#     housing_units = re.findall('it\\shas\\s(\\d.*?\\d)\\shousing\\sunits\\s',housing_units[0])\n",
    "    \n",
    "    \n",
    "        \n",
    "# print(housing_units)\n",
    "# housing_change = [i for i in housing_text_section1 if re.search('it\\shas\\s(.*?%)\\schange\\sin\\s',i)]\n",
    "# h_change = re.findall('it\\shas\\s(.*?%)\\schange\\sin\\s',housing_change[0])\n",
    "# print(h_change)\n",
    "# Percent_of_Rent_to_Total = [i for i in housing_text_section1 if re.search('it\\shas\\s(\\d.*?%)\\sRenter\\sPercent\\s',i)]\n",
    "# print(Percent_of_Rent_to_Total)"
   ]
  },
  {
   "cell_type": "markdown",
   "metadata": {},
   "source": [
    "#Automation\n",
    "#list of cities gathered from the major metropolitan areas"
   ]
  },
  {
   "cell_type": "code",
   "execution_count": 41,
   "metadata": {
    "scrolled": true
   },
   "outputs": [],
   "source": [
    "city_list = [\"San Francico\",\"San Luis Obispo\"]\n"
   ]
  },
  {
   "cell_type": "markdown",
   "metadata": {},
   "source": [
    "pause : Lapse to wait between HTTP requests. Lapse too short may cause Google to block your IP. Keeping significant lapse will make your program slow but its safe and better option."
   ]
  },
  {
   "cell_type": "code",
   "execution_count": 42,
   "metadata": {},
   "outputs": [
    {
     "name": "stdout",
     "output_type": "stream",
     "text": [
      "['https://www.towncharts.com/California/Housing/San-Francisco-city-CA-Housing-data.html', 'http://www.towncharts.com/California/Housing/San-Luis-Obispo-County-CA-Housing-data.html']\n"
     ]
    }
   ],
   "source": [
    "results = []\n",
    "#towncharts Housing san francisco CA\n",
    "for city in city_list:\n",
    "    query = \"towncharts Housing {} CA\".format(city)\n",
    "    the_url = list(search(query,tld = \"co.in\",num =1,stop =1,pause =2))[0]\n",
    "    results.append(the_url)\n",
    "print(results)"
   ]
  },
  {
   "cell_type": "code",
   "execution_count": null,
   "metadata": {},
   "outputs": [],
   "source": []
  }
 ],
 "metadata": {
  "kernelspec": {
   "display_name": "Python 3",
   "language": "python",
   "name": "python3"
  },
  "language_info": {
   "codemirror_mode": {
    "name": "ipython",
    "version": 3
   },
   "file_extension": ".py",
   "mimetype": "text/x-python",
   "name": "python",
   "nbconvert_exporter": "python",
   "pygments_lexer": "ipython3",
   "version": "3.7.3"
  },
  "varInspector": {
   "cols": {
    "lenName": 16,
    "lenType": 16,
    "lenVar": 40
   },
   "kernels_config": {
    "python": {
     "delete_cmd_postfix": "",
     "delete_cmd_prefix": "del ",
     "library": "var_list.py",
     "varRefreshCmd": "print(var_dic_list())"
    },
    "r": {
     "delete_cmd_postfix": ") ",
     "delete_cmd_prefix": "rm(",
     "library": "var_list.r",
     "varRefreshCmd": "cat(var_dic_list()) "
    }
   },
   "types_to_exclude": [
    "module",
    "function",
    "builtin_function_or_method",
    "instance",
    "_Feature"
   ],
   "window_display": false
  }
 },
 "nbformat": 4,
 "nbformat_minor": 2
}
